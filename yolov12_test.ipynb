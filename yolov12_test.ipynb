{
  "nbformat": 4,
  "nbformat_minor": 0,
  "metadata": {
    "colab": {
      "provenance": [],
      "gpuType": "T4",
      "authorship_tag": "ABX9TyNhHRhdYdXAfx/e/sMInnoe",
      "include_colab_link": true
    },
    "kernelspec": {
      "name": "python3",
      "display_name": "Python 3"
    },
    "language_info": {
      "name": "python"
    },
    "accelerator": "GPU"
  },
  "cells": [
    {
      "cell_type": "markdown",
      "metadata": {
        "id": "view-in-github",
        "colab_type": "text"
      },
      "source": [
        "<a href=\"https://colab.research.google.com/github/caseychoi/HelloWorld/blob/main/yolov12_test.ipynb\" target=\"_parent\"><img src=\"https://colab.research.google.com/assets/colab-badge.svg\" alt=\"Open In Colab\"/></a>"
      ]
    },
    {
      "cell_type": "code",
      "execution_count": 1,
      "metadata": {
        "colab": {
          "base_uri": "https://localhost:8080/"
        },
        "id": "fFMCnYM-rzV7",
        "outputId": "2acd71d7-6ea9-40f6-ec38-54d8c3cb58e0"
      },
      "outputs": [
        {
          "output_type": "stream",
          "name": "stdout",
          "text": [
            "Collecting ultralytics\n",
            "  Using cached ultralytics-8.3.174-py3-none-any.whl.metadata (37 kB)\n",
            "Requirement already satisfied: numpy>=1.23.0 in /usr/local/lib/python3.11/dist-packages (from ultralytics) (2.0.2)\n",
            "Requirement already satisfied: matplotlib>=3.3.0 in /usr/local/lib/python3.11/dist-packages (from ultralytics) (3.10.0)\n",
            "Requirement already satisfied: opencv-python>=4.6.0 in /usr/local/lib/python3.11/dist-packages (from ultralytics) (4.12.0.88)\n",
            "Requirement already satisfied: pillow>=7.1.2 in /usr/local/lib/python3.11/dist-packages (from ultralytics) (11.3.0)\n",
            "Requirement already satisfied: pyyaml>=5.3.1 in /usr/local/lib/python3.11/dist-packages (from ultralytics) (6.0.2)\n",
            "Requirement already satisfied: requests>=2.23.0 in /usr/local/lib/python3.11/dist-packages (from ultralytics) (2.32.3)\n",
            "Requirement already satisfied: scipy>=1.4.1 in /usr/local/lib/python3.11/dist-packages (from ultralytics) (1.16.0)\n",
            "Requirement already satisfied: torch>=1.8.0 in /usr/local/lib/python3.11/dist-packages (from ultralytics) (2.6.0+cu124)\n",
            "Requirement already satisfied: torchvision>=0.9.0 in /usr/local/lib/python3.11/dist-packages (from ultralytics) (0.21.0+cu124)\n",
            "Requirement already satisfied: tqdm>=4.64.0 in /usr/local/lib/python3.11/dist-packages (from ultralytics) (4.67.1)\n",
            "Requirement already satisfied: psutil in /usr/local/lib/python3.11/dist-packages (from ultralytics) (5.9.5)\n",
            "Requirement already satisfied: py-cpuinfo in /usr/local/lib/python3.11/dist-packages (from ultralytics) (9.0.0)\n",
            "Requirement already satisfied: pandas>=1.1.4 in /usr/local/lib/python3.11/dist-packages (from ultralytics) (2.2.2)\n",
            "Collecting ultralytics-thop>=2.0.0 (from ultralytics)\n",
            "  Using cached ultralytics_thop-2.0.15-py3-none-any.whl.metadata (14 kB)\n",
            "Requirement already satisfied: contourpy>=1.0.1 in /usr/local/lib/python3.11/dist-packages (from matplotlib>=3.3.0->ultralytics) (1.3.2)\n",
            "Requirement already satisfied: cycler>=0.10 in /usr/local/lib/python3.11/dist-packages (from matplotlib>=3.3.0->ultralytics) (0.12.1)\n",
            "Requirement already satisfied: fonttools>=4.22.0 in /usr/local/lib/python3.11/dist-packages (from matplotlib>=3.3.0->ultralytics) (4.59.0)\n",
            "Requirement already satisfied: kiwisolver>=1.3.1 in /usr/local/lib/python3.11/dist-packages (from matplotlib>=3.3.0->ultralytics) (1.4.8)\n",
            "Requirement already satisfied: packaging>=20.0 in /usr/local/lib/python3.11/dist-packages (from matplotlib>=3.3.0->ultralytics) (25.0)\n",
            "Requirement already satisfied: pyparsing>=2.3.1 in /usr/local/lib/python3.11/dist-packages (from matplotlib>=3.3.0->ultralytics) (3.2.3)\n",
            "Requirement already satisfied: python-dateutil>=2.7 in /usr/local/lib/python3.11/dist-packages (from matplotlib>=3.3.0->ultralytics) (2.9.0.post0)\n",
            "Requirement already satisfied: pytz>=2020.1 in /usr/local/lib/python3.11/dist-packages (from pandas>=1.1.4->ultralytics) (2025.2)\n",
            "Requirement already satisfied: tzdata>=2022.7 in /usr/local/lib/python3.11/dist-packages (from pandas>=1.1.4->ultralytics) (2025.2)\n",
            "Requirement already satisfied: charset-normalizer<4,>=2 in /usr/local/lib/python3.11/dist-packages (from requests>=2.23.0->ultralytics) (3.4.2)\n",
            "Requirement already satisfied: idna<4,>=2.5 in /usr/local/lib/python3.11/dist-packages (from requests>=2.23.0->ultralytics) (3.10)\n",
            "Requirement already satisfied: urllib3<3,>=1.21.1 in /usr/local/lib/python3.11/dist-packages (from requests>=2.23.0->ultralytics) (2.5.0)\n",
            "Requirement already satisfied: certifi>=2017.4.17 in /usr/local/lib/python3.11/dist-packages (from requests>=2.23.0->ultralytics) (2025.7.14)\n",
            "Requirement already satisfied: filelock in /usr/local/lib/python3.11/dist-packages (from torch>=1.8.0->ultralytics) (3.18.0)\n",
            "Requirement already satisfied: typing-extensions>=4.10.0 in /usr/local/lib/python3.11/dist-packages (from torch>=1.8.0->ultralytics) (4.14.1)\n",
            "Requirement already satisfied: networkx in /usr/local/lib/python3.11/dist-packages (from torch>=1.8.0->ultralytics) (3.5)\n",
            "Requirement already satisfied: jinja2 in /usr/local/lib/python3.11/dist-packages (from torch>=1.8.0->ultralytics) (3.1.6)\n",
            "Requirement already satisfied: fsspec in /usr/local/lib/python3.11/dist-packages (from torch>=1.8.0->ultralytics) (2025.3.0)\n",
            "Collecting nvidia-cuda-nvrtc-cu12==12.4.127 (from torch>=1.8.0->ultralytics)\n",
            "  Using cached nvidia_cuda_nvrtc_cu12-12.4.127-py3-none-manylinux2014_x86_64.whl.metadata (1.5 kB)\n",
            "Collecting nvidia-cuda-runtime-cu12==12.4.127 (from torch>=1.8.0->ultralytics)\n",
            "  Using cached nvidia_cuda_runtime_cu12-12.4.127-py3-none-manylinux2014_x86_64.whl.metadata (1.5 kB)\n",
            "Collecting nvidia-cuda-cupti-cu12==12.4.127 (from torch>=1.8.0->ultralytics)\n",
            "  Using cached nvidia_cuda_cupti_cu12-12.4.127-py3-none-manylinux2014_x86_64.whl.metadata (1.6 kB)\n",
            "Collecting nvidia-cudnn-cu12==9.1.0.70 (from torch>=1.8.0->ultralytics)\n",
            "  Using cached nvidia_cudnn_cu12-9.1.0.70-py3-none-manylinux2014_x86_64.whl.metadata (1.6 kB)\n",
            "Collecting nvidia-cublas-cu12==12.4.5.8 (from torch>=1.8.0->ultralytics)\n",
            "  Using cached nvidia_cublas_cu12-12.4.5.8-py3-none-manylinux2014_x86_64.whl.metadata (1.5 kB)\n",
            "Collecting nvidia-cufft-cu12==11.2.1.3 (from torch>=1.8.0->ultralytics)\n",
            "  Using cached nvidia_cufft_cu12-11.2.1.3-py3-none-manylinux2014_x86_64.whl.metadata (1.5 kB)\n",
            "Collecting nvidia-curand-cu12==10.3.5.147 (from torch>=1.8.0->ultralytics)\n",
            "  Using cached nvidia_curand_cu12-10.3.5.147-py3-none-manylinux2014_x86_64.whl.metadata (1.5 kB)\n",
            "Collecting nvidia-cusolver-cu12==11.6.1.9 (from torch>=1.8.0->ultralytics)\n",
            "  Using cached nvidia_cusolver_cu12-11.6.1.9-py3-none-manylinux2014_x86_64.whl.metadata (1.6 kB)\n",
            "Collecting nvidia-cusparse-cu12==12.3.1.170 (from torch>=1.8.0->ultralytics)\n",
            "  Using cached nvidia_cusparse_cu12-12.3.1.170-py3-none-manylinux2014_x86_64.whl.metadata (1.6 kB)\n",
            "Requirement already satisfied: nvidia-cusparselt-cu12==0.6.2 in /usr/local/lib/python3.11/dist-packages (from torch>=1.8.0->ultralytics) (0.6.2)\n",
            "Requirement already satisfied: nvidia-nccl-cu12==2.21.5 in /usr/local/lib/python3.11/dist-packages (from torch>=1.8.0->ultralytics) (2.21.5)\n",
            "Requirement already satisfied: nvidia-nvtx-cu12==12.4.127 in /usr/local/lib/python3.11/dist-packages (from torch>=1.8.0->ultralytics) (12.4.127)\n",
            "Collecting nvidia-nvjitlink-cu12==12.4.127 (from torch>=1.8.0->ultralytics)\n",
            "  Using cached nvidia_nvjitlink_cu12-12.4.127-py3-none-manylinux2014_x86_64.whl.metadata (1.5 kB)\n",
            "Requirement already satisfied: triton==3.2.0 in /usr/local/lib/python3.11/dist-packages (from torch>=1.8.0->ultralytics) (3.2.0)\n",
            "Requirement already satisfied: sympy==1.13.1 in /usr/local/lib/python3.11/dist-packages (from torch>=1.8.0->ultralytics) (1.13.1)\n",
            "Requirement already satisfied: mpmath<1.4,>=1.1.0 in /usr/local/lib/python3.11/dist-packages (from sympy==1.13.1->torch>=1.8.0->ultralytics) (1.3.0)\n",
            "Requirement already satisfied: six>=1.5 in /usr/local/lib/python3.11/dist-packages (from python-dateutil>=2.7->matplotlib>=3.3.0->ultralytics) (1.17.0)\n",
            "Requirement already satisfied: MarkupSafe>=2.0 in /usr/local/lib/python3.11/dist-packages (from jinja2->torch>=1.8.0->ultralytics) (3.0.2)\n",
            "Using cached ultralytics-8.3.174-py3-none-any.whl (1.0 MB)\n",
            "Using cached nvidia_cublas_cu12-12.4.5.8-py3-none-manylinux2014_x86_64.whl (363.4 MB)\n",
            "Using cached nvidia_cuda_cupti_cu12-12.4.127-py3-none-manylinux2014_x86_64.whl (13.8 MB)\n",
            "Using cached nvidia_cuda_nvrtc_cu12-12.4.127-py3-none-manylinux2014_x86_64.whl (24.6 MB)\n",
            "Using cached nvidia_cuda_runtime_cu12-12.4.127-py3-none-manylinux2014_x86_64.whl (883 kB)\n",
            "Using cached nvidia_cudnn_cu12-9.1.0.70-py3-none-manylinux2014_x86_64.whl (664.8 MB)\n",
            "Using cached nvidia_cufft_cu12-11.2.1.3-py3-none-manylinux2014_x86_64.whl (211.5 MB)\n",
            "Using cached nvidia_curand_cu12-10.3.5.147-py3-none-manylinux2014_x86_64.whl (56.3 MB)\n",
            "Using cached nvidia_cusolver_cu12-11.6.1.9-py3-none-manylinux2014_x86_64.whl (127.9 MB)\n",
            "Using cached nvidia_cusparse_cu12-12.3.1.170-py3-none-manylinux2014_x86_64.whl (207.5 MB)\n",
            "Using cached nvidia_nvjitlink_cu12-12.4.127-py3-none-manylinux2014_x86_64.whl (21.1 MB)\n",
            "Using cached ultralytics_thop-2.0.15-py3-none-any.whl (28 kB)\n",
            "Installing collected packages: nvidia-nvjitlink-cu12, nvidia-curand-cu12, nvidia-cufft-cu12, nvidia-cuda-runtime-cu12, nvidia-cuda-nvrtc-cu12, nvidia-cuda-cupti-cu12, nvidia-cublas-cu12, nvidia-cusparse-cu12, nvidia-cudnn-cu12, nvidia-cusolver-cu12, ultralytics-thop, ultralytics\n",
            "  Attempting uninstall: nvidia-nvjitlink-cu12\n",
            "    Found existing installation: nvidia-nvjitlink-cu12 12.5.82\n",
            "    Uninstalling nvidia-nvjitlink-cu12-12.5.82:\n",
            "      Successfully uninstalled nvidia-nvjitlink-cu12-12.5.82\n",
            "  Attempting uninstall: nvidia-curand-cu12\n",
            "    Found existing installation: nvidia-curand-cu12 10.3.6.82\n",
            "    Uninstalling nvidia-curand-cu12-10.3.6.82:\n",
            "      Successfully uninstalled nvidia-curand-cu12-10.3.6.82\n",
            "  Attempting uninstall: nvidia-cufft-cu12\n",
            "    Found existing installation: nvidia-cufft-cu12 11.2.3.61\n",
            "    Uninstalling nvidia-cufft-cu12-11.2.3.61:\n",
            "      Successfully uninstalled nvidia-cufft-cu12-11.2.3.61\n",
            "  Attempting uninstall: nvidia-cuda-runtime-cu12\n",
            "    Found existing installation: nvidia-cuda-runtime-cu12 12.5.82\n",
            "    Uninstalling nvidia-cuda-runtime-cu12-12.5.82:\n",
            "      Successfully uninstalled nvidia-cuda-runtime-cu12-12.5.82\n",
            "  Attempting uninstall: nvidia-cuda-nvrtc-cu12\n",
            "    Found existing installation: nvidia-cuda-nvrtc-cu12 12.5.82\n",
            "    Uninstalling nvidia-cuda-nvrtc-cu12-12.5.82:\n",
            "      Successfully uninstalled nvidia-cuda-nvrtc-cu12-12.5.82\n",
            "  Attempting uninstall: nvidia-cuda-cupti-cu12\n",
            "    Found existing installation: nvidia-cuda-cupti-cu12 12.5.82\n",
            "    Uninstalling nvidia-cuda-cupti-cu12-12.5.82:\n",
            "      Successfully uninstalled nvidia-cuda-cupti-cu12-12.5.82\n",
            "  Attempting uninstall: nvidia-cublas-cu12\n",
            "    Found existing installation: nvidia-cublas-cu12 12.5.3.2\n",
            "    Uninstalling nvidia-cublas-cu12-12.5.3.2:\n",
            "      Successfully uninstalled nvidia-cublas-cu12-12.5.3.2\n",
            "  Attempting uninstall: nvidia-cusparse-cu12\n",
            "    Found existing installation: nvidia-cusparse-cu12 12.5.1.3\n",
            "    Uninstalling nvidia-cusparse-cu12-12.5.1.3:\n",
            "      Successfully uninstalled nvidia-cusparse-cu12-12.5.1.3\n",
            "  Attempting uninstall: nvidia-cudnn-cu12\n",
            "    Found existing installation: nvidia-cudnn-cu12 9.3.0.75\n",
            "    Uninstalling nvidia-cudnn-cu12-9.3.0.75:\n",
            "      Successfully uninstalled nvidia-cudnn-cu12-9.3.0.75\n",
            "  Attempting uninstall: nvidia-cusolver-cu12\n",
            "    Found existing installation: nvidia-cusolver-cu12 11.6.3.83\n",
            "    Uninstalling nvidia-cusolver-cu12-11.6.3.83:\n",
            "      Successfully uninstalled nvidia-cusolver-cu12-11.6.3.83\n",
            "Successfully installed nvidia-cublas-cu12-12.4.5.8 nvidia-cuda-cupti-cu12-12.4.127 nvidia-cuda-nvrtc-cu12-12.4.127 nvidia-cuda-runtime-cu12-12.4.127 nvidia-cudnn-cu12-9.1.0.70 nvidia-cufft-cu12-11.2.1.3 nvidia-curand-cu12-10.3.5.147 nvidia-cusolver-cu12-11.6.1.9 nvidia-cusparse-cu12-12.3.1.170 nvidia-nvjitlink-cu12-12.4.127 ultralytics-8.3.174 ultralytics-thop-2.0.15\n"
          ]
        }
      ],
      "source": [
        "!pip install ultralytics\n",
        "\n"
      ]
    },
    {
      "cell_type": "code",
      "source": [
        "from ultralytics import YOLO\n",
        "\n",
        "# Load a COCO-pretrained YOLO12n model\n",
        "model = YOLO(\"yolo12n.pt\")\n",
        "\n",
        "# Train the model on the COCO8 example dataset for 100 epochs\n",
        "results = model.train(data=\"coco8.yaml\", epochs=100, imgsz=640)\n",
        "\n"
      ],
      "metadata": {
        "colab": {
          "base_uri": "https://localhost:8080/"
        },
        "id": "ww3VvMNStCar",
        "outputId": "65171597-cd28-4162-fa86-fcbb25732b37"
      },
      "execution_count": 2,
      "outputs": [
        {
          "output_type": "stream",
          "name": "stdout",
          "text": [
            "Creating new Ultralytics Settings v0.0.6 file ✅ \n",
            "View Ultralytics Settings with 'yolo settings' or at '/root/.config/Ultralytics/settings.json'\n",
            "Update Settings with 'yolo settings key=value', i.e. 'yolo settings runs_dir=path/to/dir'. For help see https://docs.ultralytics.com/quickstart/#ultralytics-settings.\n"
          ]
        },
        {
          "output_type": "stream",
          "name": "stderr",
          "text": [
            "Downloading https://github.com/ultralytics/assets/releases/download/v8.3.0/yolo12n.pt to 'yolo12n.pt': 100%|██████████| 5.34M/5.34M [00:00<00:00, 81.9MB/s]\n"
          ]
        },
        {
          "output_type": "stream",
          "name": "stdout",
          "text": [
            "Ultralytics 8.3.174 🚀 Python-3.11.13 torch-2.6.0+cu124 CUDA:0 (Tesla T4, 15095MiB)\n",
            "\u001b[34m\u001b[1mengine/trainer: \u001b[0magnostic_nms=False, amp=True, augment=False, auto_augment=randaugment, batch=16, bgr=0.0, box=7.5, cache=False, cfg=None, classes=None, close_mosaic=10, cls=0.5, conf=None, copy_paste=0.0, copy_paste_mode=flip, cos_lr=False, cutmix=0.0, data=coco8.yaml, degrees=0.0, deterministic=True, device=None, dfl=1.5, dnn=False, dropout=0.0, dynamic=False, embed=None, epochs=100, erasing=0.4, exist_ok=False, fliplr=0.5, flipud=0.0, format=torchscript, fraction=1.0, freeze=None, half=False, hsv_h=0.015, hsv_s=0.7, hsv_v=0.4, imgsz=640, int8=False, iou=0.7, keras=False, kobj=1.0, line_width=None, lr0=0.01, lrf=0.01, mask_ratio=4, max_det=300, mixup=0.0, mode=train, model=yolo12n.pt, momentum=0.937, mosaic=1.0, multi_scale=False, name=train, nbs=64, nms=False, opset=None, optimize=False, optimizer=auto, overlap_mask=True, patience=100, perspective=0.0, plots=True, pose=12.0, pretrained=True, profile=False, project=None, rect=False, resume=False, retina_masks=False, save=True, save_conf=False, save_crop=False, save_dir=runs/detect/train, save_frames=False, save_json=False, save_period=-1, save_txt=False, scale=0.5, seed=0, shear=0.0, show=False, show_boxes=True, show_conf=True, show_labels=True, simplify=True, single_cls=False, source=None, split=val, stream_buffer=False, task=detect, time=None, tracker=botsort.yaml, translate=0.1, val=True, verbose=True, vid_stride=1, visualize=False, warmup_bias_lr=0.1, warmup_epochs=3.0, warmup_momentum=0.8, weight_decay=0.0005, workers=8, workspace=None\n",
            "\n",
            "WARNING ⚠️ Dataset 'coco8.yaml' images not found, missing path '/content/datasets/coco8/images/val'\n"
          ]
        },
        {
          "output_type": "stream",
          "name": "stderr",
          "text": [
            "Downloading https://ultralytics.com/assets/coco8.zip to '/content/datasets/coco8.zip': 100%|██████████| 433k/433k [00:00<00:00, 12.3MB/s]\n",
            "Unzipping /content/datasets/coco8.zip to /content/datasets/coco8...: 100%|██████████| 25/25 [00:00<00:00, 4314.95file/s]"
          ]
        },
        {
          "output_type": "stream",
          "name": "stdout",
          "text": [
            "Dataset download success ✅ (0.6s), saved to \u001b[1m/content/datasets\u001b[0m\n",
            "\n"
          ]
        },
        {
          "output_type": "stream",
          "name": "stderr",
          "text": [
            "\n",
            "Downloading https://ultralytics.com/assets/Arial.ttf to '/root/.config/Ultralytics/Arial.ttf': 100%|██████████| 755k/755k [00:00<00:00, 19.9MB/s]"
          ]
        },
        {
          "output_type": "stream",
          "name": "stdout",
          "text": [
            "\n",
            "                   from  n    params  module                                       arguments                     \n",
            "  0                  -1  1       464  ultralytics.nn.modules.conv.Conv             [3, 16, 3, 2]                 \n",
            "  1                  -1  1      4672  ultralytics.nn.modules.conv.Conv             [16, 32, 3, 2]                \n",
            "  2                  -1  1      6640  ultralytics.nn.modules.block.C3k2            [32, 64, 1, False, 0.25]      \n",
            "  3                  -1  1     36992  ultralytics.nn.modules.conv.Conv             [64, 64, 3, 2]                \n",
            "  4                  -1  1     26080  ultralytics.nn.modules.block.C3k2            [64, 128, 1, False, 0.25]     \n",
            "  5                  -1  1    147712  ultralytics.nn.modules.conv.Conv             [128, 128, 3, 2]              \n",
            "  6                  -1  2    180864  ultralytics.nn.modules.block.A2C2f           [128, 128, 2, True, 4]        \n",
            "  7                  -1  1    295424  ultralytics.nn.modules.conv.Conv             [128, 256, 3, 2]              \n",
            "  8                  -1  2    689408  ultralytics.nn.modules.block.A2C2f           [256, 256, 2, True, 1]        \n",
            "  9                  -1  1         0  torch.nn.modules.upsampling.Upsample         [None, 2, 'nearest']          \n",
            " 10             [-1, 6]  1         0  ultralytics.nn.modules.conv.Concat           [1]                           \n",
            " 11                  -1  1     86912  ultralytics.nn.modules.block.A2C2f           [384, 128, 1, False, -1]      \n",
            " 12                  -1  1         0  torch.nn.modules.upsampling.Upsample         [None, 2, 'nearest']          \n",
            " 13             [-1, 4]  1         0  ultralytics.nn.modules.conv.Concat           [1]                           \n",
            " 14                  -1  1     24000  ultralytics.nn.modules.block.A2C2f           [256, 64, 1, False, -1]       \n",
            " 15                  -1  1     36992  ultralytics.nn.modules.conv.Conv             [64, 64, 3, 2]                \n",
            " 16            [-1, 11]  1         0  ultralytics.nn.modules.conv.Concat           [1]                           \n",
            " 17                  -1  1     74624  ultralytics.nn.modules.block.A2C2f           [192, 128, 1, False, -1]      \n",
            " 18                  -1  1    147712  ultralytics.nn.modules.conv.Conv             [128, 128, 3, 2]              \n",
            " 19             [-1, 8]  1         0  ultralytics.nn.modules.conv.Concat           [1]                           \n",
            " 20                  -1  1    378880  ultralytics.nn.modules.block.C3k2            [384, 256, 1, True]           \n"
          ]
        },
        {
          "output_type": "stream",
          "name": "stderr",
          "text": [
            "\n"
          ]
        },
        {
          "output_type": "stream",
          "name": "stdout",
          "text": [
            " 21        [14, 17, 20]  1    464912  ultralytics.nn.modules.head.Detect           [80, [64, 128, 256]]          \n",
            "YOLOv12n summary: 272 layers, 2,602,288 parameters, 2,602,272 gradients, 6.7 GFLOPs\n",
            "\n",
            "Transferred 691/691 items from pretrained weights\n",
            "Freezing layer 'model.21.dfl.conv.weight'\n",
            "\u001b[34m\u001b[1mAMP: \u001b[0mrunning Automatic Mixed Precision (AMP) checks...\n"
          ]
        },
        {
          "output_type": "stream",
          "name": "stderr",
          "text": [
            "Downloading https://github.com/ultralytics/assets/releases/download/v8.3.0/yolo11n.pt to 'yolo11n.pt': 100%|██████████| 5.35M/5.35M [00:00<00:00, 68.5MB/s]\n"
          ]
        },
        {
          "output_type": "stream",
          "name": "stdout",
          "text": [
            "\u001b[34m\u001b[1mAMP: \u001b[0mchecks passed ✅\n",
            "\u001b[34m\u001b[1mtrain: \u001b[0mFast image access ✅ (ping: 0.0±0.0 ms, read: 1020.5±298.3 MB/s, size: 50.0 KB)\n"
          ]
        },
        {
          "output_type": "stream",
          "name": "stderr",
          "text": [
            "\u001b[34m\u001b[1mtrain: \u001b[0mScanning /content/datasets/coco8/labels/train... 4 images, 0 backgrounds, 0 corrupt: 100%|██████████| 4/4 [00:00<00:00, 3410.00it/s]"
          ]
        },
        {
          "output_type": "stream",
          "name": "stdout",
          "text": [
            "\u001b[34m\u001b[1mtrain: \u001b[0mNew cache created: /content/datasets/coco8/labels/train.cache\n"
          ]
        },
        {
          "output_type": "stream",
          "name": "stderr",
          "text": [
            "\n"
          ]
        },
        {
          "output_type": "stream",
          "name": "stdout",
          "text": [
            "\u001b[34m\u001b[1malbumentations: \u001b[0mBlur(p=0.01, blur_limit=(3, 7)), MedianBlur(p=0.01, blur_limit=(3, 7)), ToGray(p=0.01, method='weighted_average', num_output_channels=3), CLAHE(p=0.01, clip_limit=(1.0, 4.0), tile_grid_size=(8, 8))\n",
            "\u001b[34m\u001b[1mval: \u001b[0mFast image access ✅ (ping: 0.0±0.0 ms, read: 461.3±316.7 MB/s, size: 54.0 KB)\n"
          ]
        },
        {
          "output_type": "stream",
          "name": "stderr",
          "text": [
            "\u001b[34m\u001b[1mval: \u001b[0mScanning /content/datasets/coco8/labels/val... 4 images, 0 backgrounds, 0 corrupt: 100%|██████████| 4/4 [00:00<00:00, 1354.09it/s]"
          ]
        },
        {
          "output_type": "stream",
          "name": "stdout",
          "text": [
            "\u001b[34m\u001b[1mval: \u001b[0mNew cache created: /content/datasets/coco8/labels/val.cache\n"
          ]
        },
        {
          "output_type": "stream",
          "name": "stderr",
          "text": [
            "\n"
          ]
        },
        {
          "output_type": "stream",
          "name": "stdout",
          "text": [
            "Plotting labels to runs/detect/train/labels.jpg... \n",
            "\u001b[34m\u001b[1moptimizer:\u001b[0m 'optimizer=auto' found, ignoring 'lr0=0.01' and 'momentum=0.937' and determining best 'optimizer', 'lr0' and 'momentum' automatically... \n",
            "\u001b[34m\u001b[1moptimizer:\u001b[0m AdamW(lr=0.000119, momentum=0.9) with parameter groups 113 weight(decay=0.0), 120 weight(decay=0.0005), 119 bias(decay=0.0)\n",
            "Image sizes 640 train, 640 val\n",
            "Using 2 dataloader workers\n",
            "Logging results to \u001b[1mruns/detect/train\u001b[0m\n",
            "Starting training for 100 epochs...\n",
            "\n",
            "      Epoch    GPU_mem   box_loss   cls_loss   dfl_loss  Instances       Size\n"
          ]
        },
        {
          "output_type": "stream",
          "name": "stderr",
          "text": [
            "      1/100       0.9G     0.6981      1.354      1.216         29        640: 100%|██████████| 1/1 [00:01<00:00,  1.52s/it]\n",
            "                 Class     Images  Instances      Box(P          R      mAP50  mAP50-95): 100%|██████████| 1/1 [00:01<00:00,  1.09s/it]"
          ]
        },
        {
          "output_type": "stream",
          "name": "stdout",
          "text": [
            "                   all          4         17     0.0262      0.217     0.0897     0.0471\n"
          ]
        },
        {
          "output_type": "stream",
          "name": "stderr",
          "text": [
            "\n"
          ]
        },
        {
          "output_type": "stream",
          "name": "stdout",
          "text": [
            "\n",
            "      Epoch    GPU_mem   box_loss   cls_loss   dfl_loss  Instances       Size\n"
          ]
        },
        {
          "output_type": "stream",
          "name": "stderr",
          "text": [
            "      2/100     0.928G      1.249      2.285      1.553         46        640: 100%|██████████| 1/1 [00:00<00:00,  5.54it/s]\n",
            "                 Class     Images  Instances      Box(P          R      mAP50  mAP50-95): 100%|██████████| 1/1 [00:00<00:00, 10.81it/s]"
          ]
        },
        {
          "output_type": "stream",
          "name": "stdout",
          "text": [
            "                   all          4         17     0.0581      0.483      0.127      0.061\n"
          ]
        },
        {
          "output_type": "stream",
          "name": "stderr",
          "text": [
            "\n"
          ]
        },
        {
          "output_type": "stream",
          "name": "stdout",
          "text": [
            "\n",
            "      Epoch    GPU_mem   box_loss   cls_loss   dfl_loss  Instances       Size\n"
          ]
        },
        {
          "output_type": "stream",
          "name": "stderr",
          "text": [
            "      3/100     0.934G     0.9614      1.527        1.4         20        640: 100%|██████████| 1/1 [00:00<00:00,  5.90it/s]\n",
            "                 Class     Images  Instances      Box(P          R      mAP50  mAP50-95): 100%|██████████| 1/1 [00:00<00:00, 10.89it/s]"
          ]
        },
        {
          "output_type": "stream",
          "name": "stdout",
          "text": [
            "                   all          4         17     0.0694      0.567      0.136     0.0596\n"
          ]
        },
        {
          "output_type": "stream",
          "name": "stderr",
          "text": [
            "\n"
          ]
        },
        {
          "output_type": "stream",
          "name": "stdout",
          "text": [
            "\n",
            "      Epoch    GPU_mem   box_loss   cls_loss   dfl_loss  Instances       Size\n"
          ]
        },
        {
          "output_type": "stream",
          "name": "stderr",
          "text": [
            "      4/100     0.938G      1.178      2.182      1.548         35        640: 100%|██████████| 1/1 [00:00<00:00,  6.08it/s]\n",
            "                 Class     Images  Instances      Box(P          R      mAP50  mAP50-95): 100%|██████████| 1/1 [00:00<00:00, 15.29it/s]"
          ]
        },
        {
          "output_type": "stream",
          "name": "stdout",
          "text": [
            "                   all          4         17     0.0613      0.567      0.228      0.089\n"
          ]
        },
        {
          "output_type": "stream",
          "name": "stderr",
          "text": [
            "\n"
          ]
        },
        {
          "output_type": "stream",
          "name": "stdout",
          "text": [
            "\n",
            "      Epoch    GPU_mem   box_loss   cls_loss   dfl_loss  Instances       Size\n"
          ]
        },
        {
          "output_type": "stream",
          "name": "stderr",
          "text": [
            "      5/100     0.943G     0.9944      2.264      1.435         15        640: 100%|██████████| 1/1 [00:00<00:00,  3.47it/s]\n",
            "                 Class     Images  Instances      Box(P          R      mAP50  mAP50-95): 100%|██████████| 1/1 [00:00<00:00, 15.81it/s]"
          ]
        },
        {
          "output_type": "stream",
          "name": "stdout",
          "text": [
            "                   all          4         17     0.0551      0.567      0.244      0.163\n"
          ]
        },
        {
          "output_type": "stream",
          "name": "stderr",
          "text": [
            "\n"
          ]
        },
        {
          "output_type": "stream",
          "name": "stdout",
          "text": [
            "\n",
            "      Epoch    GPU_mem   box_loss   cls_loss   dfl_loss  Instances       Size\n"
          ]
        },
        {
          "output_type": "stream",
          "name": "stderr",
          "text": [
            "      6/100     0.975G     0.9106      2.149      1.286         31        640: 100%|██████████| 1/1 [00:00<00:00,  4.89it/s]\n",
            "                 Class     Images  Instances      Box(P          R      mAP50  mAP50-95): 100%|██████████| 1/1 [00:00<00:00, 16.04it/s]"
          ]
        },
        {
          "output_type": "stream",
          "name": "stdout",
          "text": [
            "                   all          4         17       0.38      0.283      0.262      0.186\n"
          ]
        },
        {
          "output_type": "stream",
          "name": "stderr",
          "text": [
            "\n"
          ]
        },
        {
          "output_type": "stream",
          "name": "stdout",
          "text": [
            "\n",
            "      Epoch    GPU_mem   box_loss   cls_loss   dfl_loss  Instances       Size\n"
          ]
        },
        {
          "output_type": "stream",
          "name": "stderr",
          "text": [
            "      7/100      0.99G      1.044      2.164      1.394         35        640: 100%|██████████| 1/1 [00:00<00:00,  5.73it/s]\n",
            "                 Class     Images  Instances      Box(P          R      mAP50  mAP50-95): 100%|██████████| 1/1 [00:00<00:00, 15.66it/s]"
          ]
        },
        {
          "output_type": "stream",
          "name": "stdout",
          "text": [
            "                   all          4         17      0.596      0.267      0.269      0.185\n"
          ]
        },
        {
          "output_type": "stream",
          "name": "stderr",
          "text": [
            "\n"
          ]
        },
        {
          "output_type": "stream",
          "name": "stdout",
          "text": [
            "\n",
            "      Epoch    GPU_mem   box_loss   cls_loss   dfl_loss  Instances       Size\n"
          ]
        },
        {
          "output_type": "stream",
          "name": "stderr",
          "text": [
            "      8/100      1.01G      1.085      1.719      1.422         34        640: 100%|██████████| 1/1 [00:00<00:00,  6.03it/s]\n",
            "                 Class     Images  Instances      Box(P          R      mAP50  mAP50-95): 100%|██████████| 1/1 [00:00<00:00, 15.36it/s]"
          ]
        },
        {
          "output_type": "stream",
          "name": "stdout",
          "text": [
            "                   all          4         17      0.706       0.25      0.279      0.209\n"
          ]
        },
        {
          "output_type": "stream",
          "name": "stderr",
          "text": [
            "\n"
          ]
        },
        {
          "output_type": "stream",
          "name": "stdout",
          "text": [
            "\n",
            "      Epoch    GPU_mem   box_loss   cls_loss   dfl_loss  Instances       Size\n"
          ]
        },
        {
          "output_type": "stream",
          "name": "stderr",
          "text": [
            "      9/100      1.02G       1.03      2.073      1.367         40        640: 100%|██████████| 1/1 [00:00<00:00,  5.40it/s]\n",
            "                 Class     Images  Instances      Box(P          R      mAP50  mAP50-95): 100%|██████████| 1/1 [00:00<00:00, 15.77it/s]"
          ]
        },
        {
          "output_type": "stream",
          "name": "stdout",
          "text": [
            "                   all          4         17      0.632      0.267      0.294      0.206\n"
          ]
        },
        {
          "output_type": "stream",
          "name": "stderr",
          "text": [
            "\n"
          ]
        },
        {
          "output_type": "stream",
          "name": "stdout",
          "text": [
            "\n",
            "      Epoch    GPU_mem   box_loss   cls_loss   dfl_loss  Instances       Size\n"
          ]
        },
        {
          "output_type": "stream",
          "name": "stderr",
          "text": [
            "     10/100      1.04G     0.8687       1.44      1.237         30        640: 100%|██████████| 1/1 [00:00<00:00,  5.81it/s]\n",
            "                 Class     Images  Instances      Box(P          R      mAP50  mAP50-95): 100%|██████████| 1/1 [00:00<00:00, 16.17it/s]"
          ]
        },
        {
          "output_type": "stream",
          "name": "stdout",
          "text": [
            "                   all          4         17      0.573      0.367      0.352       0.22\n"
          ]
        },
        {
          "output_type": "stream",
          "name": "stderr",
          "text": [
            "\n"
          ]
        },
        {
          "output_type": "stream",
          "name": "stdout",
          "text": [
            "\n",
            "      Epoch    GPU_mem   box_loss   cls_loss   dfl_loss  Instances       Size\n"
          ]
        },
        {
          "output_type": "stream",
          "name": "stderr",
          "text": [
            "     11/100      1.05G     0.7731      1.285      1.251         18        640: 100%|██████████| 1/1 [00:00<00:00,  5.89it/s]\n",
            "                 Class     Images  Instances      Box(P          R      mAP50  mAP50-95): 100%|██████████| 1/1 [00:00<00:00, 15.13it/s]"
          ]
        },
        {
          "output_type": "stream",
          "name": "stdout",
          "text": [
            "                   all          4         17      0.636      0.347      0.373      0.224\n"
          ]
        },
        {
          "output_type": "stream",
          "name": "stderr",
          "text": [
            "\n"
          ]
        },
        {
          "output_type": "stream",
          "name": "stdout",
          "text": [
            "\n",
            "      Epoch    GPU_mem   box_loss   cls_loss   dfl_loss  Instances       Size\n"
          ]
        },
        {
          "output_type": "stream",
          "name": "stderr",
          "text": [
            "     12/100      1.07G     0.8023      1.463      1.294         17        640: 100%|██████████| 1/1 [00:00<00:00,  5.84it/s]\n",
            "                 Class     Images  Instances      Box(P          R      mAP50  mAP50-95): 100%|██████████| 1/1 [00:00<00:00, 15.21it/s]"
          ]
        },
        {
          "output_type": "stream",
          "name": "stdout",
          "text": [
            "                   all          4         17       0.71      0.353      0.402      0.267\n"
          ]
        },
        {
          "output_type": "stream",
          "name": "stderr",
          "text": [
            "\n"
          ]
        },
        {
          "output_type": "stream",
          "name": "stdout",
          "text": [
            "\n",
            "      Epoch    GPU_mem   box_loss   cls_loss   dfl_loss  Instances       Size\n"
          ]
        },
        {
          "output_type": "stream",
          "name": "stderr",
          "text": [
            "     13/100      1.08G     0.7647      1.611      1.199         28        640: 100%|██████████| 1/1 [00:00<00:00,  5.21it/s]\n",
            "                 Class     Images  Instances      Box(P          R      mAP50  mAP50-95): 100%|██████████| 1/1 [00:00<00:00, 16.25it/s]"
          ]
        },
        {
          "output_type": "stream",
          "name": "stdout",
          "text": [
            "                   all          4         17      0.714      0.363      0.436      0.298\n"
          ]
        },
        {
          "output_type": "stream",
          "name": "stderr",
          "text": [
            "\n"
          ]
        },
        {
          "output_type": "stream",
          "name": "stdout",
          "text": [
            "\n",
            "      Epoch    GPU_mem   box_loss   cls_loss   dfl_loss  Instances       Size\n"
          ]
        },
        {
          "output_type": "stream",
          "name": "stderr",
          "text": [
            "     14/100       1.1G     0.8172       1.37      1.224         43        640: 100%|██████████| 1/1 [00:00<00:00,  4.99it/s]\n",
            "                 Class     Images  Instances      Box(P          R      mAP50  mAP50-95): 100%|██████████| 1/1 [00:00<00:00, 14.66it/s]"
          ]
        },
        {
          "output_type": "stream",
          "name": "stdout",
          "text": [
            "                   all          4         17      0.713      0.362      0.443      0.298\n"
          ]
        },
        {
          "output_type": "stream",
          "name": "stderr",
          "text": [
            "\n"
          ]
        },
        {
          "output_type": "stream",
          "name": "stdout",
          "text": [
            "\n",
            "      Epoch    GPU_mem   box_loss   cls_loss   dfl_loss  Instances       Size\n"
          ]
        },
        {
          "output_type": "stream",
          "name": "stderr",
          "text": [
            "     15/100      1.11G     0.8015      1.383       1.23         32        640: 100%|██████████| 1/1 [00:00<00:00,  5.83it/s]\n",
            "                 Class     Images  Instances      Box(P          R      mAP50  mAP50-95): 100%|██████████| 1/1 [00:00<00:00, 11.81it/s]"
          ]
        },
        {
          "output_type": "stream",
          "name": "stdout",
          "text": [
            "                   all          4         17      0.672      0.411      0.486       0.31\n"
          ]
        },
        {
          "output_type": "stream",
          "name": "stderr",
          "text": [
            "\n"
          ]
        },
        {
          "output_type": "stream",
          "name": "stdout",
          "text": [
            "\n",
            "      Epoch    GPU_mem   box_loss   cls_loss   dfl_loss  Instances       Size\n"
          ]
        },
        {
          "output_type": "stream",
          "name": "stderr",
          "text": [
            "     16/100      1.13G      1.062      1.288      1.547         26        640: 100%|██████████| 1/1 [00:00<00:00,  4.35it/s]\n",
            "                 Class     Images  Instances      Box(P          R      mAP50  mAP50-95): 100%|██████████| 1/1 [00:00<00:00, 11.62it/s]"
          ]
        },
        {
          "output_type": "stream",
          "name": "stdout",
          "text": [
            "                   all          4         17      0.686      0.422      0.566      0.367\n"
          ]
        },
        {
          "output_type": "stream",
          "name": "stderr",
          "text": [
            "\n"
          ]
        },
        {
          "output_type": "stream",
          "name": "stdout",
          "text": [
            "\n",
            "      Epoch    GPU_mem   box_loss   cls_loss   dfl_loss  Instances       Size\n"
          ]
        },
        {
          "output_type": "stream",
          "name": "stderr",
          "text": [
            "     17/100      1.14G     0.7659     0.7513      1.035         28        640: 100%|██████████| 1/1 [00:00<00:00,  3.40it/s]\n",
            "                 Class     Images  Instances      Box(P          R      mAP50  mAP50-95): 100%|██████████| 1/1 [00:00<00:00,  7.46it/s]\n"
          ]
        },
        {
          "output_type": "stream",
          "name": "stdout",
          "text": [
            "                   all          4         17      0.686      0.425      0.611      0.419\n",
            "\n",
            "      Epoch    GPU_mem   box_loss   cls_loss   dfl_loss  Instances       Size\n"
          ]
        },
        {
          "output_type": "stream",
          "name": "stderr",
          "text": [
            "     18/100      1.15G     0.6285      1.076      1.191         19        640: 100%|██████████| 1/1 [00:00<00:00,  6.63it/s]\n",
            "                 Class     Images  Instances      Box(P          R      mAP50  mAP50-95): 100%|██████████| 1/1 [00:00<00:00, 11.21it/s]"
          ]
        },
        {
          "output_type": "stream",
          "name": "stdout",
          "text": [
            "                   all          4         17      0.686      0.425      0.611      0.419\n"
          ]
        },
        {
          "output_type": "stream",
          "name": "stderr",
          "text": [
            "\n"
          ]
        },
        {
          "output_type": "stream",
          "name": "stdout",
          "text": [
            "\n",
            "      Epoch    GPU_mem   box_loss   cls_loss   dfl_loss  Instances       Size\n"
          ]
        },
        {
          "output_type": "stream",
          "name": "stderr",
          "text": [
            "     19/100      1.18G       0.73       1.46        1.3         19        640: 100%|██████████| 1/1 [00:00<00:00,  4.75it/s]\n",
            "                 Class     Images  Instances      Box(P          R      mAP50  mAP50-95): 100%|██████████| 1/1 [00:00<00:00, 13.88it/s]"
          ]
        },
        {
          "output_type": "stream",
          "name": "stdout",
          "text": [
            "                   all          4         17      0.687      0.423       0.61      0.413\n"
          ]
        },
        {
          "output_type": "stream",
          "name": "stderr",
          "text": [
            "\n"
          ]
        },
        {
          "output_type": "stream",
          "name": "stdout",
          "text": [
            "\n",
            "      Epoch    GPU_mem   box_loss   cls_loss   dfl_loss  Instances       Size\n"
          ]
        },
        {
          "output_type": "stream",
          "name": "stderr",
          "text": [
            "     20/100      1.19G      0.742     0.8735       1.21         23        640: 100%|██████████| 1/1 [00:00<00:00,  6.95it/s]\n",
            "                 Class     Images  Instances      Box(P          R      mAP50  mAP50-95): 100%|██████████| 1/1 [00:00<00:00, 16.04it/s]"
          ]
        },
        {
          "output_type": "stream",
          "name": "stdout",
          "text": [
            "                   all          4         17      0.687      0.423       0.61      0.413\n"
          ]
        },
        {
          "output_type": "stream",
          "name": "stderr",
          "text": [
            "\n"
          ]
        },
        {
          "output_type": "stream",
          "name": "stdout",
          "text": [
            "\n",
            "      Epoch    GPU_mem   box_loss   cls_loss   dfl_loss  Instances       Size\n"
          ]
        },
        {
          "output_type": "stream",
          "name": "stderr",
          "text": [
            "     21/100      1.21G     0.8004       1.23      1.189         34        640: 100%|██████████| 1/1 [00:00<00:00,  5.57it/s]\n",
            "                 Class     Images  Instances      Box(P          R      mAP50  mAP50-95): 100%|██████████| 1/1 [00:00<00:00, 15.78it/s]"
          ]
        },
        {
          "output_type": "stream",
          "name": "stdout",
          "text": [
            "                   all          4         17      0.717      0.392      0.671      0.483\n"
          ]
        },
        {
          "output_type": "stream",
          "name": "stderr",
          "text": [
            "\n"
          ]
        },
        {
          "output_type": "stream",
          "name": "stdout",
          "text": [
            "\n",
            "      Epoch    GPU_mem   box_loss   cls_loss   dfl_loss  Instances       Size\n"
          ]
        },
        {
          "output_type": "stream",
          "name": "stderr",
          "text": [
            "     22/100      1.22G     0.8946      1.491      1.297         40        640: 100%|██████████| 1/1 [00:00<00:00,  7.10it/s]\n",
            "                 Class     Images  Instances      Box(P          R      mAP50  mAP50-95): 100%|██████████| 1/1 [00:00<00:00, 13.88it/s]"
          ]
        },
        {
          "output_type": "stream",
          "name": "stdout",
          "text": [
            "                   all          4         17      0.717      0.392      0.671      0.483\n"
          ]
        },
        {
          "output_type": "stream",
          "name": "stderr",
          "text": [
            "\n"
          ]
        },
        {
          "output_type": "stream",
          "name": "stdout",
          "text": [
            "\n",
            "      Epoch    GPU_mem   box_loss   cls_loss   dfl_loss  Instances       Size\n"
          ]
        },
        {
          "output_type": "stream",
          "name": "stderr",
          "text": [
            "     23/100      1.24G     0.9334     0.8815      1.207         34        640: 100%|██████████| 1/1 [00:00<00:00,  5.60it/s]\n",
            "                 Class     Images  Instances      Box(P          R      mAP50  mAP50-95): 100%|██████████| 1/1 [00:00<00:00, 15.27it/s]"
          ]
        },
        {
          "output_type": "stream",
          "name": "stdout",
          "text": [
            "                   all          4         17      0.667      0.431      0.677      0.477\n"
          ]
        },
        {
          "output_type": "stream",
          "name": "stderr",
          "text": [
            "\n"
          ]
        },
        {
          "output_type": "stream",
          "name": "stdout",
          "text": [
            "\n",
            "      Epoch    GPU_mem   box_loss   cls_loss   dfl_loss  Instances       Size\n"
          ]
        },
        {
          "output_type": "stream",
          "name": "stderr",
          "text": [
            "     24/100      1.24G     0.8845      1.241      1.229         51        640: 100%|██████████| 1/1 [00:00<00:00,  5.91it/s]\n",
            "                 Class     Images  Instances      Box(P          R      mAP50  mAP50-95): 100%|██████████| 1/1 [00:00<00:00, 15.33it/s]"
          ]
        },
        {
          "output_type": "stream",
          "name": "stdout",
          "text": [
            "                   all          4         17      0.667      0.431      0.677      0.477\n"
          ]
        },
        {
          "output_type": "stream",
          "name": "stderr",
          "text": [
            "\n"
          ]
        },
        {
          "output_type": "stream",
          "name": "stdout",
          "text": [
            "\n",
            "      Epoch    GPU_mem   box_loss   cls_loss   dfl_loss  Instances       Size\n"
          ]
        },
        {
          "output_type": "stream",
          "name": "stderr",
          "text": [
            "     25/100      1.27G     0.7106     0.7455      1.116         23        640: 100%|██████████| 1/1 [00:00<00:00,  5.75it/s]\n",
            "                 Class     Images  Instances      Box(P          R      mAP50  mAP50-95): 100%|██████████| 1/1 [00:00<00:00, 14.81it/s]"
          ]
        },
        {
          "output_type": "stream",
          "name": "stdout",
          "text": [
            "                   all          4         17      0.719      0.396      0.762      0.558\n"
          ]
        },
        {
          "output_type": "stream",
          "name": "stderr",
          "text": [
            "\n"
          ]
        },
        {
          "output_type": "stream",
          "name": "stdout",
          "text": [
            "\n",
            "      Epoch    GPU_mem   box_loss   cls_loss   dfl_loss  Instances       Size\n"
          ]
        },
        {
          "output_type": "stream",
          "name": "stderr",
          "text": [
            "     26/100      1.28G     0.7898     0.8453      1.268         24        640: 100%|██████████| 1/1 [00:00<00:00,  7.23it/s]\n",
            "                 Class     Images  Instances      Box(P          R      mAP50  mAP50-95): 100%|██████████| 1/1 [00:00<00:00, 13.47it/s]"
          ]
        },
        {
          "output_type": "stream",
          "name": "stdout",
          "text": [
            "                   all          4         17      0.719      0.396      0.762      0.558\n"
          ]
        },
        {
          "output_type": "stream",
          "name": "stderr",
          "text": [
            "\n"
          ]
        },
        {
          "output_type": "stream",
          "name": "stdout",
          "text": [
            "\n",
            "      Epoch    GPU_mem   box_loss   cls_loss   dfl_loss  Instances       Size\n"
          ]
        },
        {
          "output_type": "stream",
          "name": "stderr",
          "text": [
            "     27/100       1.3G     0.4534     0.6544      1.017         22        640: 100%|██████████| 1/1 [00:00<00:00,  5.40it/s]\n",
            "                 Class     Images  Instances      Box(P          R      mAP50  mAP50-95): 100%|██████████| 1/1 [00:00<00:00, 15.25it/s]"
          ]
        },
        {
          "output_type": "stream",
          "name": "stdout",
          "text": [
            "                   all          4         17      0.963      0.361      0.853      0.584\n"
          ]
        },
        {
          "output_type": "stream",
          "name": "stderr",
          "text": [
            "\n"
          ]
        },
        {
          "output_type": "stream",
          "name": "stdout",
          "text": [
            "\n",
            "      Epoch    GPU_mem   box_loss   cls_loss   dfl_loss  Instances       Size\n"
          ]
        },
        {
          "output_type": "stream",
          "name": "stderr",
          "text": [
            "     28/100      1.31G     0.8012     0.6691      1.254         31        640: 100%|██████████| 1/1 [00:00<00:00,  6.44it/s]\n",
            "                 Class     Images  Instances      Box(P          R      mAP50  mAP50-95): 100%|██████████| 1/1 [00:00<00:00, 14.51it/s]"
          ]
        },
        {
          "output_type": "stream",
          "name": "stdout",
          "text": [
            "                   all          4         17      0.963      0.361      0.853      0.584\n"
          ]
        },
        {
          "output_type": "stream",
          "name": "stderr",
          "text": [
            "\n"
          ]
        },
        {
          "output_type": "stream",
          "name": "stdout",
          "text": [
            "\n",
            "      Epoch    GPU_mem   box_loss   cls_loss   dfl_loss  Instances       Size\n"
          ]
        },
        {
          "output_type": "stream",
          "name": "stderr",
          "text": [
            "     29/100      1.33G     0.7322     0.5909      1.066         27        640: 100%|██████████| 1/1 [00:00<00:00,  5.77it/s]\n",
            "                 Class     Images  Instances      Box(P          R      mAP50  mAP50-95): 100%|██████████| 1/1 [00:00<00:00, 15.32it/s]"
          ]
        },
        {
          "output_type": "stream",
          "name": "stdout",
          "text": [
            "                   all          4         17       0.97      0.349      0.852      0.554\n"
          ]
        },
        {
          "output_type": "stream",
          "name": "stderr",
          "text": [
            "\n"
          ]
        },
        {
          "output_type": "stream",
          "name": "stdout",
          "text": [
            "\n",
            "      Epoch    GPU_mem   box_loss   cls_loss   dfl_loss  Instances       Size\n"
          ]
        },
        {
          "output_type": "stream",
          "name": "stderr",
          "text": [
            "     30/100      1.34G     0.9268     0.9075      1.692         15        640: 100%|██████████| 1/1 [00:00<00:00,  7.25it/s]\n",
            "                 Class     Images  Instances      Box(P          R      mAP50  mAP50-95): 100%|██████████| 1/1 [00:00<00:00, 15.84it/s]"
          ]
        },
        {
          "output_type": "stream",
          "name": "stdout",
          "text": [
            "                   all          4         17       0.97      0.349      0.852      0.554\n"
          ]
        },
        {
          "output_type": "stream",
          "name": "stderr",
          "text": [
            "\n"
          ]
        },
        {
          "output_type": "stream",
          "name": "stdout",
          "text": [
            "\n",
            "      Epoch    GPU_mem   box_loss   cls_loss   dfl_loss  Instances       Size\n"
          ]
        },
        {
          "output_type": "stream",
          "name": "stderr",
          "text": [
            "     31/100      1.36G     0.9117      1.005       1.27         37        640: 100%|██████████| 1/1 [00:00<00:00,  3.29it/s]\n",
            "                 Class     Images  Instances      Box(P          R      mAP50  mAP50-95): 100%|██████████| 1/1 [00:00<00:00,  6.83it/s]"
          ]
        },
        {
          "output_type": "stream",
          "name": "stdout",
          "text": [
            "                   all          4         17      0.971      0.352       0.85      0.569\n"
          ]
        },
        {
          "output_type": "stream",
          "name": "stderr",
          "text": [
            "\n"
          ]
        },
        {
          "output_type": "stream",
          "name": "stdout",
          "text": [
            "\n",
            "      Epoch    GPU_mem   box_loss   cls_loss   dfl_loss  Instances       Size\n"
          ]
        },
        {
          "output_type": "stream",
          "name": "stderr",
          "text": [
            "     32/100      1.37G     0.9312     0.7652      1.336         31        640: 100%|██████████| 1/1 [00:00<00:00,  2.97it/s]\n",
            "                 Class     Images  Instances      Box(P          R      mAP50  mAP50-95): 100%|██████████| 1/1 [00:00<00:00, 14.81it/s]"
          ]
        },
        {
          "output_type": "stream",
          "name": "stdout",
          "text": [
            "                   all          4         17      0.971      0.352       0.85      0.569\n"
          ]
        },
        {
          "output_type": "stream",
          "name": "stderr",
          "text": [
            "\n"
          ]
        },
        {
          "output_type": "stream",
          "name": "stdout",
          "text": [
            "\n",
            "      Epoch    GPU_mem   box_loss   cls_loss   dfl_loss  Instances       Size\n"
          ]
        },
        {
          "output_type": "stream",
          "name": "stderr",
          "text": [
            "     33/100      1.39G      0.914     0.7563      1.238         38        640: 100%|██████████| 1/1 [00:00<00:00,  2.47it/s]\n",
            "                 Class     Images  Instances      Box(P          R      mAP50  mAP50-95): 100%|██████████| 1/1 [00:00<00:00, 12.23it/s]"
          ]
        },
        {
          "output_type": "stream",
          "name": "stdout",
          "text": [
            "                   all          4         17      0.722      0.467      0.899      0.587\n"
          ]
        },
        {
          "output_type": "stream",
          "name": "stderr",
          "text": [
            "\n"
          ]
        },
        {
          "output_type": "stream",
          "name": "stdout",
          "text": [
            "\n",
            "      Epoch    GPU_mem   box_loss   cls_loss   dfl_loss  Instances       Size\n"
          ]
        },
        {
          "output_type": "stream",
          "name": "stderr",
          "text": [
            "     34/100      1.39G     0.8042     0.6597      1.288         22        640: 100%|██████████| 1/1 [00:00<00:00,  4.59it/s]\n",
            "                 Class     Images  Instances      Box(P          R      mAP50  mAP50-95): 100%|██████████| 1/1 [00:00<00:00, 11.32it/s]"
          ]
        },
        {
          "output_type": "stream",
          "name": "stdout",
          "text": [
            "                   all          4         17      0.722      0.467      0.899      0.587\n"
          ]
        },
        {
          "output_type": "stream",
          "name": "stderr",
          "text": [
            "\n"
          ]
        },
        {
          "output_type": "stream",
          "name": "stdout",
          "text": [
            "\n",
            "      Epoch    GPU_mem   box_loss   cls_loss   dfl_loss  Instances       Size\n"
          ]
        },
        {
          "output_type": "stream",
          "name": "stderr",
          "text": [
            "     35/100      1.42G     0.6244     0.6729      1.057         31        640: 100%|██████████| 1/1 [00:00<00:00,  5.42it/s]\n",
            "                 Class     Images  Instances      Box(P          R      mAP50  mAP50-95): 100%|██████████| 1/1 [00:00<00:00, 14.44it/s]"
          ]
        },
        {
          "output_type": "stream",
          "name": "stdout",
          "text": [
            "                   all          4         17      0.729      0.467      0.865       0.58\n"
          ]
        },
        {
          "output_type": "stream",
          "name": "stderr",
          "text": [
            "\n"
          ]
        },
        {
          "output_type": "stream",
          "name": "stdout",
          "text": [
            "\n",
            "      Epoch    GPU_mem   box_loss   cls_loss   dfl_loss  Instances       Size\n"
          ]
        },
        {
          "output_type": "stream",
          "name": "stderr",
          "text": [
            "     36/100      1.43G     0.8359      1.045      1.285         42        640: 100%|██████████| 1/1 [00:00<00:00,  6.40it/s]\n",
            "                 Class     Images  Instances      Box(P          R      mAP50  mAP50-95): 100%|██████████| 1/1 [00:00<00:00, 15.58it/s]"
          ]
        },
        {
          "output_type": "stream",
          "name": "stdout",
          "text": [
            "                   all          4         17      0.729      0.467      0.865       0.58\n"
          ]
        },
        {
          "output_type": "stream",
          "name": "stderr",
          "text": [
            "\n"
          ]
        },
        {
          "output_type": "stream",
          "name": "stdout",
          "text": [
            "\n",
            "      Epoch    GPU_mem   box_loss   cls_loss   dfl_loss  Instances       Size\n"
          ]
        },
        {
          "output_type": "stream",
          "name": "stderr",
          "text": [
            "     37/100      1.45G      0.828     0.6601      1.336         11        640: 100%|██████████| 1/1 [00:00<00:00,  5.48it/s]\n",
            "                 Class     Images  Instances      Box(P          R      mAP50  mAP50-95): 100%|██████████| 1/1 [00:00<00:00, 15.86it/s]"
          ]
        },
        {
          "output_type": "stream",
          "name": "stdout",
          "text": [
            "                   all          4         17       0.73      0.467      0.863      0.561\n"
          ]
        },
        {
          "output_type": "stream",
          "name": "stderr",
          "text": [
            "\n"
          ]
        },
        {
          "output_type": "stream",
          "name": "stdout",
          "text": [
            "\n",
            "      Epoch    GPU_mem   box_loss   cls_loss   dfl_loss  Instances       Size\n"
          ]
        },
        {
          "output_type": "stream",
          "name": "stderr",
          "text": [
            "     38/100      1.46G     0.7431     0.7201      1.293         19        640: 100%|██████████| 1/1 [00:00<00:00,  6.88it/s]\n",
            "                 Class     Images  Instances      Box(P          R      mAP50  mAP50-95): 100%|██████████| 1/1 [00:00<00:00, 15.65it/s]"
          ]
        },
        {
          "output_type": "stream",
          "name": "stdout",
          "text": [
            "                   all          4         17       0.73      0.467      0.863      0.561\n"
          ]
        },
        {
          "output_type": "stream",
          "name": "stderr",
          "text": [
            "\n"
          ]
        },
        {
          "output_type": "stream",
          "name": "stdout",
          "text": [
            "\n",
            "      Epoch    GPU_mem   box_loss   cls_loss   dfl_loss  Instances       Size\n"
          ]
        },
        {
          "output_type": "stream",
          "name": "stderr",
          "text": [
            "     39/100      1.48G     0.5306      0.661       1.06         24        640: 100%|██████████| 1/1 [00:00<00:00,  5.58it/s]\n",
            "                 Class     Images  Instances      Box(P          R      mAP50  mAP50-95): 100%|██████████| 1/1 [00:00<00:00, 13.77it/s]"
          ]
        },
        {
          "output_type": "stream",
          "name": "stdout",
          "text": [
            "                   all          4         17      0.723      0.467       0.86      0.583\n"
          ]
        },
        {
          "output_type": "stream",
          "name": "stderr",
          "text": [
            "\n"
          ]
        },
        {
          "output_type": "stream",
          "name": "stdout",
          "text": [
            "\n",
            "      Epoch    GPU_mem   box_loss   cls_loss   dfl_loss  Instances       Size\n"
          ]
        },
        {
          "output_type": "stream",
          "name": "stderr",
          "text": [
            "     40/100      1.48G     0.5289     0.5349     0.9303         27        640: 100%|██████████| 1/1 [00:00<00:00,  6.82it/s]\n",
            "                 Class     Images  Instances      Box(P          R      mAP50  mAP50-95): 100%|██████████| 1/1 [00:00<00:00, 15.40it/s]"
          ]
        },
        {
          "output_type": "stream",
          "name": "stdout",
          "text": [
            "                   all          4         17      0.723      0.467       0.86      0.583\n"
          ]
        },
        {
          "output_type": "stream",
          "name": "stderr",
          "text": [
            "\n"
          ]
        },
        {
          "output_type": "stream",
          "name": "stdout",
          "text": [
            "\n",
            "      Epoch    GPU_mem   box_loss   cls_loss   dfl_loss  Instances       Size\n"
          ]
        },
        {
          "output_type": "stream",
          "name": "stderr",
          "text": [
            "     41/100      1.51G     0.6491     0.5384      1.126         37        640: 100%|██████████| 1/1 [00:00<00:00,  5.13it/s]\n",
            "                 Class     Images  Instances      Box(P          R      mAP50  mAP50-95): 100%|██████████| 1/1 [00:00<00:00, 15.43it/s]"
          ]
        },
        {
          "output_type": "stream",
          "name": "stdout",
          "text": [
            "                   all          4         17      0.699      0.617      0.859      0.578\n"
          ]
        },
        {
          "output_type": "stream",
          "name": "stderr",
          "text": [
            "\n"
          ]
        },
        {
          "output_type": "stream",
          "name": "stdout",
          "text": [
            "\n",
            "      Epoch    GPU_mem   box_loss   cls_loss   dfl_loss  Instances       Size\n"
          ]
        },
        {
          "output_type": "stream",
          "name": "stderr",
          "text": [
            "     42/100      1.51G     0.9802     0.5719      1.406         20        640: 100%|██████████| 1/1 [00:00<00:00,  7.25it/s]\n",
            "                 Class     Images  Instances      Box(P          R      mAP50  mAP50-95): 100%|██████████| 1/1 [00:00<00:00, 15.76it/s]"
          ]
        },
        {
          "output_type": "stream",
          "name": "stdout",
          "text": [
            "                   all          4         17      0.699      0.617      0.859      0.578\n"
          ]
        },
        {
          "output_type": "stream",
          "name": "stderr",
          "text": [
            "\n"
          ]
        },
        {
          "output_type": "stream",
          "name": "stdout",
          "text": [
            "\n",
            "      Epoch    GPU_mem   box_loss   cls_loss   dfl_loss  Instances       Size\n"
          ]
        },
        {
          "output_type": "stream",
          "name": "stderr",
          "text": [
            "     43/100      1.54G     0.7304     0.9698      1.219         29        640: 100%|██████████| 1/1 [00:00<00:00,  5.46it/s]\n",
            "                 Class     Images  Instances      Box(P          R      mAP50  mAP50-95): 100%|██████████| 1/1 [00:00<00:00, 15.62it/s]"
          ]
        },
        {
          "output_type": "stream",
          "name": "stdout",
          "text": [
            "                   all          4         17      0.691      0.617      0.886       0.58\n"
          ]
        },
        {
          "output_type": "stream",
          "name": "stderr",
          "text": [
            "\n"
          ]
        },
        {
          "output_type": "stream",
          "name": "stdout",
          "text": [
            "\n",
            "      Epoch    GPU_mem   box_loss   cls_loss   dfl_loss  Instances       Size\n"
          ]
        },
        {
          "output_type": "stream",
          "name": "stderr",
          "text": [
            "     44/100      1.54G     0.6963      1.129      1.235         21        640: 100%|██████████| 1/1 [00:00<00:00,  6.94it/s]\n",
            "                 Class     Images  Instances      Box(P          R      mAP50  mAP50-95): 100%|██████████| 1/1 [00:00<00:00, 12.52it/s]"
          ]
        },
        {
          "output_type": "stream",
          "name": "stdout",
          "text": [
            "                   all          4         17      0.691      0.617      0.886       0.58\n"
          ]
        },
        {
          "output_type": "stream",
          "name": "stderr",
          "text": [
            "\n"
          ]
        },
        {
          "output_type": "stream",
          "name": "stdout",
          "text": [
            "\n",
            "      Epoch    GPU_mem   box_loss   cls_loss   dfl_loss  Instances       Size\n"
          ]
        },
        {
          "output_type": "stream",
          "name": "stderr",
          "text": [
            "     45/100      1.57G     0.6146     0.5528     0.9931         38        640: 100%|██████████| 1/1 [00:00<00:00,  5.50it/s]\n",
            "                 Class     Images  Instances      Box(P          R      mAP50  mAP50-95): 100%|██████████| 1/1 [00:00<00:00, 15.68it/s]"
          ]
        },
        {
          "output_type": "stream",
          "name": "stdout",
          "text": [
            "                   all          4         17      0.701      0.617      0.886       0.57\n"
          ]
        },
        {
          "output_type": "stream",
          "name": "stderr",
          "text": [
            "\n"
          ]
        },
        {
          "output_type": "stream",
          "name": "stdout",
          "text": [
            "\n",
            "      Epoch    GPU_mem   box_loss   cls_loss   dfl_loss  Instances       Size\n"
          ]
        },
        {
          "output_type": "stream",
          "name": "stderr",
          "text": [
            "     46/100      1.58G     0.7538     0.6502      1.239         20        640: 100%|██████████| 1/1 [00:00<00:00,  6.41it/s]\n",
            "                 Class     Images  Instances      Box(P          R      mAP50  mAP50-95): 100%|██████████| 1/1 [00:00<00:00, 15.15it/s]"
          ]
        },
        {
          "output_type": "stream",
          "name": "stdout",
          "text": [
            "                   all          4         17      0.701      0.617      0.886       0.57\n"
          ]
        },
        {
          "output_type": "stream",
          "name": "stderr",
          "text": [
            "\n"
          ]
        },
        {
          "output_type": "stream",
          "name": "stdout",
          "text": [
            "\n",
            "      Epoch    GPU_mem   box_loss   cls_loss   dfl_loss  Instances       Size\n"
          ]
        },
        {
          "output_type": "stream",
          "name": "stderr",
          "text": [
            "     47/100       1.6G     0.8546     0.7021      1.407         17        640: 100%|██████████| 1/1 [00:00<00:00,  5.78it/s]\n",
            "                 Class     Images  Instances      Box(P          R      mAP50  mAP50-95): 100%|██████████| 1/1 [00:00<00:00, 14.60it/s]"
          ]
        },
        {
          "output_type": "stream",
          "name": "stdout",
          "text": [
            "                   all          4         17      0.714      0.617      0.885      0.569\n"
          ]
        },
        {
          "output_type": "stream",
          "name": "stderr",
          "text": [
            "\n"
          ]
        },
        {
          "output_type": "stream",
          "name": "stdout",
          "text": [
            "\n",
            "      Epoch    GPU_mem   box_loss   cls_loss   dfl_loss  Instances       Size\n"
          ]
        },
        {
          "output_type": "stream",
          "name": "stderr",
          "text": [
            "     48/100      1.61G     0.7112     0.5978       1.23         26        640: 100%|██████████| 1/1 [00:00<00:00,  7.05it/s]\n",
            "                 Class     Images  Instances      Box(P          R      mAP50  mAP50-95): 100%|██████████| 1/1 [00:00<00:00, 15.28it/s]"
          ]
        },
        {
          "output_type": "stream",
          "name": "stdout",
          "text": [
            "                   all          4         17      0.714      0.617      0.885      0.569\n"
          ]
        },
        {
          "output_type": "stream",
          "name": "stderr",
          "text": [
            "\n"
          ]
        },
        {
          "output_type": "stream",
          "name": "stdout",
          "text": [
            "\n",
            "      Epoch    GPU_mem   box_loss   cls_loss   dfl_loss  Instances       Size\n"
          ]
        },
        {
          "output_type": "stream",
          "name": "stderr",
          "text": [
            "     49/100      1.63G     0.6392     0.4552      1.066         26        640: 100%|██████████| 1/1 [00:00<00:00,  5.19it/s]\n",
            "                 Class     Images  Instances      Box(P          R      mAP50  mAP50-95): 100%|██████████| 1/1 [00:00<00:00, 14.58it/s]"
          ]
        },
        {
          "output_type": "stream",
          "name": "stdout",
          "text": [
            "                   all          4         17      0.715      0.617       0.88      0.568\n"
          ]
        },
        {
          "output_type": "stream",
          "name": "stderr",
          "text": [
            "\n"
          ]
        },
        {
          "output_type": "stream",
          "name": "stdout",
          "text": [
            "\n",
            "      Epoch    GPU_mem   box_loss   cls_loss   dfl_loss  Instances       Size\n"
          ]
        },
        {
          "output_type": "stream",
          "name": "stderr",
          "text": [
            "     50/100      1.63G      0.893      1.002      1.449         25        640: 100%|██████████| 1/1 [00:00<00:00,  6.05it/s]\n",
            "                 Class     Images  Instances      Box(P          R      mAP50  mAP50-95): 100%|██████████| 1/1 [00:00<00:00, 11.32it/s]"
          ]
        },
        {
          "output_type": "stream",
          "name": "stdout",
          "text": [
            "                   all          4         17      0.715      0.617       0.88      0.568\n"
          ]
        },
        {
          "output_type": "stream",
          "name": "stderr",
          "text": [
            "\n"
          ]
        },
        {
          "output_type": "stream",
          "name": "stdout",
          "text": [
            "\n",
            "      Epoch    GPU_mem   box_loss   cls_loss   dfl_loss  Instances       Size\n"
          ]
        },
        {
          "output_type": "stream",
          "name": "stderr",
          "text": [
            "     51/100      1.66G     0.6424     0.5477      1.129         11        640: 100%|██████████| 1/1 [00:00<00:00,  3.55it/s]\n",
            "                 Class     Images  Instances      Box(P          R      mAP50  mAP50-95): 100%|██████████| 1/1 [00:00<00:00, 14.19it/s]"
          ]
        },
        {
          "output_type": "stream",
          "name": "stdout",
          "text": [
            "                   all          4         17      0.698      0.606      0.879      0.586\n"
          ]
        },
        {
          "output_type": "stream",
          "name": "stderr",
          "text": [
            "\n"
          ]
        },
        {
          "output_type": "stream",
          "name": "stdout",
          "text": [
            "\n",
            "      Epoch    GPU_mem   box_loss   cls_loss   dfl_loss  Instances       Size\n"
          ]
        },
        {
          "output_type": "stream",
          "name": "stderr",
          "text": [
            "     52/100      1.67G     0.6081     0.5729      1.163         13        640: 100%|██████████| 1/1 [00:00<00:00,  5.04it/s]\n",
            "                 Class     Images  Instances      Box(P          R      mAP50  mAP50-95): 100%|██████████| 1/1 [00:00<00:00, 10.47it/s]"
          ]
        },
        {
          "output_type": "stream",
          "name": "stdout",
          "text": [
            "                   all          4         17      0.698      0.606      0.879      0.586\n"
          ]
        },
        {
          "output_type": "stream",
          "name": "stderr",
          "text": [
            "\n"
          ]
        },
        {
          "output_type": "stream",
          "name": "stdout",
          "text": [
            "\n",
            "      Epoch    GPU_mem   box_loss   cls_loss   dfl_loss  Instances       Size\n"
          ]
        },
        {
          "output_type": "stream",
          "name": "stderr",
          "text": [
            "     53/100      1.69G     0.7574     0.8939      1.309         22        640: 100%|██████████| 1/1 [00:00<00:00,  6.70it/s]\n",
            "                 Class     Images  Instances      Box(P          R      mAP50  mAP50-95): 100%|██████████| 1/1 [00:00<00:00, 14.74it/s]"
          ]
        },
        {
          "output_type": "stream",
          "name": "stdout",
          "text": [
            "                   all          4         17      0.698      0.606      0.879      0.586\n"
          ]
        },
        {
          "output_type": "stream",
          "name": "stderr",
          "text": [
            "\n"
          ]
        },
        {
          "output_type": "stream",
          "name": "stdout",
          "text": [
            "\n",
            "      Epoch    GPU_mem   box_loss   cls_loss   dfl_loss  Instances       Size\n"
          ]
        },
        {
          "output_type": "stream",
          "name": "stderr",
          "text": [
            "     54/100       1.7G     0.6319     0.6979      0.989         60        640: 100%|██████████| 1/1 [00:00<00:00,  5.63it/s]\n",
            "                 Class     Images  Instances      Box(P          R      mAP50  mAP50-95): 100%|██████████| 1/1 [00:00<00:00, 15.29it/s]"
          ]
        },
        {
          "output_type": "stream",
          "name": "stdout",
          "text": [
            "                   all          4         17      0.724      0.433      0.908       0.59\n"
          ]
        },
        {
          "output_type": "stream",
          "name": "stderr",
          "text": [
            "\n"
          ]
        },
        {
          "output_type": "stream",
          "name": "stdout",
          "text": [
            "\n",
            "      Epoch    GPU_mem   box_loss   cls_loss   dfl_loss  Instances       Size\n"
          ]
        },
        {
          "output_type": "stream",
          "name": "stderr",
          "text": [
            "     55/100      1.71G     0.4577     0.5091      1.157         12        640: 100%|██████████| 1/1 [00:00<00:00,  6.61it/s]\n",
            "                 Class     Images  Instances      Box(P          R      mAP50  mAP50-95): 100%|██████████| 1/1 [00:00<00:00, 14.93it/s]"
          ]
        },
        {
          "output_type": "stream",
          "name": "stdout",
          "text": [
            "                   all          4         17      0.724      0.433      0.908       0.59\n"
          ]
        },
        {
          "output_type": "stream",
          "name": "stderr",
          "text": [
            "\n"
          ]
        },
        {
          "output_type": "stream",
          "name": "stdout",
          "text": [
            "\n",
            "      Epoch    GPU_mem   box_loss   cls_loss   dfl_loss  Instances       Size\n"
          ]
        },
        {
          "output_type": "stream",
          "name": "stderr",
          "text": [
            "     56/100      1.73G     0.6063     0.5403      1.088         28        640: 100%|██████████| 1/1 [00:00<00:00,  5.97it/s]\n",
            "                 Class     Images  Instances      Box(P          R      mAP50  mAP50-95): 100%|██████████| 1/1 [00:00<00:00, 16.55it/s]"
          ]
        },
        {
          "output_type": "stream",
          "name": "stdout",
          "text": [
            "                   all          4         17      0.724      0.433      0.908       0.59\n"
          ]
        },
        {
          "output_type": "stream",
          "name": "stderr",
          "text": [
            "\n"
          ]
        },
        {
          "output_type": "stream",
          "name": "stdout",
          "text": [
            "\n",
            "      Epoch    GPU_mem   box_loss   cls_loss   dfl_loss  Instances       Size\n"
          ]
        },
        {
          "output_type": "stream",
          "name": "stderr",
          "text": [
            "     57/100      1.75G     0.7007     0.5763      1.182         12        640: 100%|██████████| 1/1 [00:00<00:00,  5.47it/s]\n",
            "                 Class     Images  Instances      Box(P          R      mAP50  mAP50-95): 100%|██████████| 1/1 [00:00<00:00, 15.70it/s]"
          ]
        },
        {
          "output_type": "stream",
          "name": "stdout",
          "text": [
            "                   all          4         17      0.968      0.349      0.893      0.585\n"
          ]
        },
        {
          "output_type": "stream",
          "name": "stderr",
          "text": [
            "\n"
          ]
        },
        {
          "output_type": "stream",
          "name": "stdout",
          "text": [
            "\n",
            "      Epoch    GPU_mem   box_loss   cls_loss   dfl_loss  Instances       Size\n"
          ]
        },
        {
          "output_type": "stream",
          "name": "stderr",
          "text": [
            "     58/100      1.75G     0.6574     0.5942      1.042         47        640: 100%|██████████| 1/1 [00:00<00:00,  7.23it/s]\n",
            "                 Class     Images  Instances      Box(P          R      mAP50  mAP50-95): 100%|██████████| 1/1 [00:00<00:00, 15.53it/s]"
          ]
        },
        {
          "output_type": "stream",
          "name": "stdout",
          "text": [
            "                   all          4         17      0.968      0.349      0.893      0.585\n"
          ]
        },
        {
          "output_type": "stream",
          "name": "stderr",
          "text": [
            "\n"
          ]
        },
        {
          "output_type": "stream",
          "name": "stdout",
          "text": [
            "\n",
            "      Epoch    GPU_mem   box_loss   cls_loss   dfl_loss  Instances       Size\n"
          ]
        },
        {
          "output_type": "stream",
          "name": "stderr",
          "text": [
            "     59/100      1.78G     0.6613     0.7261      1.139         23        640: 100%|██████████| 1/1 [00:00<00:00,  6.95it/s]\n",
            "                 Class     Images  Instances      Box(P          R      mAP50  mAP50-95): 100%|██████████| 1/1 [00:00<00:00, 13.05it/s]"
          ]
        },
        {
          "output_type": "stream",
          "name": "stdout",
          "text": [
            "                   all          4         17      0.968      0.349      0.893      0.585\n"
          ]
        },
        {
          "output_type": "stream",
          "name": "stderr",
          "text": [
            "\n"
          ]
        },
        {
          "output_type": "stream",
          "name": "stdout",
          "text": [
            "\n",
            "      Epoch    GPU_mem   box_loss   cls_loss   dfl_loss  Instances       Size\n"
          ]
        },
        {
          "output_type": "stream",
          "name": "stderr",
          "text": [
            "     60/100      1.79G      1.016     0.7706      1.325         42        640: 100%|██████████| 1/1 [00:00<00:00,  5.21it/s]\n",
            "                 Class     Images  Instances      Box(P          R      mAP50  mAP50-95): 100%|██████████| 1/1 [00:00<00:00, 14.94it/s]"
          ]
        },
        {
          "output_type": "stream",
          "name": "stdout",
          "text": [
            "                   all          4         17      0.966       0.35      0.821      0.558\n"
          ]
        },
        {
          "output_type": "stream",
          "name": "stderr",
          "text": [
            "\n"
          ]
        },
        {
          "output_type": "stream",
          "name": "stdout",
          "text": [
            "\n",
            "      Epoch    GPU_mem   box_loss   cls_loss   dfl_loss  Instances       Size\n"
          ]
        },
        {
          "output_type": "stream",
          "name": "stderr",
          "text": [
            "     61/100       1.8G     0.7159      0.556      1.189         26        640: 100%|██████████| 1/1 [00:00<00:00,  5.83it/s]\n",
            "                 Class     Images  Instances      Box(P          R      mAP50  mAP50-95): 100%|██████████| 1/1 [00:00<00:00, 15.42it/s]"
          ]
        },
        {
          "output_type": "stream",
          "name": "stdout",
          "text": [
            "                   all          4         17      0.966       0.35      0.821      0.558\n"
          ]
        },
        {
          "output_type": "stream",
          "name": "stderr",
          "text": [
            "\n"
          ]
        },
        {
          "output_type": "stream",
          "name": "stdout",
          "text": [
            "\n",
            "      Epoch    GPU_mem   box_loss   cls_loss   dfl_loss  Instances       Size\n"
          ]
        },
        {
          "output_type": "stream",
          "name": "stderr",
          "text": [
            "     62/100      1.83G      0.533     0.5494      1.165         18        640: 100%|██████████| 1/1 [00:00<00:00,  6.85it/s]\n",
            "                 Class     Images  Instances      Box(P          R      mAP50  mAP50-95): 100%|██████████| 1/1 [00:00<00:00, 14.78it/s]"
          ]
        },
        {
          "output_type": "stream",
          "name": "stdout",
          "text": [
            "                   all          4         17      0.966       0.35      0.821      0.558\n"
          ]
        },
        {
          "output_type": "stream",
          "name": "stderr",
          "text": [
            "\n"
          ]
        },
        {
          "output_type": "stream",
          "name": "stdout",
          "text": [
            "\n",
            "      Epoch    GPU_mem   box_loss   cls_loss   dfl_loss  Instances       Size\n"
          ]
        },
        {
          "output_type": "stream",
          "name": "stderr",
          "text": [
            "     63/100      1.84G     0.5739     0.6856       1.06         25        640: 100%|██████████| 1/1 [00:00<00:00,  5.64it/s]\n",
            "                 Class     Images  Instances      Box(P          R      mAP50  mAP50-95): 100%|██████████| 1/1 [00:00<00:00, 14.58it/s]"
          ]
        },
        {
          "output_type": "stream",
          "name": "stdout",
          "text": [
            "                   all          4         17      0.964      0.349      0.887      0.576\n"
          ]
        },
        {
          "output_type": "stream",
          "name": "stderr",
          "text": [
            "\n"
          ]
        },
        {
          "output_type": "stream",
          "name": "stdout",
          "text": [
            "\n",
            "      Epoch    GPU_mem   box_loss   cls_loss   dfl_loss  Instances       Size\n"
          ]
        },
        {
          "output_type": "stream",
          "name": "stderr",
          "text": [
            "     64/100      1.84G     0.7889     0.4958      1.156         23        640: 100%|██████████| 1/1 [00:00<00:00,  7.10it/s]\n",
            "                 Class     Images  Instances      Box(P          R      mAP50  mAP50-95): 100%|██████████| 1/1 [00:00<00:00, 12.39it/s]"
          ]
        },
        {
          "output_type": "stream",
          "name": "stdout",
          "text": [
            "                   all          4         17      0.964      0.349      0.887      0.576\n"
          ]
        },
        {
          "output_type": "stream",
          "name": "stderr",
          "text": [
            "\n"
          ]
        },
        {
          "output_type": "stream",
          "name": "stdout",
          "text": [
            "\n",
            "      Epoch    GPU_mem   box_loss   cls_loss   dfl_loss  Instances       Size\n"
          ]
        },
        {
          "output_type": "stream",
          "name": "stderr",
          "text": [
            "     65/100      1.87G     0.8802     0.7714      1.159         54        640: 100%|██████████| 1/1 [00:00<00:00,  6.98it/s]\n",
            "                 Class     Images  Instances      Box(P          R      mAP50  mAP50-95): 100%|██████████| 1/1 [00:00<00:00, 16.16it/s]"
          ]
        },
        {
          "output_type": "stream",
          "name": "stdout",
          "text": [
            "                   all          4         17      0.964      0.349      0.887      0.576\n"
          ]
        },
        {
          "output_type": "stream",
          "name": "stderr",
          "text": [
            "\n"
          ]
        },
        {
          "output_type": "stream",
          "name": "stdout",
          "text": [
            "\n",
            "      Epoch    GPU_mem   box_loss   cls_loss   dfl_loss  Instances       Size\n"
          ]
        },
        {
          "output_type": "stream",
          "name": "stderr",
          "text": [
            "     66/100      1.88G     0.6892      0.608      1.273         19        640: 100%|██████████| 1/1 [00:00<00:00,  5.36it/s]\n",
            "                 Class     Images  Instances      Box(P          R      mAP50  mAP50-95): 100%|██████████| 1/1 [00:00<00:00, 15.71it/s]"
          ]
        },
        {
          "output_type": "stream",
          "name": "stdout",
          "text": [
            "                   all          4         17      0.962      0.351       0.76      0.539\n"
          ]
        },
        {
          "output_type": "stream",
          "name": "stderr",
          "text": [
            "\n"
          ]
        },
        {
          "output_type": "stream",
          "name": "stdout",
          "text": [
            "\n",
            "      Epoch    GPU_mem   box_loss   cls_loss   dfl_loss  Instances       Size\n"
          ]
        },
        {
          "output_type": "stream",
          "name": "stderr",
          "text": [
            "     67/100      1.89G      0.467     0.4999      1.057         13        640: 100%|██████████| 1/1 [00:00<00:00,  7.05it/s]\n",
            "                 Class     Images  Instances      Box(P          R      mAP50  mAP50-95): 100%|██████████| 1/1 [00:00<00:00, 15.29it/s]"
          ]
        },
        {
          "output_type": "stream",
          "name": "stdout",
          "text": [
            "                   all          4         17      0.962      0.351       0.76      0.539\n"
          ]
        },
        {
          "output_type": "stream",
          "name": "stderr",
          "text": [
            "\n"
          ]
        },
        {
          "output_type": "stream",
          "name": "stdout",
          "text": [
            "\n",
            "      Epoch    GPU_mem   box_loss   cls_loss   dfl_loss  Instances       Size\n"
          ]
        },
        {
          "output_type": "stream",
          "name": "stderr",
          "text": [
            "     68/100      1.91G     0.6588     0.8658      1.104         35        640: 100%|██████████| 1/1 [00:00<00:00,  6.55it/s]\n",
            "                 Class     Images  Instances      Box(P          R      mAP50  mAP50-95): 100%|██████████| 1/1 [00:00<00:00, 15.10it/s]"
          ]
        },
        {
          "output_type": "stream",
          "name": "stdout",
          "text": [
            "                   all          4         17      0.962      0.351       0.76      0.539\n"
          ]
        },
        {
          "output_type": "stream",
          "name": "stderr",
          "text": [
            "\n"
          ]
        },
        {
          "output_type": "stream",
          "name": "stdout",
          "text": [
            "\n",
            "      Epoch    GPU_mem   box_loss   cls_loss   dfl_loss  Instances       Size\n"
          ]
        },
        {
          "output_type": "stream",
          "name": "stderr",
          "text": [
            "     69/100      1.93G     0.5047      0.527      1.022         24        640: 100%|██████████| 1/1 [00:00<00:00,  3.62it/s]\n",
            "                 Class     Images  Instances      Box(P          R      mAP50  mAP50-95): 100%|██████████| 1/1 [00:00<00:00, 10.53it/s]"
          ]
        },
        {
          "output_type": "stream",
          "name": "stdout",
          "text": [
            "                   all          4         17      0.959      0.351      0.783      0.544\n"
          ]
        },
        {
          "output_type": "stream",
          "name": "stderr",
          "text": [
            "\n"
          ]
        },
        {
          "output_type": "stream",
          "name": "stdout",
          "text": [
            "\n",
            "      Epoch    GPU_mem   box_loss   cls_loss   dfl_loss  Instances       Size\n"
          ]
        },
        {
          "output_type": "stream",
          "name": "stderr",
          "text": [
            "     70/100      1.94G     0.5749     0.4855      1.078         32        640: 100%|██████████| 1/1 [00:00<00:00,  4.15it/s]\n",
            "                 Class     Images  Instances      Box(P          R      mAP50  mAP50-95): 100%|██████████| 1/1 [00:00<00:00, 10.14it/s]"
          ]
        },
        {
          "output_type": "stream",
          "name": "stdout",
          "text": [
            "                   all          4         17      0.959      0.351      0.783      0.544\n"
          ]
        },
        {
          "output_type": "stream",
          "name": "stderr",
          "text": [
            "\n"
          ]
        },
        {
          "output_type": "stream",
          "name": "stdout",
          "text": [
            "\n",
            "      Epoch    GPU_mem   box_loss   cls_loss   dfl_loss  Instances       Size\n"
          ]
        },
        {
          "output_type": "stream",
          "name": "stderr",
          "text": [
            "     71/100      1.96G     0.8386      0.608      1.127         28        640: 100%|██████████| 1/1 [00:00<00:00,  6.46it/s]\n",
            "                 Class     Images  Instances      Box(P          R      mAP50  mAP50-95): 100%|██████████| 1/1 [00:00<00:00, 15.17it/s]"
          ]
        },
        {
          "output_type": "stream",
          "name": "stdout",
          "text": [
            "                   all          4         17      0.959      0.351      0.783      0.544\n"
          ]
        },
        {
          "output_type": "stream",
          "name": "stderr",
          "text": [
            "\n"
          ]
        },
        {
          "output_type": "stream",
          "name": "stdout",
          "text": [
            "\n",
            "      Epoch    GPU_mem   box_loss   cls_loss   dfl_loss  Instances       Size\n"
          ]
        },
        {
          "output_type": "stream",
          "name": "stderr",
          "text": [
            "     72/100      1.98G      0.532     0.5808      1.194         17        640: 100%|██████████| 1/1 [00:00<00:00,  5.55it/s]\n",
            "                 Class     Images  Instances      Box(P          R      mAP50  mAP50-95): 100%|██████████| 1/1 [00:00<00:00, 14.73it/s]"
          ]
        },
        {
          "output_type": "stream",
          "name": "stdout",
          "text": [
            "                   all          4         17      0.958      0.352      0.809       0.53\n"
          ]
        },
        {
          "output_type": "stream",
          "name": "stderr",
          "text": [
            "\n"
          ]
        },
        {
          "output_type": "stream",
          "name": "stdout",
          "text": [
            "\n",
            "      Epoch    GPU_mem   box_loss   cls_loss   dfl_loss  Instances       Size\n"
          ]
        },
        {
          "output_type": "stream",
          "name": "stderr",
          "text": [
            "     73/100      1.98G     0.3614     0.3722      1.015         26        640: 100%|██████████| 1/1 [00:00<00:00,  6.41it/s]\n",
            "                 Class     Images  Instances      Box(P          R      mAP50  mAP50-95): 100%|██████████| 1/1 [00:00<00:00, 14.98it/s]"
          ]
        },
        {
          "output_type": "stream",
          "name": "stdout",
          "text": [
            "                   all          4         17      0.958      0.352      0.809       0.53\n"
          ]
        },
        {
          "output_type": "stream",
          "name": "stderr",
          "text": [
            "\n"
          ]
        },
        {
          "output_type": "stream",
          "name": "stdout",
          "text": [
            "\n",
            "      Epoch    GPU_mem   box_loss   cls_loss   dfl_loss  Instances       Size\n"
          ]
        },
        {
          "output_type": "stream",
          "name": "stderr",
          "text": [
            "     74/100         2G     0.7517     0.6638      1.135         19        640: 100%|██████████| 1/1 [00:00<00:00,  6.50it/s]\n",
            "                 Class     Images  Instances      Box(P          R      mAP50  mAP50-95): 100%|██████████| 1/1 [00:00<00:00, 15.68it/s]"
          ]
        },
        {
          "output_type": "stream",
          "name": "stdout",
          "text": [
            "                   all          4         17      0.958      0.352      0.809       0.53\n"
          ]
        },
        {
          "output_type": "stream",
          "name": "stderr",
          "text": [
            "\n"
          ]
        },
        {
          "output_type": "stream",
          "name": "stdout",
          "text": [
            "\n",
            "      Epoch    GPU_mem   box_loss   cls_loss   dfl_loss  Instances       Size\n"
          ]
        },
        {
          "output_type": "stream",
          "name": "stderr",
          "text": [
            "     75/100      2.02G     0.6351     0.4683       1.03         40        640: 100%|██████████| 1/1 [00:00<00:00,  5.37it/s]\n",
            "                 Class     Images  Instances      Box(P          R      mAP50  mAP50-95): 100%|██████████| 1/1 [00:00<00:00, 16.04it/s]"
          ]
        },
        {
          "output_type": "stream",
          "name": "stdout",
          "text": [
            "                   all          4         17      0.728      0.424      0.891      0.565\n"
          ]
        },
        {
          "output_type": "stream",
          "name": "stderr",
          "text": [
            "\n"
          ]
        },
        {
          "output_type": "stream",
          "name": "stdout",
          "text": [
            "\n",
            "      Epoch    GPU_mem   box_loss   cls_loss   dfl_loss  Instances       Size\n"
          ]
        },
        {
          "output_type": "stream",
          "name": "stderr",
          "text": [
            "     76/100      2.03G     0.6572     0.5648      1.105         29        640: 100%|██████████| 1/1 [00:00<00:00,  6.75it/s]\n",
            "                 Class     Images  Instances      Box(P          R      mAP50  mAP50-95): 100%|██████████| 1/1 [00:00<00:00, 13.66it/s]"
          ]
        },
        {
          "output_type": "stream",
          "name": "stdout",
          "text": [
            "                   all          4         17      0.728      0.424      0.891      0.565\n"
          ]
        },
        {
          "output_type": "stream",
          "name": "stderr",
          "text": [
            "\n"
          ]
        },
        {
          "output_type": "stream",
          "name": "stdout",
          "text": [
            "\n",
            "      Epoch    GPU_mem   box_loss   cls_loss   dfl_loss  Instances       Size\n"
          ]
        },
        {
          "output_type": "stream",
          "name": "stderr",
          "text": [
            "     77/100      2.05G     0.5152     0.3397      1.065         21        640: 100%|██████████| 1/1 [00:00<00:00,  6.84it/s]\n",
            "                 Class     Images  Instances      Box(P          R      mAP50  mAP50-95): 100%|██████████| 1/1 [00:00<00:00, 15.44it/s]"
          ]
        },
        {
          "output_type": "stream",
          "name": "stdout",
          "text": [
            "                   all          4         17      0.728      0.424      0.891      0.565\n"
          ]
        },
        {
          "output_type": "stream",
          "name": "stderr",
          "text": [
            "\n"
          ]
        },
        {
          "output_type": "stream",
          "name": "stdout",
          "text": [
            "\n",
            "      Epoch    GPU_mem   box_loss   cls_loss   dfl_loss  Instances       Size\n"
          ]
        },
        {
          "output_type": "stream",
          "name": "stderr",
          "text": [
            "     78/100      2.06G     0.4752     0.4459     0.9855         21        640: 100%|██████████| 1/1 [00:00<00:00,  5.05it/s]\n",
            "                 Class     Images  Instances      Box(P          R      mAP50  mAP50-95): 100%|██████████| 1/1 [00:00<00:00, 15.94it/s]"
          ]
        },
        {
          "output_type": "stream",
          "name": "stdout",
          "text": [
            "                   all          4         17      0.714      0.587      0.889      0.566\n"
          ]
        },
        {
          "output_type": "stream",
          "name": "stderr",
          "text": [
            "\n"
          ]
        },
        {
          "output_type": "stream",
          "name": "stdout",
          "text": [
            "\n",
            "      Epoch    GPU_mem   box_loss   cls_loss   dfl_loss  Instances       Size\n"
          ]
        },
        {
          "output_type": "stream",
          "name": "stderr",
          "text": [
            "     79/100      2.07G     0.6001     0.5738      1.036         22        640: 100%|██████████| 1/1 [00:00<00:00,  7.09it/s]\n",
            "                 Class     Images  Instances      Box(P          R      mAP50  mAP50-95): 100%|██████████| 1/1 [00:00<00:00, 15.19it/s]"
          ]
        },
        {
          "output_type": "stream",
          "name": "stdout",
          "text": [
            "                   all          4         17      0.714      0.587      0.889      0.566\n"
          ]
        },
        {
          "output_type": "stream",
          "name": "stderr",
          "text": [
            "\n"
          ]
        },
        {
          "output_type": "stream",
          "name": "stdout",
          "text": [
            "\n",
            "      Epoch    GPU_mem   box_loss   cls_loss   dfl_loss  Instances       Size\n"
          ]
        },
        {
          "output_type": "stream",
          "name": "stderr",
          "text": [
            "     80/100      2.09G     0.6335     0.9087      1.066         37        640: 100%|██████████| 1/1 [00:00<00:00,  6.46it/s]\n",
            "                 Class     Images  Instances      Box(P          R      mAP50  mAP50-95): 100%|██████████| 1/1 [00:00<00:00, 14.39it/s]"
          ]
        },
        {
          "output_type": "stream",
          "name": "stdout",
          "text": [
            "                   all          4         17      0.714      0.587      0.889      0.566\n"
          ]
        },
        {
          "output_type": "stream",
          "name": "stderr",
          "text": [
            "\n"
          ]
        },
        {
          "output_type": "stream",
          "name": "stdout",
          "text": [
            "\n",
            "      Epoch    GPU_mem   box_loss   cls_loss   dfl_loss  Instances       Size\n"
          ]
        },
        {
          "output_type": "stream",
          "name": "stderr",
          "text": [
            "     81/100      2.11G     0.5159     0.4756      1.004         28        640: 100%|██████████| 1/1 [00:00<00:00,  5.47it/s]\n",
            "                 Class     Images  Instances      Box(P          R      mAP50  mAP50-95): 100%|██████████| 1/1 [00:00<00:00, 12.99it/s]"
          ]
        },
        {
          "output_type": "stream",
          "name": "stdout",
          "text": [
            "                   all          4         17      0.677        0.6      0.889      0.589\n"
          ]
        },
        {
          "output_type": "stream",
          "name": "stderr",
          "text": [
            "\n"
          ]
        },
        {
          "output_type": "stream",
          "name": "stdout",
          "text": [
            "\n",
            "      Epoch    GPU_mem   box_loss   cls_loss   dfl_loss  Instances       Size\n"
          ]
        },
        {
          "output_type": "stream",
          "name": "stderr",
          "text": [
            "     82/100      2.11G      0.459     0.3886      1.028         22        640: 100%|██████████| 1/1 [00:00<00:00,  6.93it/s]\n",
            "                 Class     Images  Instances      Box(P          R      mAP50  mAP50-95): 100%|██████████| 1/1 [00:00<00:00, 15.04it/s]"
          ]
        },
        {
          "output_type": "stream",
          "name": "stdout",
          "text": [
            "                   all          4         17      0.677        0.6      0.889      0.589\n"
          ]
        },
        {
          "output_type": "stream",
          "name": "stderr",
          "text": [
            "\n"
          ]
        },
        {
          "output_type": "stream",
          "name": "stdout",
          "text": [
            "\n",
            "      Epoch    GPU_mem   box_loss   cls_loss   dfl_loss  Instances       Size\n"
          ]
        },
        {
          "output_type": "stream",
          "name": "stderr",
          "text": [
            "     83/100      2.14G     0.5492     0.5263      1.138         22        640: 100%|██████████| 1/1 [00:00<00:00,  6.30it/s]\n",
            "                 Class     Images  Instances      Box(P          R      mAP50  mAP50-95): 100%|██████████| 1/1 [00:00<00:00, 15.39it/s]"
          ]
        },
        {
          "output_type": "stream",
          "name": "stdout",
          "text": [
            "                   all          4         17      0.677        0.6      0.889      0.589\n"
          ]
        },
        {
          "output_type": "stream",
          "name": "stderr",
          "text": [
            "\n"
          ]
        },
        {
          "output_type": "stream",
          "name": "stdout",
          "text": [
            "\n",
            "      Epoch    GPU_mem   box_loss   cls_loss   dfl_loss  Instances       Size\n"
          ]
        },
        {
          "output_type": "stream",
          "name": "stderr",
          "text": [
            "     84/100      2.15G      0.542     0.5372      1.021         35        640: 100%|██████████| 1/1 [00:00<00:00,  5.51it/s]\n",
            "                 Class     Images  Instances      Box(P          R      mAP50  mAP50-95): 100%|██████████| 1/1 [00:00<00:00, 14.82it/s]"
          ]
        },
        {
          "output_type": "stream",
          "name": "stdout",
          "text": [
            "                   all          4         17       0.68        0.6       0.89      0.585\n"
          ]
        },
        {
          "output_type": "stream",
          "name": "stderr",
          "text": [
            "\n"
          ]
        },
        {
          "output_type": "stream",
          "name": "stdout",
          "text": [
            "\n",
            "      Epoch    GPU_mem   box_loss   cls_loss   dfl_loss  Instances       Size\n"
          ]
        },
        {
          "output_type": "stream",
          "name": "stderr",
          "text": [
            "     85/100      2.16G     0.7174     0.4298      1.017         20        640: 100%|██████████| 1/1 [00:00<00:00,  7.05it/s]\n",
            "                 Class     Images  Instances      Box(P          R      mAP50  mAP50-95): 100%|██████████| 1/1 [00:00<00:00, 14.57it/s]"
          ]
        },
        {
          "output_type": "stream",
          "name": "stdout",
          "text": [
            "                   all          4         17       0.68        0.6       0.89      0.585\n"
          ]
        },
        {
          "output_type": "stream",
          "name": "stderr",
          "text": [
            "\n"
          ]
        },
        {
          "output_type": "stream",
          "name": "stdout",
          "text": [
            "\n",
            "      Epoch    GPU_mem   box_loss   cls_loss   dfl_loss  Instances       Size\n"
          ]
        },
        {
          "output_type": "stream",
          "name": "stderr",
          "text": [
            "     86/100      2.18G     0.6785     0.5069      1.214         26        640: 100%|██████████| 1/1 [00:00<00:00,  6.87it/s]\n",
            "                 Class     Images  Instances      Box(P          R      mAP50  mAP50-95): 100%|██████████| 1/1 [00:00<00:00, 12.02it/s]"
          ]
        },
        {
          "output_type": "stream",
          "name": "stdout",
          "text": [
            "                   all          4         17       0.68        0.6       0.89      0.585\n"
          ]
        },
        {
          "output_type": "stream",
          "name": "stderr",
          "text": [
            "\n"
          ]
        },
        {
          "output_type": "stream",
          "name": "stdout",
          "text": [
            "\n",
            "      Epoch    GPU_mem   box_loss   cls_loss   dfl_loss  Instances       Size\n"
          ]
        },
        {
          "output_type": "stream",
          "name": "stderr",
          "text": [
            "     87/100       2.2G     0.6556     0.4565      1.078         29        640: 100%|██████████| 1/1 [00:00<00:00,  4.46it/s]\n",
            "                 Class     Images  Instances      Box(P          R      mAP50  mAP50-95): 100%|██████████| 1/1 [00:00<00:00, 13.72it/s]"
          ]
        },
        {
          "output_type": "stream",
          "name": "stdout",
          "text": [
            "                   all          4         17       0.68        0.6       0.89      0.585\n"
          ]
        },
        {
          "output_type": "stream",
          "name": "stderr",
          "text": [
            "\n"
          ]
        },
        {
          "output_type": "stream",
          "name": "stdout",
          "text": [
            "\n",
            "      Epoch    GPU_mem   box_loss   cls_loss   dfl_loss  Instances       Size\n"
          ]
        },
        {
          "output_type": "stream",
          "name": "stderr",
          "text": [
            "     88/100      2.21G     0.5923     0.5903      1.051         34        640: 100%|██████████| 1/1 [00:00<00:00,  3.16it/s]\n",
            "                 Class     Images  Instances      Box(P          R      mAP50  mAP50-95): 100%|██████████| 1/1 [00:00<00:00, 10.56it/s]"
          ]
        },
        {
          "output_type": "stream",
          "name": "stdout",
          "text": [
            "                   all          4         17      0.677        0.6      0.888      0.583\n"
          ]
        },
        {
          "output_type": "stream",
          "name": "stderr",
          "text": [
            "\n"
          ]
        },
        {
          "output_type": "stream",
          "name": "stdout",
          "text": [
            "\n",
            "      Epoch    GPU_mem   box_loss   cls_loss   dfl_loss  Instances       Size\n"
          ]
        },
        {
          "output_type": "stream",
          "name": "stderr",
          "text": [
            "     89/100      2.22G     0.6178     0.5507      1.006         47        640: 100%|██████████| 1/1 [00:00<00:00,  5.80it/s]\n",
            "                 Class     Images  Instances      Box(P          R      mAP50  mAP50-95): 100%|██████████| 1/1 [00:00<00:00, 13.66it/s]"
          ]
        },
        {
          "output_type": "stream",
          "name": "stdout",
          "text": [
            "                   all          4         17      0.677        0.6      0.888      0.583\n"
          ]
        },
        {
          "output_type": "stream",
          "name": "stderr",
          "text": [
            "\n"
          ]
        },
        {
          "output_type": "stream",
          "name": "stdout",
          "text": [
            "\n",
            "      Epoch    GPU_mem   box_loss   cls_loss   dfl_loss  Instances       Size\n"
          ]
        },
        {
          "output_type": "stream",
          "name": "stderr",
          "text": [
            "     90/100      2.25G     0.6329      0.502      1.128         13        640: 100%|██████████| 1/1 [00:00<00:00,  6.27it/s]\n",
            "                 Class     Images  Instances      Box(P          R      mAP50  mAP50-95): 100%|██████████| 1/1 [00:00<00:00, 15.75it/s]"
          ]
        },
        {
          "output_type": "stream",
          "name": "stdout",
          "text": [
            "                   all          4         17      0.677        0.6      0.888      0.583\n"
          ]
        },
        {
          "output_type": "stream",
          "name": "stderr",
          "text": [
            "\n"
          ]
        },
        {
          "output_type": "stream",
          "name": "stdout",
          "text": [
            "Closing dataloader mosaic\n",
            "\u001b[34m\u001b[1malbumentations: \u001b[0mBlur(p=0.01, blur_limit=(3, 7)), MedianBlur(p=0.01, blur_limit=(3, 7)), ToGray(p=0.01, method='weighted_average', num_output_channels=3), CLAHE(p=0.01, clip_limit=(1.0, 4.0), tile_grid_size=(8, 8))\n",
            "\n",
            "      Epoch    GPU_mem   box_loss   cls_loss   dfl_loss  Instances       Size\n"
          ]
        },
        {
          "output_type": "stream",
          "name": "stderr",
          "text": [
            "     91/100      2.26G     0.3761      0.345     0.8491         13        640: 100%|██████████| 1/1 [00:00<00:00,  3.16it/s]\n",
            "                 Class     Images  Instances      Box(P          R      mAP50  mAP50-95): 100%|██████████| 1/1 [00:00<00:00, 13.13it/s]"
          ]
        },
        {
          "output_type": "stream",
          "name": "stdout",
          "text": [
            "                   all          4         17      0.677        0.6      0.888      0.583\n"
          ]
        },
        {
          "output_type": "stream",
          "name": "stderr",
          "text": [
            "\n"
          ]
        },
        {
          "output_type": "stream",
          "name": "stdout",
          "text": [
            "\n",
            "      Epoch    GPU_mem   box_loss   cls_loss   dfl_loss  Instances       Size\n"
          ]
        },
        {
          "output_type": "stream",
          "name": "stderr",
          "text": [
            "     92/100      2.27G     0.4239     0.3849      0.954         13        640: 100%|██████████| 1/1 [00:00<00:00,  4.69it/s]\n",
            "                 Class     Images  Instances      Box(P          R      mAP50  mAP50-95): 100%|██████████| 1/1 [00:00<00:00, 11.09it/s]"
          ]
        },
        {
          "output_type": "stream",
          "name": "stdout",
          "text": [
            "                   all          4         17      0.654      0.583      0.815      0.575\n"
          ]
        },
        {
          "output_type": "stream",
          "name": "stderr",
          "text": [
            "\n"
          ]
        },
        {
          "output_type": "stream",
          "name": "stdout",
          "text": [
            "\n",
            "      Epoch    GPU_mem   box_loss   cls_loss   dfl_loss  Instances       Size\n"
          ]
        },
        {
          "output_type": "stream",
          "name": "stderr",
          "text": [
            "     93/100      2.28G     0.4361     0.3896     0.7993         13        640: 100%|██████████| 1/1 [00:00<00:00,  6.72it/s]\n",
            "                 Class     Images  Instances      Box(P          R      mAP50  mAP50-95): 100%|██████████| 1/1 [00:00<00:00, 10.05it/s]"
          ]
        },
        {
          "output_type": "stream",
          "name": "stdout",
          "text": [
            "                   all          4         17      0.654      0.583      0.815      0.575\n"
          ]
        },
        {
          "output_type": "stream",
          "name": "stderr",
          "text": [
            "\n"
          ]
        },
        {
          "output_type": "stream",
          "name": "stdout",
          "text": [
            "\n",
            "      Epoch    GPU_mem   box_loss   cls_loss   dfl_loss  Instances       Size\n"
          ]
        },
        {
          "output_type": "stream",
          "name": "stderr",
          "text": [
            "     94/100       2.3G     0.4594     0.3785     0.8202         13        640: 100%|██████████| 1/1 [00:00<00:00,  6.53it/s]\n",
            "                 Class     Images  Instances      Box(P          R      mAP50  mAP50-95): 100%|██████████| 1/1 [00:00<00:00, 14.55it/s]"
          ]
        },
        {
          "output_type": "stream",
          "name": "stdout",
          "text": [
            "                   all          4         17      0.654      0.583      0.815      0.575\n"
          ]
        },
        {
          "output_type": "stream",
          "name": "stderr",
          "text": [
            "\n"
          ]
        },
        {
          "output_type": "stream",
          "name": "stdout",
          "text": [
            "\n",
            "      Epoch    GPU_mem   box_loss   cls_loss   dfl_loss  Instances       Size\n"
          ]
        },
        {
          "output_type": "stream",
          "name": "stderr",
          "text": [
            "     95/100      2.32G      0.448      0.354     0.8648         13        640: 100%|██████████| 1/1 [00:00<00:00,  6.61it/s]\n",
            "                 Class     Images  Instances      Box(P          R      mAP50  mAP50-95): 100%|██████████| 1/1 [00:00<00:00, 10.86it/s]"
          ]
        },
        {
          "output_type": "stream",
          "name": "stdout",
          "text": [
            "                   all          4         17      0.654      0.583      0.815      0.575\n"
          ]
        },
        {
          "output_type": "stream",
          "name": "stderr",
          "text": [
            "\n"
          ]
        },
        {
          "output_type": "stream",
          "name": "stdout",
          "text": [
            "\n",
            "      Epoch    GPU_mem   box_loss   cls_loss   dfl_loss  Instances       Size\n"
          ]
        },
        {
          "output_type": "stream",
          "name": "stderr",
          "text": [
            "     96/100      2.33G     0.5163     0.3577     0.9585         13        640: 100%|██████████| 1/1 [00:00<00:00,  5.39it/s]\n",
            "                 Class     Images  Instances      Box(P          R      mAP50  mAP50-95): 100%|██████████| 1/1 [00:00<00:00, 14.92it/s]"
          ]
        },
        {
          "output_type": "stream",
          "name": "stdout",
          "text": [
            "                   all          4         17      0.688      0.567      0.773      0.579\n"
          ]
        },
        {
          "output_type": "stream",
          "name": "stderr",
          "text": [
            "\n"
          ]
        },
        {
          "output_type": "stream",
          "name": "stdout",
          "text": [
            "\n",
            "      Epoch    GPU_mem   box_loss   cls_loss   dfl_loss  Instances       Size\n"
          ]
        },
        {
          "output_type": "stream",
          "name": "stderr",
          "text": [
            "     97/100      2.34G     0.5472     0.5352     0.8811         13        640: 100%|██████████| 1/1 [00:00<00:00,  7.03it/s]\n",
            "                 Class     Images  Instances      Box(P          R      mAP50  mAP50-95): 100%|██████████| 1/1 [00:00<00:00, 14.33it/s]"
          ]
        },
        {
          "output_type": "stream",
          "name": "stdout",
          "text": [
            "                   all          4         17      0.688      0.567      0.773      0.579\n"
          ]
        },
        {
          "output_type": "stream",
          "name": "stderr",
          "text": [
            "\n"
          ]
        },
        {
          "output_type": "stream",
          "name": "stdout",
          "text": [
            "\n",
            "      Epoch    GPU_mem   box_loss   cls_loss   dfl_loss  Instances       Size\n"
          ]
        },
        {
          "output_type": "stream",
          "name": "stderr",
          "text": [
            "     98/100      2.36G     0.4115     0.3384     0.9831         13        640: 100%|██████████| 1/1 [00:00<00:00,  7.09it/s]\n",
            "                 Class     Images  Instances      Box(P          R      mAP50  mAP50-95): 100%|██████████| 1/1 [00:00<00:00, 12.90it/s]"
          ]
        },
        {
          "output_type": "stream",
          "name": "stdout",
          "text": [
            "                   all          4         17      0.688      0.567      0.773      0.579\n"
          ]
        },
        {
          "output_type": "stream",
          "name": "stderr",
          "text": [
            "\n"
          ]
        },
        {
          "output_type": "stream",
          "name": "stdout",
          "text": [
            "\n",
            "      Epoch    GPU_mem   box_loss   cls_loss   dfl_loss  Instances       Size\n"
          ]
        },
        {
          "output_type": "stream",
          "name": "stderr",
          "text": [
            "     99/100      2.38G     0.4126     0.3377     0.8808         13        640: 100%|██████████| 1/1 [00:00<00:00,  7.00it/s]\n",
            "                 Class     Images  Instances      Box(P          R      mAP50  mAP50-95): 100%|██████████| 1/1 [00:00<00:00, 15.40it/s]"
          ]
        },
        {
          "output_type": "stream",
          "name": "stdout",
          "text": [
            "                   all          4         17      0.688      0.567      0.773      0.579\n"
          ]
        },
        {
          "output_type": "stream",
          "name": "stderr",
          "text": [
            "\n"
          ]
        },
        {
          "output_type": "stream",
          "name": "stdout",
          "text": [
            "\n",
            "      Epoch    GPU_mem   box_loss   cls_loss   dfl_loss  Instances       Size\n"
          ]
        },
        {
          "output_type": "stream",
          "name": "stderr",
          "text": [
            "    100/100      2.39G     0.4903     0.4109      1.006         13        640: 100%|██████████| 1/1 [00:00<00:00,  5.17it/s]\n",
            "                 Class     Images  Instances      Box(P          R      mAP50  mAP50-95): 100%|██████████| 1/1 [00:00<00:00, 14.43it/s]"
          ]
        },
        {
          "output_type": "stream",
          "name": "stdout",
          "text": [
            "                   all          4         17      0.667       0.55      0.771      0.596\n"
          ]
        },
        {
          "output_type": "stream",
          "name": "stderr",
          "text": [
            "\n"
          ]
        },
        {
          "output_type": "stream",
          "name": "stdout",
          "text": [
            "\n",
            "100 epochs completed in 0.020 hours.\n",
            "Optimizer stripped from runs/detect/train/weights/last.pt, 5.6MB\n",
            "Optimizer stripped from runs/detect/train/weights/best.pt, 5.6MB\n",
            "\n",
            "Validating runs/detect/train/weights/best.pt...\n",
            "Ultralytics 8.3.174 🚀 Python-3.11.13 torch-2.6.0+cu124 CUDA:0 (Tesla T4, 15095MiB)\n",
            "YOLOv12n summary (fused): 159 layers, 2,590,824 parameters, 0 gradients, 6.5 GFLOPs\n"
          ]
        },
        {
          "output_type": "stream",
          "name": "stderr",
          "text": [
            "                 Class     Images  Instances      Box(P          R      mAP50  mAP50-95): 100%|██████████| 1/1 [00:00<00:00, 18.20it/s]\n"
          ]
        },
        {
          "output_type": "stream",
          "name": "stdout",
          "text": [
            "                   all          4         17      0.723      0.433      0.908       0.59\n",
            "                person          3         10      0.426        0.6      0.639      0.311\n",
            "                   dog          1          1          1          0      0.995      0.405\n",
            "                 horse          1          2      0.394          1      0.995      0.648\n",
            "              elephant          1          2          1          0      0.828      0.187\n",
            "              umbrella          1          1       0.52          1      0.995      0.995\n",
            "          potted plant          1          1          1          0      0.995      0.995\n",
            "Speed: 0.3ms preprocess, 8.1ms inference, 0.0ms loss, 1.8ms postprocess per image\n",
            "Results saved to \u001b[1mruns/detect/train\u001b[0m\n"
          ]
        }
      ]
    },
    {
      "cell_type": "code",
      "source": [
        "# Run inference with the YOLO12n model on the 'bus.jpg' image\n",
        "results = model(\"/content/cars.m4v\", save=True)"
      ],
      "metadata": {
        "colab": {
          "base_uri": "https://localhost:8080/"
        },
        "id": "WqtRzWFXvU3D",
        "outputId": "c1555cb9-1030-42b8-b211-99d427ee7f75"
      },
      "execution_count": 6,
      "outputs": [
        {
          "output_type": "stream",
          "name": "stdout",
          "text": [
            "\n",
            "WARNING ⚠️ \n",
            "inference results will accumulate in RAM unless `stream=True` is passed, causing potential out-of-memory\n",
            "errors for large sources or long-running streams and videos. See https://docs.ultralytics.com/modes/predict/ for help.\n",
            "\n",
            "Example:\n",
            "    results = model(source=..., stream=True)  # generator of Results objects\n",
            "    for r in results:\n",
            "        boxes = r.boxes  # Boxes object for bbox outputs\n",
            "        masks = r.masks  # Masks object for segment masks outputs\n",
            "        probs = r.probs  # Class probabilities for classification outputs\n",
            "\n",
            "video 1/1 (frame 1/1250) /content/cars.m4v: 384x640 4 cars, 67.5ms\n",
            "video 1/1 (frame 2/1250) /content/cars.m4v: 384x640 3 cars, 16.2ms\n",
            "video 1/1 (frame 3/1250) /content/cars.m4v: 384x640 3 cars, 18.1ms\n",
            "video 1/1 (frame 4/1250) /content/cars.m4v: 384x640 3 cars, 20.1ms\n",
            "video 1/1 (frame 5/1250) /content/cars.m4v: 384x640 3 cars, 18.1ms\n",
            "video 1/1 (frame 6/1250) /content/cars.m4v: 384x640 3 cars, 16.4ms\n",
            "video 1/1 (frame 7/1250) /content/cars.m4v: 384x640 3 cars, 19.5ms\n",
            "video 1/1 (frame 8/1250) /content/cars.m4v: 384x640 4 cars, 16.2ms\n",
            "video 1/1 (frame 9/1250) /content/cars.m4v: 384x640 4 cars, 16.8ms\n",
            "video 1/1 (frame 10/1250) /content/cars.m4v: 384x640 3 cars, 16.4ms\n",
            "video 1/1 (frame 11/1250) /content/cars.m4v: 384x640 3 cars, 1 truck, 16.6ms\n",
            "video 1/1 (frame 12/1250) /content/cars.m4v: 384x640 3 cars, 1 truck, 18.2ms\n",
            "video 1/1 (frame 13/1250) /content/cars.m4v: 384x640 3 cars, 1 truck, 15.2ms\n",
            "video 1/1 (frame 14/1250) /content/cars.m4v: 384x640 3 cars, 16.3ms\n",
            "video 1/1 (frame 15/1250) /content/cars.m4v: 384x640 4 cars, 18.2ms\n",
            "video 1/1 (frame 16/1250) /content/cars.m4v: 384x640 4 cars, 15.6ms\n",
            "video 1/1 (frame 17/1250) /content/cars.m4v: 384x640 4 cars, 14.9ms\n",
            "video 1/1 (frame 18/1250) /content/cars.m4v: 384x640 4 cars, 18.3ms\n",
            "video 1/1 (frame 19/1250) /content/cars.m4v: 384x640 4 cars, 19.2ms\n",
            "video 1/1 (frame 20/1250) /content/cars.m4v: 384x640 4 cars, 17.5ms\n",
            "video 1/1 (frame 21/1250) /content/cars.m4v: 384x640 4 cars, 15.1ms\n",
            "video 1/1 (frame 22/1250) /content/cars.m4v: 384x640 4 cars, 17.1ms\n",
            "video 1/1 (frame 23/1250) /content/cars.m4v: 384x640 4 cars, 16.6ms\n",
            "video 1/1 (frame 24/1250) /content/cars.m4v: 384x640 4 cars, 15.3ms\n",
            "video 1/1 (frame 25/1250) /content/cars.m4v: 384x640 4 cars, 1 truck, 15.6ms\n",
            "video 1/1 (frame 26/1250) /content/cars.m4v: 384x640 4 cars, 1 truck, 15.3ms\n",
            "video 1/1 (frame 27/1250) /content/cars.m4v: 384x640 5 cars, 20.9ms\n",
            "video 1/1 (frame 28/1250) /content/cars.m4v: 384x640 5 cars, 15.4ms\n",
            "video 1/1 (frame 29/1250) /content/cars.m4v: 384x640 5 cars, 19.5ms\n",
            "video 1/1 (frame 30/1250) /content/cars.m4v: 384x640 5 cars, 14.5ms\n",
            "video 1/1 (frame 31/1250) /content/cars.m4v: 384x640 5 cars, 17.7ms\n",
            "video 1/1 (frame 32/1250) /content/cars.m4v: 384x640 5 cars, 15.4ms\n",
            "video 1/1 (frame 33/1250) /content/cars.m4v: 384x640 5 cars, 14.9ms\n",
            "video 1/1 (frame 34/1250) /content/cars.m4v: 384x640 5 cars, 15.1ms\n",
            "video 1/1 (frame 35/1250) /content/cars.m4v: 384x640 5 cars, 26.6ms\n",
            "video 1/1 (frame 36/1250) /content/cars.m4v: 384x640 5 cars, 15.4ms\n",
            "video 1/1 (frame 37/1250) /content/cars.m4v: 384x640 5 cars, 14.8ms\n",
            "video 1/1 (frame 38/1250) /content/cars.m4v: 384x640 5 cars, 15.9ms\n",
            "video 1/1 (frame 39/1250) /content/cars.m4v: 384x640 5 cars, 17.6ms\n",
            "video 1/1 (frame 40/1250) /content/cars.m4v: 384x640 5 cars, 16.2ms\n",
            "video 1/1 (frame 41/1250) /content/cars.m4v: 384x640 5 cars, 15.2ms\n",
            "video 1/1 (frame 42/1250) /content/cars.m4v: 384x640 5 cars, 14.4ms\n",
            "video 1/1 (frame 43/1250) /content/cars.m4v: 384x640 5 cars, 18.3ms\n",
            "video 1/1 (frame 44/1250) /content/cars.m4v: 384x640 5 cars, 15.9ms\n",
            "video 1/1 (frame 45/1250) /content/cars.m4v: 384x640 5 cars, 1 truck, 15.8ms\n",
            "video 1/1 (frame 46/1250) /content/cars.m4v: 384x640 4 cars, 2 trucks, 19.1ms\n",
            "video 1/1 (frame 47/1250) /content/cars.m4v: 384x640 4 cars, 1 truck, 17.0ms\n",
            "video 1/1 (frame 48/1250) /content/cars.m4v: 384x640 4 cars, 1 truck, 14.8ms\n",
            "video 1/1 (frame 49/1250) /content/cars.m4v: 384x640 4 cars, 1 truck, 14.8ms\n",
            "video 1/1 (frame 50/1250) /content/cars.m4v: 384x640 4 cars, 16.0ms\n",
            "video 1/1 (frame 51/1250) /content/cars.m4v: 384x640 4 cars, 1 truck, 17.5ms\n",
            "video 1/1 (frame 52/1250) /content/cars.m4v: 384x640 4 cars, 1 truck, 28.9ms\n",
            "video 1/1 (frame 53/1250) /content/cars.m4v: 384x640 5 cars, 16.7ms\n",
            "video 1/1 (frame 54/1250) /content/cars.m4v: 384x640 5 cars, 2 trucks, 16.1ms\n",
            "video 1/1 (frame 55/1250) /content/cars.m4v: 384x640 5 cars, 19.5ms\n",
            "video 1/1 (frame 56/1250) /content/cars.m4v: 384x640 5 cars, 14.9ms\n",
            "video 1/1 (frame 57/1250) /content/cars.m4v: 384x640 5 cars, 15.3ms\n",
            "video 1/1 (frame 58/1250) /content/cars.m4v: 384x640 5 cars, 16.3ms\n",
            "video 1/1 (frame 59/1250) /content/cars.m4v: 384x640 5 cars, 17.1ms\n",
            "video 1/1 (frame 60/1250) /content/cars.m4v: 384x640 4 cars, 20.2ms\n",
            "video 1/1 (frame 61/1250) /content/cars.m4v: 384x640 4 cars, 15.9ms\n",
            "video 1/1 (frame 62/1250) /content/cars.m4v: 384x640 5 cars, 15.2ms\n",
            "video 1/1 (frame 63/1250) /content/cars.m4v: 384x640 5 cars, 18.1ms\n",
            "video 1/1 (frame 64/1250) /content/cars.m4v: 384x640 5 cars, 15.7ms\n",
            "video 1/1 (frame 65/1250) /content/cars.m4v: 384x640 5 cars, 15.7ms\n",
            "video 1/1 (frame 66/1250) /content/cars.m4v: 384x640 5 cars, 14.4ms\n",
            "video 1/1 (frame 67/1250) /content/cars.m4v: 384x640 5 cars, 17.2ms\n",
            "video 1/1 (frame 68/1250) /content/cars.m4v: 384x640 5 cars, 15.2ms\n",
            "video 1/1 (frame 69/1250) /content/cars.m4v: 384x640 5 cars, 17.7ms\n",
            "video 1/1 (frame 70/1250) /content/cars.m4v: 384x640 5 cars, 18.5ms\n",
            "video 1/1 (frame 71/1250) /content/cars.m4v: 384x640 5 cars, 16.4ms\n",
            "video 1/1 (frame 72/1250) /content/cars.m4v: 384x640 5 cars, 17.9ms\n",
            "video 1/1 (frame 73/1250) /content/cars.m4v: 384x640 5 cars, 15.2ms\n",
            "video 1/1 (frame 74/1250) /content/cars.m4v: 384x640 5 cars, 15.2ms\n",
            "video 1/1 (frame 75/1250) /content/cars.m4v: 384x640 5 cars, 17.4ms\n",
            "video 1/1 (frame 76/1250) /content/cars.m4v: 384x640 5 cars, 16.3ms\n",
            "video 1/1 (frame 77/1250) /content/cars.m4v: 384x640 5 cars, 15.6ms\n",
            "video 1/1 (frame 78/1250) /content/cars.m4v: 384x640 5 cars, 18.2ms\n",
            "video 1/1 (frame 79/1250) /content/cars.m4v: 384x640 4 cars, 19.0ms\n",
            "video 1/1 (frame 80/1250) /content/cars.m4v: 384x640 4 cars, 20.3ms\n",
            "video 1/1 (frame 81/1250) /content/cars.m4v: 384x640 4 cars, 17.8ms\n",
            "video 1/1 (frame 82/1250) /content/cars.m4v: 384x640 4 cars, 16.7ms\n",
            "video 1/1 (frame 83/1250) /content/cars.m4v: 384x640 4 cars, 16.7ms\n",
            "video 1/1 (frame 84/1250) /content/cars.m4v: 384x640 4 cars, 17.5ms\n",
            "video 1/1 (frame 85/1250) /content/cars.m4v: 384x640 4 cars, 15.2ms\n",
            "video 1/1 (frame 86/1250) /content/cars.m4v: 384x640 5 cars, 14.9ms\n",
            "video 1/1 (frame 87/1250) /content/cars.m4v: 384x640 4 cars, 1 motorcycle, 16.3ms\n",
            "video 1/1 (frame 88/1250) /content/cars.m4v: 384x640 5 cars, 1 truck, 17.0ms\n",
            "video 1/1 (frame 89/1250) /content/cars.m4v: 384x640 5 cars, 15.8ms\n",
            "video 1/1 (frame 90/1250) /content/cars.m4v: 384x640 5 cars, 14.8ms\n",
            "video 1/1 (frame 91/1250) /content/cars.m4v: 384x640 5 cars, 1 truck, 17.9ms\n",
            "video 1/1 (frame 92/1250) /content/cars.m4v: 384x640 5 cars, 1 truck, 16.1ms\n",
            "video 1/1 (frame 93/1250) /content/cars.m4v: 384x640 5 cars, 1 truck, 15.8ms\n",
            "video 1/1 (frame 94/1250) /content/cars.m4v: 384x640 5 cars, 15.8ms\n",
            "video 1/1 (frame 95/1250) /content/cars.m4v: 384x640 5 cars, 16.5ms\n",
            "video 1/1 (frame 96/1250) /content/cars.m4v: 384x640 5 cars, 16.0ms\n",
            "video 1/1 (frame 97/1250) /content/cars.m4v: 384x640 5 cars, 20.5ms\n",
            "video 1/1 (frame 98/1250) /content/cars.m4v: 384x640 5 cars, 15.4ms\n",
            "video 1/1 (frame 99/1250) /content/cars.m4v: 384x640 5 cars, 1 truck, 15.0ms\n",
            "video 1/1 (frame 100/1250) /content/cars.m4v: 384x640 5 cars, 1 truck, 14.9ms\n",
            "video 1/1 (frame 101/1250) /content/cars.m4v: 384x640 5 cars, 1 truck, 18.7ms\n",
            "video 1/1 (frame 102/1250) /content/cars.m4v: 384x640 5 cars, 1 truck, 15.6ms\n",
            "video 1/1 (frame 103/1250) /content/cars.m4v: 384x640 5 cars, 1 truck, 15.6ms\n",
            "video 1/1 (frame 104/1250) /content/cars.m4v: 384x640 5 cars, 1 truck, 28.6ms\n",
            "video 1/1 (frame 105/1250) /content/cars.m4v: 384x640 5 cars, 1 truck, 18.3ms\n",
            "video 1/1 (frame 106/1250) /content/cars.m4v: 384x640 5 cars, 1 truck, 15.6ms\n",
            "video 1/1 (frame 107/1250) /content/cars.m4v: 384x640 4 cars, 1 suitcase, 17.7ms\n",
            "video 1/1 (frame 108/1250) /content/cars.m4v: 384x640 4 cars, 16.2ms\n",
            "video 1/1 (frame 109/1250) /content/cars.m4v: 384x640 4 cars, 1 suitcase, 18.3ms\n",
            "video 1/1 (frame 110/1250) /content/cars.m4v: 384x640 4 cars, 24.1ms\n",
            "video 1/1 (frame 111/1250) /content/cars.m4v: 384x640 4 cars, 16.3ms\n",
            "video 1/1 (frame 112/1250) /content/cars.m4v: 384x640 5 cars, 17.8ms\n",
            "video 1/1 (frame 113/1250) /content/cars.m4v: 384x640 5 cars, 16.4ms\n",
            "video 1/1 (frame 114/1250) /content/cars.m4v: 384x640 5 cars, 1 truck, 17.7ms\n",
            "video 1/1 (frame 115/1250) /content/cars.m4v: 384x640 5 cars, 1 truck, 15.6ms\n",
            "video 1/1 (frame 116/1250) /content/cars.m4v: 384x640 5 cars, 1 truck, 15.8ms\n",
            "video 1/1 (frame 117/1250) /content/cars.m4v: 384x640 5 cars, 1 truck, 17.5ms\n",
            "video 1/1 (frame 118/1250) /content/cars.m4v: 384x640 5 cars, 14.6ms\n",
            "video 1/1 (frame 119/1250) /content/cars.m4v: 384x640 5 cars, 1 truck, 19.0ms\n",
            "video 1/1 (frame 120/1250) /content/cars.m4v: 384x640 5 cars, 1 truck, 25.2ms\n",
            "video 1/1 (frame 121/1250) /content/cars.m4v: 384x640 5 cars, 1 truck, 17.2ms\n",
            "video 1/1 (frame 122/1250) /content/cars.m4v: 384x640 5 cars, 1 truck, 15.9ms\n",
            "video 1/1 (frame 123/1250) /content/cars.m4v: 384x640 5 cars, 1 truck, 18.1ms\n",
            "video 1/1 (frame 124/1250) /content/cars.m4v: 384x640 5 cars, 2 trucks, 15.8ms\n",
            "video 1/1 (frame 125/1250) /content/cars.m4v: 384x640 5 cars, 1 truck, 19.0ms\n",
            "video 1/1 (frame 126/1250) /content/cars.m4v: 384x640 5 cars, 1 truck, 17.1ms\n",
            "video 1/1 (frame 127/1250) /content/cars.m4v: 384x640 4 cars, 1 truck, 15.6ms\n",
            "video 1/1 (frame 128/1250) /content/cars.m4v: 384x640 5 cars, 1 truck, 15.3ms\n",
            "video 1/1 (frame 129/1250) /content/cars.m4v: 384x640 4 cars, 1 truck, 17.6ms\n",
            "video 1/1 (frame 130/1250) /content/cars.m4v: 384x640 4 cars, 1 truck, 15.5ms\n",
            "video 1/1 (frame 131/1250) /content/cars.m4v: 384x640 4 cars, 1 truck, 15.5ms\n",
            "video 1/1 (frame 132/1250) /content/cars.m4v: 384x640 4 cars, 1 truck, 15.4ms\n",
            "video 1/1 (frame 133/1250) /content/cars.m4v: 384x640 3 cars, 3 trucks, 17.5ms\n",
            "video 1/1 (frame 134/1250) /content/cars.m4v: 384x640 3 cars, 3 trucks, 17.3ms\n",
            "video 1/1 (frame 135/1250) /content/cars.m4v: 384x640 2 cars, 2 trucks, 16.7ms\n",
            "video 1/1 (frame 136/1250) /content/cars.m4v: 384x640 2 cars, 2 trucks, 14.6ms\n",
            "video 1/1 (frame 137/1250) /content/cars.m4v: 384x640 3 cars, 2 trucks, 28.6ms\n",
            "video 1/1 (frame 138/1250) /content/cars.m4v: 384x640 3 cars, 1 truck, 14.5ms\n",
            "video 1/1 (frame 139/1250) /content/cars.m4v: 384x640 3 cars, 2 trucks, 15.1ms\n",
            "video 1/1 (frame 140/1250) /content/cars.m4v: 384x640 3 cars, 2 trucks, 15.7ms\n",
            "video 1/1 (frame 141/1250) /content/cars.m4v: 384x640 3 cars, 3 trucks, 18.7ms\n",
            "video 1/1 (frame 142/1250) /content/cars.m4v: 384x640 2 cars, 3 trucks, 18.9ms\n",
            "video 1/1 (frame 143/1250) /content/cars.m4v: 384x640 2 cars, 2 trucks, 16.9ms\n",
            "video 1/1 (frame 144/1250) /content/cars.m4v: 384x640 2 cars, 1 truck, 15.2ms\n",
            "video 1/1 (frame 145/1250) /content/cars.m4v: 384x640 3 cars, 2 trucks, 24.9ms\n",
            "video 1/1 (frame 146/1250) /content/cars.m4v: 384x640 2 cars, 2 trucks, 22.3ms\n",
            "video 1/1 (frame 147/1250) /content/cars.m4v: 384x640 4 cars, 2 trucks, 19.1ms\n",
            "video 1/1 (frame 148/1250) /content/cars.m4v: 384x640 2 cars, 2 trucks, 21.6ms\n",
            "video 1/1 (frame 149/1250) /content/cars.m4v: 384x640 4 cars, 1 truck, 25.4ms\n",
            "video 1/1 (frame 150/1250) /content/cars.m4v: 384x640 4 cars, 1 truck, 22.1ms\n",
            "video 1/1 (frame 151/1250) /content/cars.m4v: 384x640 3 cars, 3 trucks, 19.5ms\n",
            "video 1/1 (frame 152/1250) /content/cars.m4v: 384x640 5 cars, 1 truck, 18.0ms\n",
            "video 1/1 (frame 153/1250) /content/cars.m4v: 384x640 4 cars, 3 trucks, 17.9ms\n",
            "video 1/1 (frame 154/1250) /content/cars.m4v: 384x640 3 cars, 3 trucks, 18.0ms\n",
            "video 1/1 (frame 155/1250) /content/cars.m4v: 384x640 3 cars, 3 trucks, 20.5ms\n",
            "video 1/1 (frame 156/1250) /content/cars.m4v: 384x640 4 cars, 2 trucks, 32.0ms\n",
            "video 1/1 (frame 157/1250) /content/cars.m4v: 384x640 4 cars, 2 trucks, 33.5ms\n",
            "video 1/1 (frame 158/1250) /content/cars.m4v: 384x640 4 cars, 3 trucks, 18.0ms\n",
            "video 1/1 (frame 159/1250) /content/cars.m4v: 384x640 4 cars, 3 trucks, 22.1ms\n",
            "video 1/1 (frame 160/1250) /content/cars.m4v: 384x640 4 cars, 2 trucks, 17.5ms\n",
            "video 1/1 (frame 161/1250) /content/cars.m4v: 384x640 3 cars, 2 trucks, 20.8ms\n",
            "video 1/1 (frame 162/1250) /content/cars.m4v: 384x640 4 cars, 2 trucks, 24.3ms\n",
            "video 1/1 (frame 163/1250) /content/cars.m4v: 384x640 4 cars, 3 trucks, 16.9ms\n",
            "video 1/1 (frame 164/1250) /content/cars.m4v: 384x640 4 cars, 2 trucks, 32.6ms\n",
            "video 1/1 (frame 165/1250) /content/cars.m4v: 384x640 4 cars, 2 trucks, 23.8ms\n",
            "video 1/1 (frame 166/1250) /content/cars.m4v: 384x640 4 cars, 1 truck, 22.1ms\n",
            "video 1/1 (frame 167/1250) /content/cars.m4v: 384x640 5 cars, 1 truck, 19.3ms\n",
            "video 1/1 (frame 168/1250) /content/cars.m4v: 384x640 4 cars, 1 truck, 22.0ms\n",
            "video 1/1 (frame 169/1250) /content/cars.m4v: 384x640 4 cars, 1 truck, 34.7ms\n",
            "video 1/1 (frame 170/1250) /content/cars.m4v: 384x640 4 cars, 1 truck, 19.9ms\n",
            "video 1/1 (frame 171/1250) /content/cars.m4v: 384x640 4 cars, 1 truck, 27.7ms\n",
            "video 1/1 (frame 172/1250) /content/cars.m4v: 384x640 4 cars, 1 truck, 25.2ms\n",
            "video 1/1 (frame 173/1250) /content/cars.m4v: 384x640 4 cars, 1 truck, 21.1ms\n",
            "video 1/1 (frame 174/1250) /content/cars.m4v: 384x640 4 cars, 1 truck, 15.8ms\n",
            "video 1/1 (frame 175/1250) /content/cars.m4v: 384x640 4 cars, 1 truck, 16.9ms\n",
            "video 1/1 (frame 176/1250) /content/cars.m4v: 384x640 4 cars, 1 truck, 20.6ms\n",
            "video 1/1 (frame 177/1250) /content/cars.m4v: 384x640 4 cars, 1 truck, 18.2ms\n",
            "video 1/1 (frame 178/1250) /content/cars.m4v: 384x640 4 cars, 1 truck, 18.4ms\n",
            "video 1/1 (frame 179/1250) /content/cars.m4v: 384x640 4 cars, 1 truck, 16.4ms\n",
            "video 1/1 (frame 180/1250) /content/cars.m4v: 384x640 4 cars, 1 truck, 15.6ms\n",
            "video 1/1 (frame 181/1250) /content/cars.m4v: 384x640 4 cars, 1 truck, 17.9ms\n",
            "video 1/1 (frame 182/1250) /content/cars.m4v: 384x640 4 cars, 1 truck, 15.5ms\n",
            "video 1/1 (frame 183/1250) /content/cars.m4v: 384x640 5 cars, 2 trucks, 19.4ms\n",
            "video 1/1 (frame 184/1250) /content/cars.m4v: 384x640 4 cars, 1 truck, 15.4ms\n",
            "video 1/1 (frame 185/1250) /content/cars.m4v: 384x640 4 cars, 1 truck, 19.7ms\n",
            "video 1/1 (frame 186/1250) /content/cars.m4v: 384x640 4 cars, 1 truck, 15.3ms\n",
            "video 1/1 (frame 187/1250) /content/cars.m4v: 384x640 4 cars, 1 truck, 14.3ms\n",
            "video 1/1 (frame 188/1250) /content/cars.m4v: 384x640 4 cars, 1 truck, 16.5ms\n",
            "video 1/1 (frame 189/1250) /content/cars.m4v: 384x640 4 cars, 1 truck, 17.0ms\n",
            "video 1/1 (frame 190/1250) /content/cars.m4v: 384x640 4 cars, 1 truck, 16.5ms\n",
            "video 1/1 (frame 191/1250) /content/cars.m4v: 384x640 4 cars, 1 truck, 19.0ms\n",
            "video 1/1 (frame 192/1250) /content/cars.m4v: 384x640 4 cars, 1 truck, 15.7ms\n",
            "video 1/1 (frame 193/1250) /content/cars.m4v: 384x640 5 cars, 1 truck, 16.5ms\n",
            "video 1/1 (frame 194/1250) /content/cars.m4v: 384x640 4 cars, 1 truck, 17.8ms\n",
            "video 1/1 (frame 195/1250) /content/cars.m4v: 384x640 4 cars, 1 truck, 16.7ms\n",
            "video 1/1 (frame 196/1250) /content/cars.m4v: 384x640 4 cars, 1 truck, 17.7ms\n",
            "video 1/1 (frame 197/1250) /content/cars.m4v: 384x640 4 cars, 1 truck, 17.2ms\n",
            "video 1/1 (frame 198/1250) /content/cars.m4v: 384x640 3 cars, 2 trucks, 20.3ms\n",
            "video 1/1 (frame 199/1250) /content/cars.m4v: 384x640 3 cars, 2 trucks, 15.2ms\n",
            "video 1/1 (frame 200/1250) /content/cars.m4v: 384x640 4 cars, 1 truck, 17.3ms\n",
            "video 1/1 (frame 201/1250) /content/cars.m4v: 384x640 3 cars, 2 trucks, 18.8ms\n",
            "video 1/1 (frame 202/1250) /content/cars.m4v: 384x640 3 cars, 2 trucks, 17.0ms\n",
            "video 1/1 (frame 203/1250) /content/cars.m4v: 384x640 3 cars, 2 trucks, 17.1ms\n",
            "video 1/1 (frame 204/1250) /content/cars.m4v: 384x640 3 cars, 1 truck, 14.5ms\n",
            "video 1/1 (frame 205/1250) /content/cars.m4v: 384x640 3 cars, 1 truck, 19.2ms\n",
            "video 1/1 (frame 206/1250) /content/cars.m4v: 384x640 4 cars, 1 truck, 64.5ms\n",
            "video 1/1 (frame 207/1250) /content/cars.m4v: 384x640 4 cars, 1 truck, 31.5ms\n",
            "video 1/1 (frame 208/1250) /content/cars.m4v: 384x640 3 cars, 1 truck, 40.1ms\n",
            "video 1/1 (frame 209/1250) /content/cars.m4v: 384x640 4 cars, 1 truck, 21.9ms\n",
            "video 1/1 (frame 210/1250) /content/cars.m4v: 384x640 3 cars, 1 truck, 14.7ms\n",
            "video 1/1 (frame 211/1250) /content/cars.m4v: 384x640 4 cars, 1 truck, 15.3ms\n",
            "video 1/1 (frame 212/1250) /content/cars.m4v: 384x640 4 cars, 1 truck, 15.0ms\n",
            "video 1/1 (frame 213/1250) /content/cars.m4v: 384x640 3 cars, 1 truck, 17.2ms\n",
            "video 1/1 (frame 214/1250) /content/cars.m4v: 384x640 3 cars, 1 truck, 15.2ms\n",
            "video 1/1 (frame 215/1250) /content/cars.m4v: 384x640 3 cars, 1 truck, 14.0ms\n",
            "video 1/1 (frame 216/1250) /content/cars.m4v: 384x640 3 cars, 1 truck, 15.0ms\n",
            "video 1/1 (frame 217/1250) /content/cars.m4v: 384x640 3 cars, 1 truck, 26.7ms\n",
            "video 1/1 (frame 218/1250) /content/cars.m4v: 384x640 3 cars, 1 truck, 62.2ms\n",
            "video 1/1 (frame 219/1250) /content/cars.m4v: 384x640 3 cars, 1 truck, 26.6ms\n",
            "video 1/1 (frame 220/1250) /content/cars.m4v: 384x640 3 cars, 1 truck, 21.3ms\n",
            "video 1/1 (frame 221/1250) /content/cars.m4v: 384x640 3 cars, 1 truck, 17.0ms\n",
            "video 1/1 (frame 222/1250) /content/cars.m4v: 384x640 3 cars, 1 truck, 16.6ms\n",
            "video 1/1 (frame 223/1250) /content/cars.m4v: 384x640 3 cars, 1 truck, 16.1ms\n",
            "video 1/1 (frame 224/1250) /content/cars.m4v: 384x640 3 cars, 1 truck, 14.8ms\n",
            "video 1/1 (frame 225/1250) /content/cars.m4v: 384x640 3 cars, 1 truck, 16.6ms\n",
            "video 1/1 (frame 226/1250) /content/cars.m4v: 384x640 3 cars, 1 truck, 15.8ms\n",
            "video 1/1 (frame 227/1250) /content/cars.m4v: 384x640 4 cars, 1 truck, 16.9ms\n",
            "video 1/1 (frame 228/1250) /content/cars.m4v: 384x640 4 cars, 1 truck, 16.5ms\n",
            "video 1/1 (frame 229/1250) /content/cars.m4v: 384x640 4 cars, 1 truck, 18.5ms\n",
            "video 1/1 (frame 230/1250) /content/cars.m4v: 384x640 4 cars, 1 truck, 18.1ms\n",
            "video 1/1 (frame 231/1250) /content/cars.m4v: 384x640 4 cars, 1 truck, 16.3ms\n",
            "video 1/1 (frame 232/1250) /content/cars.m4v: 384x640 4 cars, 1 truck, 17.7ms\n",
            "video 1/1 (frame 233/1250) /content/cars.m4v: 384x640 4 cars, 1 truck, 18.1ms\n",
            "video 1/1 (frame 234/1250) /content/cars.m4v: 384x640 4 cars, 1 truck, 15.0ms\n",
            "video 1/1 (frame 235/1250) /content/cars.m4v: 384x640 4 cars, 1 truck, 16.1ms\n",
            "video 1/1 (frame 236/1250) /content/cars.m4v: 384x640 4 cars, 1 truck, 21.3ms\n",
            "video 1/1 (frame 237/1250) /content/cars.m4v: 384x640 4 cars, 1 truck, 21.0ms\n",
            "video 1/1 (frame 238/1250) /content/cars.m4v: 384x640 4 cars, 1 truck, 16.3ms\n",
            "video 1/1 (frame 239/1250) /content/cars.m4v: 384x640 4 cars, 1 truck, 15.5ms\n",
            "video 1/1 (frame 240/1250) /content/cars.m4v: 384x640 4 cars, 1 truck, 17.4ms\n",
            "video 1/1 (frame 241/1250) /content/cars.m4v: 384x640 4 cars, 2 trucks, 17.2ms\n",
            "video 1/1 (frame 242/1250) /content/cars.m4v: 384x640 5 cars, 2 trucks, 15.9ms\n",
            "video 1/1 (frame 243/1250) /content/cars.m4v: 384x640 5 cars, 1 truck, 15.5ms\n",
            "video 1/1 (frame 244/1250) /content/cars.m4v: 384x640 5 cars, 1 truck, 16.0ms\n",
            "video 1/1 (frame 245/1250) /content/cars.m4v: 384x640 4 cars, 1 truck, 15.0ms\n",
            "video 1/1 (frame 246/1250) /content/cars.m4v: 384x640 4 cars, 1 truck, 16.1ms\n",
            "video 1/1 (frame 247/1250) /content/cars.m4v: 384x640 4 cars, 1 truck, 15.3ms\n",
            "video 1/1 (frame 248/1250) /content/cars.m4v: 384x640 4 cars, 1 truck, 17.6ms\n",
            "video 1/1 (frame 249/1250) /content/cars.m4v: 384x640 4 cars, 1 truck, 16.9ms\n",
            "video 1/1 (frame 250/1250) /content/cars.m4v: 384x640 4 cars, 1 truck, 14.8ms\n",
            "video 1/1 (frame 251/1250) /content/cars.m4v: 384x640 4 cars, 1 truck, 18.2ms\n",
            "video 1/1 (frame 252/1250) /content/cars.m4v: 384x640 4 cars, 1 truck, 18.9ms\n",
            "video 1/1 (frame 253/1250) /content/cars.m4v: 384x640 4 cars, 1 truck, 23.3ms\n",
            "video 1/1 (frame 254/1250) /content/cars.m4v: 384x640 4 cars, 1 truck, 15.2ms\n",
            "video 1/1 (frame 255/1250) /content/cars.m4v: 384x640 4 cars, 2 trucks, 15.1ms\n",
            "video 1/1 (frame 256/1250) /content/cars.m4v: 384x640 5 cars, 1 truck, 15.2ms\n",
            "video 1/1 (frame 257/1250) /content/cars.m4v: 384x640 4 cars, 1 truck, 16.9ms\n",
            "video 1/1 (frame 258/1250) /content/cars.m4v: 384x640 4 cars, 2 trucks, 15.7ms\n",
            "video 1/1 (frame 259/1250) /content/cars.m4v: 384x640 4 cars, 2 trucks, 15.2ms\n",
            "video 1/1 (frame 260/1250) /content/cars.m4v: 384x640 5 cars, 2 trucks, 15.3ms\n",
            "video 1/1 (frame 261/1250) /content/cars.m4v: 384x640 4 cars, 3 trucks, 20.8ms\n",
            "video 1/1 (frame 262/1250) /content/cars.m4v: 384x640 4 cars, 1 truck, 14.9ms\n",
            "video 1/1 (frame 263/1250) /content/cars.m4v: 384x640 4 cars, 1 truck, 15.4ms\n",
            "video 1/1 (frame 264/1250) /content/cars.m4v: 384x640 5 cars, 3 trucks, 17.0ms\n",
            "video 1/1 (frame 265/1250) /content/cars.m4v: 384x640 5 cars, 2 trucks, 18.6ms\n",
            "video 1/1 (frame 266/1250) /content/cars.m4v: 384x640 5 cars, 1 truck, 15.0ms\n",
            "video 1/1 (frame 267/1250) /content/cars.m4v: 384x640 4 cars, 1 truck, 15.8ms\n",
            "video 1/1 (frame 268/1250) /content/cars.m4v: 384x640 4 cars, 1 truck, 17.2ms\n",
            "video 1/1 (frame 269/1250) /content/cars.m4v: 384x640 3 cars, 5 trucks, 16.5ms\n",
            "video 1/1 (frame 270/1250) /content/cars.m4v: 384x640 3 cars, 5 trucks, 27.0ms\n",
            "video 1/1 (frame 271/1250) /content/cars.m4v: 384x640 2 cars, 4 trucks, 20.9ms\n",
            "video 1/1 (frame 272/1250) /content/cars.m4v: 384x640 2 cars, 4 trucks, 15.4ms\n",
            "video 1/1 (frame 273/1250) /content/cars.m4v: 384x640 3 cars, 1 truck, 18.0ms\n",
            "video 1/1 (frame 274/1250) /content/cars.m4v: 384x640 3 cars, 4 trucks, 15.5ms\n",
            "video 1/1 (frame 275/1250) /content/cars.m4v: 384x640 2 cars, 3 trucks, 16.6ms\n",
            "video 1/1 (frame 276/1250) /content/cars.m4v: 384x640 3 cars, 3 trucks, 13.6ms\n",
            "video 1/1 (frame 277/1250) /content/cars.m4v: 384x640 2 cars, 3 trucks, 16.7ms\n",
            "video 1/1 (frame 278/1250) /content/cars.m4v: 384x640 2 cars, 2 trucks, 14.9ms\n",
            "video 1/1 (frame 279/1250) /content/cars.m4v: 384x640 2 cars, 2 trucks, 16.8ms\n",
            "video 1/1 (frame 280/1250) /content/cars.m4v: 384x640 2 cars, 4 trucks, 15.4ms\n",
            "video 1/1 (frame 281/1250) /content/cars.m4v: 384x640 2 cars, 4 trucks, 18.7ms\n",
            "video 1/1 (frame 282/1250) /content/cars.m4v: 384x640 2 cars, 3 trucks, 15.9ms\n",
            "video 1/1 (frame 283/1250) /content/cars.m4v: 384x640 2 cars, 3 trucks, 16.7ms\n",
            "video 1/1 (frame 284/1250) /content/cars.m4v: 384x640 2 cars, 4 trucks, 16.1ms\n",
            "video 1/1 (frame 285/1250) /content/cars.m4v: 384x640 2 cars, 4 trucks, 16.5ms\n",
            "video 1/1 (frame 286/1250) /content/cars.m4v: 384x640 2 cars, 4 trucks, 16.9ms\n",
            "video 1/1 (frame 287/1250) /content/cars.m4v: 384x640 1 car, 4 trucks, 20.9ms\n",
            "video 1/1 (frame 288/1250) /content/cars.m4v: 384x640 2 cars, 3 trucks, 15.5ms\n",
            "video 1/1 (frame 289/1250) /content/cars.m4v: 384x640 3 cars, 3 trucks, 18.9ms\n",
            "video 1/1 (frame 290/1250) /content/cars.m4v: 384x640 3 cars, 3 trucks, 16.9ms\n",
            "video 1/1 (frame 291/1250) /content/cars.m4v: 384x640 3 cars, 2 trucks, 15.7ms\n",
            "video 1/1 (frame 292/1250) /content/cars.m4v: 384x640 3 cars, 2 trucks, 15.8ms\n",
            "video 1/1 (frame 293/1250) /content/cars.m4v: 384x640 2 cars, 2 trucks, 16.0ms\n",
            "video 1/1 (frame 294/1250) /content/cars.m4v: 384x640 3 cars, 2 trucks, 1 traffic light, 17.0ms\n",
            "video 1/1 (frame 295/1250) /content/cars.m4v: 384x640 3 cars, 2 trucks, 15.8ms\n",
            "video 1/1 (frame 296/1250) /content/cars.m4v: 384x640 3 cars, 2 trucks, 14.3ms\n",
            "video 1/1 (frame 297/1250) /content/cars.m4v: 384x640 2 cars, 2 trucks, 19.8ms\n",
            "video 1/1 (frame 298/1250) /content/cars.m4v: 384x640 3 cars, 1 truck, 19.8ms\n",
            "video 1/1 (frame 299/1250) /content/cars.m4v: 384x640 3 cars, 1 truck, 15.5ms\n",
            "video 1/1 (frame 300/1250) /content/cars.m4v: 384x640 3 cars, 1 truck, 16.3ms\n",
            "video 1/1 (frame 301/1250) /content/cars.m4v: 384x640 3 cars, 1 truck, 19.9ms\n",
            "video 1/1 (frame 302/1250) /content/cars.m4v: 384x640 3 cars, 1 truck, 15.2ms\n",
            "video 1/1 (frame 303/1250) /content/cars.m4v: 384x640 3 cars, 1 truck, 16.3ms\n",
            "video 1/1 (frame 304/1250) /content/cars.m4v: 384x640 3 cars, 1 truck, 16.7ms\n",
            "video 1/1 (frame 305/1250) /content/cars.m4v: 384x640 3 cars, 17.9ms\n",
            "video 1/1 (frame 306/1250) /content/cars.m4v: 384x640 3 cars, 1 truck, 16.9ms\n",
            "video 1/1 (frame 307/1250) /content/cars.m4v: 384x640 3 cars, 1 truck, 15.3ms\n",
            "video 1/1 (frame 308/1250) /content/cars.m4v: 384x640 3 cars, 1 truck, 15.0ms\n",
            "video 1/1 (frame 309/1250) /content/cars.m4v: 384x640 3 cars, 1 truck, 17.0ms\n",
            "video 1/1 (frame 310/1250) /content/cars.m4v: 384x640 3 cars, 1 truck, 14.9ms\n",
            "video 1/1 (frame 311/1250) /content/cars.m4v: 384x640 3 cars, 14.6ms\n",
            "video 1/1 (frame 312/1250) /content/cars.m4v: 384x640 3 cars, 16.3ms\n",
            "video 1/1 (frame 313/1250) /content/cars.m4v: 384x640 3 cars, 1 truck, 16.9ms\n",
            "video 1/1 (frame 314/1250) /content/cars.m4v: 384x640 3 cars, 1 truck, 15.6ms\n",
            "video 1/1 (frame 315/1250) /content/cars.m4v: 384x640 3 cars, 1 truck, 16.0ms\n",
            "video 1/1 (frame 316/1250) /content/cars.m4v: 384x640 3 cars, 1 truck, 14.7ms\n",
            "video 1/1 (frame 317/1250) /content/cars.m4v: 384x640 3 cars, 16.4ms\n",
            "video 1/1 (frame 318/1250) /content/cars.m4v: 384x640 3 cars, 13.4ms\n",
            "video 1/1 (frame 319/1250) /content/cars.m4v: 384x640 3 cars, 1 truck, 16.8ms\n",
            "video 1/1 (frame 320/1250) /content/cars.m4v: 384x640 3 cars, 1 truck, 14.9ms\n",
            "video 1/1 (frame 321/1250) /content/cars.m4v: 384x640 3 cars, 1 truck, 19.2ms\n",
            "video 1/1 (frame 322/1250) /content/cars.m4v: 384x640 3 cars, 1 truck, 15.9ms\n",
            "video 1/1 (frame 323/1250) /content/cars.m4v: 384x640 3 cars, 1 truck, 14.9ms\n",
            "video 1/1 (frame 324/1250) /content/cars.m4v: 384x640 3 cars, 1 truck, 16.9ms\n",
            "video 1/1 (frame 325/1250) /content/cars.m4v: 384x640 3 cars, 1 truck, 18.8ms\n",
            "video 1/1 (frame 326/1250) /content/cars.m4v: 384x640 3 cars, 1 truck, 16.4ms\n",
            "video 1/1 (frame 327/1250) /content/cars.m4v: 384x640 3 cars, 1 truck, 14.7ms\n",
            "video 1/1 (frame 328/1250) /content/cars.m4v: 384x640 3 cars, 1 truck, 14.4ms\n",
            "video 1/1 (frame 329/1250) /content/cars.m4v: 384x640 3 cars, 1 truck, 1 bench, 17.5ms\n",
            "video 1/1 (frame 330/1250) /content/cars.m4v: 384x640 3 cars, 1 truck, 1 bench, 25.3ms\n",
            "video 1/1 (frame 331/1250) /content/cars.m4v: 384x640 3 cars, 1 truck, 1 bench, 26.8ms\n",
            "video 1/1 (frame 332/1250) /content/cars.m4v: 384x640 3 cars, 1 truck, 1 bench, 22.3ms\n",
            "video 1/1 (frame 333/1250) /content/cars.m4v: 384x640 3 cars, 1 truck, 1 bench, 22.9ms\n",
            "video 1/1 (frame 334/1250) /content/cars.m4v: 384x640 3 cars, 1 truck, 1 bench, 17.7ms\n",
            "video 1/1 (frame 335/1250) /content/cars.m4v: 384x640 3 cars, 1 truck, 1 bench, 17.7ms\n",
            "video 1/1 (frame 336/1250) /content/cars.m4v: 384x640 3 cars, 1 truck, 1 bench, 20.9ms\n",
            "video 1/1 (frame 337/1250) /content/cars.m4v: 384x640 3 cars, 1 truck, 20.4ms\n",
            "video 1/1 (frame 338/1250) /content/cars.m4v: 384x640 3 cars, 1 truck, 23.9ms\n",
            "video 1/1 (frame 339/1250) /content/cars.m4v: 384x640 3 cars, 2 trucks, 17.0ms\n",
            "video 1/1 (frame 340/1250) /content/cars.m4v: 384x640 3 cars, 2 trucks, 16.1ms\n",
            "video 1/1 (frame 341/1250) /content/cars.m4v: 384x640 3 cars, 1 truck, 23.4ms\n",
            "video 1/1 (frame 342/1250) /content/cars.m4v: 384x640 2 cars, 1 truck, 18.1ms\n",
            "video 1/1 (frame 343/1250) /content/cars.m4v: 384x640 2 cars, 1 truck, 20.4ms\n",
            "video 1/1 (frame 344/1250) /content/cars.m4v: 384x640 1 car, 1 truck, 23.6ms\n",
            "video 1/1 (frame 345/1250) /content/cars.m4v: 384x640 1 car, 1 truck, 36.0ms\n",
            "video 1/1 (frame 346/1250) /content/cars.m4v: 384x640 1 car, 1 truck, 22.6ms\n",
            "video 1/1 (frame 347/1250) /content/cars.m4v: 384x640 1 car, 1 truck, 1 suitcase, 26.3ms\n",
            "video 1/1 (frame 348/1250) /content/cars.m4v: 384x640 1 car, 1 truck, 1 suitcase, 19.2ms\n",
            "video 1/1 (frame 349/1250) /content/cars.m4v: 384x640 2 cars, 1 truck, 1 suitcase, 19.7ms\n",
            "video 1/1 (frame 350/1250) /content/cars.m4v: 384x640 2 cars, 1 truck, 1 suitcase, 28.9ms\n",
            "video 1/1 (frame 351/1250) /content/cars.m4v: 384x640 2 cars, 1 truck, 1 suitcase, 25.1ms\n",
            "video 1/1 (frame 352/1250) /content/cars.m4v: 384x640 1 car, 1 truck, 22.9ms\n",
            "video 1/1 (frame 353/1250) /content/cars.m4v: 384x640 1 car, 1 truck, 30.6ms\n",
            "video 1/1 (frame 354/1250) /content/cars.m4v: 384x640 2 cars, 1 truck, 26.5ms\n",
            "video 1/1 (frame 355/1250) /content/cars.m4v: 384x640 3 cars, 1 truck, 1 suitcase, 36.2ms\n",
            "video 1/1 (frame 356/1250) /content/cars.m4v: 384x640 3 cars, 1 truck, 1 suitcase, 15.8ms\n",
            "video 1/1 (frame 357/1250) /content/cars.m4v: 384x640 3 cars, 1 truck, 19.5ms\n",
            "video 1/1 (frame 358/1250) /content/cars.m4v: 384x640 3 cars, 1 truck, 15.5ms\n",
            "video 1/1 (frame 359/1250) /content/cars.m4v: 384x640 3 cars, 1 truck, 1 suitcase, 17.0ms\n",
            "video 1/1 (frame 360/1250) /content/cars.m4v: 384x640 3 cars, 1 truck, 1 suitcase, 15.9ms\n",
            "video 1/1 (frame 361/1250) /content/cars.m4v: 384x640 3 cars, 1 truck, 1 suitcase, 29.6ms\n",
            "video 1/1 (frame 362/1250) /content/cars.m4v: 384x640 3 cars, 1 truck, 1 suitcase, 14.9ms\n",
            "video 1/1 (frame 363/1250) /content/cars.m4v: 384x640 3 cars, 1 truck, 1 suitcase, 14.6ms\n",
            "video 1/1 (frame 364/1250) /content/cars.m4v: 384x640 3 cars, 1 truck, 16.5ms\n",
            "video 1/1 (frame 365/1250) /content/cars.m4v: 384x640 3 cars, 1 truck, 18.4ms\n",
            "video 1/1 (frame 366/1250) /content/cars.m4v: 384x640 3 cars, 1 truck, 15.6ms\n",
            "video 1/1 (frame 367/1250) /content/cars.m4v: 384x640 3 cars, 1 truck, 16.7ms\n",
            "video 1/1 (frame 368/1250) /content/cars.m4v: 384x640 3 cars, 1 truck, 14.4ms\n",
            "video 1/1 (frame 369/1250) /content/cars.m4v: 384x640 3 cars, 1 truck, 1 suitcase, 17.3ms\n",
            "video 1/1 (frame 370/1250) /content/cars.m4v: 384x640 3 cars, 1 truck, 1 suitcase, 15.7ms\n",
            "video 1/1 (frame 371/1250) /content/cars.m4v: 384x640 3 cars, 1 truck, 1 suitcase, 14.7ms\n",
            "video 1/1 (frame 372/1250) /content/cars.m4v: 384x640 3 cars, 1 truck, 18.2ms\n",
            "video 1/1 (frame 373/1250) /content/cars.m4v: 384x640 3 cars, 1 truck, 16.9ms\n",
            "video 1/1 (frame 374/1250) /content/cars.m4v: 384x640 3 cars, 1 truck, 1 suitcase, 16.2ms\n",
            "video 1/1 (frame 375/1250) /content/cars.m4v: 384x640 3 cars, 1 truck, 14.7ms\n",
            "video 1/1 (frame 376/1250) /content/cars.m4v: 384x640 3 cars, 1 truck, 17.6ms\n",
            "video 1/1 (frame 377/1250) /content/cars.m4v: 384x640 3 cars, 1 truck, 16.8ms\n",
            "video 1/1 (frame 378/1250) /content/cars.m4v: 384x640 3 cars, 1 truck, 21.4ms\n",
            "video 1/1 (frame 379/1250) /content/cars.m4v: 384x640 4 cars, 1 truck, 17.2ms\n",
            "video 1/1 (frame 380/1250) /content/cars.m4v: 384x640 3 cars, 1 truck, 14.9ms\n",
            "video 1/1 (frame 381/1250) /content/cars.m4v: 384x640 3 cars, 1 truck, 17.5ms\n",
            "video 1/1 (frame 382/1250) /content/cars.m4v: 384x640 3 cars, 1 truck, 18.0ms\n",
            "video 1/1 (frame 383/1250) /content/cars.m4v: 384x640 3 cars, 1 truck, 15.5ms\n",
            "video 1/1 (frame 384/1250) /content/cars.m4v: 384x640 3 cars, 1 truck, 14.9ms\n",
            "video 1/1 (frame 385/1250) /content/cars.m4v: 384x640 3 cars, 1 truck, 18.7ms\n",
            "video 1/1 (frame 386/1250) /content/cars.m4v: 384x640 3 cars, 1 truck, 14.0ms\n",
            "video 1/1 (frame 387/1250) /content/cars.m4v: 384x640 3 cars, 1 truck, 19.5ms\n",
            "video 1/1 (frame 388/1250) /content/cars.m4v: 384x640 3 cars, 1 truck, 17.1ms\n",
            "video 1/1 (frame 389/1250) /content/cars.m4v: 384x640 3 cars, 1 truck, 16.9ms\n",
            "video 1/1 (frame 390/1250) /content/cars.m4v: 384x640 3 cars, 1 truck, 14.7ms\n",
            "video 1/1 (frame 391/1250) /content/cars.m4v: 384x640 3 cars, 1 truck, 15.0ms\n",
            "video 1/1 (frame 392/1250) /content/cars.m4v: 384x640 3 cars, 1 truck, 19.8ms\n",
            "video 1/1 (frame 393/1250) /content/cars.m4v: 384x640 3 cars, 1 truck, 16.8ms\n",
            "video 1/1 (frame 394/1250) /content/cars.m4v: 384x640 3 cars, 1 truck, 16.5ms\n",
            "video 1/1 (frame 395/1250) /content/cars.m4v: 384x640 3 cars, 1 truck, 15.9ms\n",
            "video 1/1 (frame 396/1250) /content/cars.m4v: 384x640 3 cars, 1 truck, 16.0ms\n",
            "video 1/1 (frame 397/1250) /content/cars.m4v: 384x640 3 cars, 1 truck, 18.9ms\n",
            "video 1/1 (frame 398/1250) /content/cars.m4v: 384x640 5 cars, 1 truck, 17.7ms\n",
            "video 1/1 (frame 399/1250) /content/cars.m4v: 384x640 3 cars, 1 truck, 15.1ms\n",
            "video 1/1 (frame 400/1250) /content/cars.m4v: 384x640 3 cars, 1 truck, 17.9ms\n",
            "video 1/1 (frame 401/1250) /content/cars.m4v: 384x640 3 cars, 1 truck, 16.4ms\n",
            "video 1/1 (frame 402/1250) /content/cars.m4v: 384x640 3 cars, 1 truck, 17.3ms\n",
            "video 1/1 (frame 403/1250) /content/cars.m4v: 384x640 3 cars, 1 truck, 15.9ms\n",
            "video 1/1 (frame 404/1250) /content/cars.m4v: 384x640 4 cars, 1 truck, 17.6ms\n",
            "video 1/1 (frame 405/1250) /content/cars.m4v: 384x640 3 cars, 1 truck, 24.7ms\n",
            "video 1/1 (frame 406/1250) /content/cars.m4v: 384x640 3 cars, 1 truck, 16.6ms\n",
            "video 1/1 (frame 407/1250) /content/cars.m4v: 384x640 3 cars, 1 truck, 15.3ms\n",
            "video 1/1 (frame 408/1250) /content/cars.m4v: 384x640 3 cars, 1 truck, 17.0ms\n",
            "video 1/1 (frame 409/1250) /content/cars.m4v: 384x640 3 cars, 1 truck, 20.0ms\n",
            "video 1/1 (frame 410/1250) /content/cars.m4v: 384x640 3 cars, 1 truck, 17.1ms\n",
            "video 1/1 (frame 411/1250) /content/cars.m4v: 384x640 3 cars, 1 truck, 16.1ms\n",
            "video 1/1 (frame 412/1250) /content/cars.m4v: 384x640 4 cars, 1 truck, 18.0ms\n",
            "video 1/1 (frame 413/1250) /content/cars.m4v: 384x640 3 cars, 1 truck, 16.1ms\n",
            "video 1/1 (frame 414/1250) /content/cars.m4v: 384x640 5 cars, 1 truck, 1 suitcase, 19.7ms\n",
            "video 1/1 (frame 415/1250) /content/cars.m4v: 384x640 5 cars, 1 truck, 1 suitcase, 17.1ms\n",
            "video 1/1 (frame 416/1250) /content/cars.m4v: 384x640 4 cars, 1 truck, 1 suitcase, 17.3ms\n",
            "video 1/1 (frame 417/1250) /content/cars.m4v: 384x640 4 cars, 1 truck, 22.9ms\n",
            "video 1/1 (frame 418/1250) /content/cars.m4v: 384x640 4 cars, 1 truck, 17.2ms\n",
            "video 1/1 (frame 419/1250) /content/cars.m4v: 384x640 5 cars, 1 truck, 19.4ms\n",
            "video 1/1 (frame 420/1250) /content/cars.m4v: 384x640 4 cars, 1 truck, 15.7ms\n",
            "video 1/1 (frame 421/1250) /content/cars.m4v: 384x640 4 cars, 1 truck, 19.6ms\n",
            "video 1/1 (frame 422/1250) /content/cars.m4v: 384x640 4 cars, 1 truck, 15.3ms\n",
            "video 1/1 (frame 423/1250) /content/cars.m4v: 384x640 4 cars, 1 truck, 16.5ms\n",
            "video 1/1 (frame 424/1250) /content/cars.m4v: 384x640 4 cars, 1 truck, 15.5ms\n",
            "video 1/1 (frame 425/1250) /content/cars.m4v: 384x640 4 cars, 1 truck, 21.8ms\n",
            "video 1/1 (frame 426/1250) /content/cars.m4v: 384x640 4 cars, 1 truck, 17.3ms\n",
            "video 1/1 (frame 427/1250) /content/cars.m4v: 384x640 4 cars, 1 truck, 14.6ms\n",
            "video 1/1 (frame 428/1250) /content/cars.m4v: 384x640 4 cars, 20.0ms\n",
            "video 1/1 (frame 429/1250) /content/cars.m4v: 384x640 4 cars, 1 truck, 17.0ms\n",
            "video 1/1 (frame 430/1250) /content/cars.m4v: 384x640 4 cars, 1 truck, 17.1ms\n",
            "video 1/1 (frame 431/1250) /content/cars.m4v: 384x640 4 cars, 1 truck, 15.6ms\n",
            "video 1/1 (frame 432/1250) /content/cars.m4v: 384x640 4 cars, 1 truck, 14.3ms\n",
            "video 1/1 (frame 433/1250) /content/cars.m4v: 384x640 4 cars, 1 truck, 18.5ms\n",
            "video 1/1 (frame 434/1250) /content/cars.m4v: 384x640 4 cars, 1 truck, 16.9ms\n",
            "video 1/1 (frame 435/1250) /content/cars.m4v: 384x640 4 cars, 1 truck, 15.4ms\n",
            "video 1/1 (frame 436/1250) /content/cars.m4v: 384x640 4 cars, 1 truck, 15.3ms\n",
            "video 1/1 (frame 437/1250) /content/cars.m4v: 384x640 4 cars, 22.6ms\n",
            "video 1/1 (frame 438/1250) /content/cars.m4v: 384x640 4 cars, 1 truck, 13.5ms\n",
            "video 1/1 (frame 439/1250) /content/cars.m4v: 384x640 4 cars, 1 truck, 16.4ms\n",
            "video 1/1 (frame 440/1250) /content/cars.m4v: 384x640 4 cars, 1 truck, 13.8ms\n",
            "video 1/1 (frame 441/1250) /content/cars.m4v: 384x640 4 cars, 1 truck, 1 suitcase, 20.2ms\n",
            "video 1/1 (frame 442/1250) /content/cars.m4v: 384x640 4 cars, 1 truck, 14.4ms\n",
            "video 1/1 (frame 443/1250) /content/cars.m4v: 384x640 4 cars, 1 truck, 15.5ms\n",
            "video 1/1 (frame 444/1250) /content/cars.m4v: 384x640 4 cars, 1 truck, 15.8ms\n",
            "video 1/1 (frame 445/1250) /content/cars.m4v: 384x640 4 cars, 1 suitcase, 23.4ms\n",
            "video 1/1 (frame 446/1250) /content/cars.m4v: 384x640 4 cars, 1 suitcase, 17.2ms\n",
            "video 1/1 (frame 447/1250) /content/cars.m4v: 384x640 4 cars, 1 truck, 1 suitcase, 14.5ms\n",
            "video 1/1 (frame 448/1250) /content/cars.m4v: 384x640 4 cars, 1 truck, 1 suitcase, 15.3ms\n",
            "video 1/1 (frame 449/1250) /content/cars.m4v: 384x640 4 cars, 1 truck, 19.2ms\n",
            "video 1/1 (frame 450/1250) /content/cars.m4v: 384x640 4 cars, 1 truck, 16.1ms\n",
            "video 1/1 (frame 451/1250) /content/cars.m4v: 384x640 4 cars, 1 suitcase, 15.7ms\n",
            "video 1/1 (frame 452/1250) /content/cars.m4v: 384x640 4 cars, 14.0ms\n",
            "video 1/1 (frame 453/1250) /content/cars.m4v: 384x640 4 cars, 17.4ms\n",
            "video 1/1 (frame 454/1250) /content/cars.m4v: 384x640 4 cars, 1 suitcase, 15.3ms\n",
            "video 1/1 (frame 455/1250) /content/cars.m4v: 384x640 4 cars, 1 truck, 1 suitcase, 20.3ms\n",
            "video 1/1 (frame 456/1250) /content/cars.m4v: 384x640 4 cars, 14.7ms\n",
            "video 1/1 (frame 457/1250) /content/cars.m4v: 384x640 4 cars, 18.7ms\n",
            "video 1/1 (frame 458/1250) /content/cars.m4v: 384x640 5 cars, 16.0ms\n",
            "video 1/1 (frame 459/1250) /content/cars.m4v: 384x640 5 cars, 17.4ms\n",
            "video 1/1 (frame 460/1250) /content/cars.m4v: 384x640 4 cars, 17.5ms\n",
            "video 1/1 (frame 461/1250) /content/cars.m4v: 384x640 4 cars, 17.0ms\n",
            "video 1/1 (frame 462/1250) /content/cars.m4v: 384x640 4 cars, 22.6ms\n",
            "video 1/1 (frame 463/1250) /content/cars.m4v: 384x640 4 cars, 16.4ms\n",
            "video 1/1 (frame 464/1250) /content/cars.m4v: 384x640 4 cars, 16.1ms\n",
            "video 1/1 (frame 465/1250) /content/cars.m4v: 384x640 4 cars, 18.7ms\n",
            "video 1/1 (frame 466/1250) /content/cars.m4v: 384x640 5 cars, 1 truck, 16.0ms\n",
            "video 1/1 (frame 467/1250) /content/cars.m4v: 384x640 4 cars, 15.9ms\n",
            "video 1/1 (frame 468/1250) /content/cars.m4v: 384x640 5 cars, 1 truck, 14.9ms\n",
            "video 1/1 (frame 469/1250) /content/cars.m4v: 384x640 5 cars, 1 truck, 19.9ms\n",
            "video 1/1 (frame 470/1250) /content/cars.m4v: 384x640 5 cars, 15.7ms\n",
            "video 1/1 (frame 471/1250) /content/cars.m4v: 384x640 5 cars, 15.6ms\n",
            "video 1/1 (frame 472/1250) /content/cars.m4v: 384x640 5 cars, 16.1ms\n",
            "video 1/1 (frame 473/1250) /content/cars.m4v: 384x640 5 cars, 16.5ms\n",
            "video 1/1 (frame 474/1250) /content/cars.m4v: 384x640 5 cars, 14.6ms\n",
            "video 1/1 (frame 475/1250) /content/cars.m4v: 384x640 5 cars, 18.0ms\n",
            "video 1/1 (frame 476/1250) /content/cars.m4v: 384x640 5 cars, 15.3ms\n",
            "video 1/1 (frame 477/1250) /content/cars.m4v: 384x640 5 cars, 17.4ms\n",
            "video 1/1 (frame 478/1250) /content/cars.m4v: 384x640 5 cars, 16.5ms\n",
            "video 1/1 (frame 479/1250) /content/cars.m4v: 384x640 5 cars, 16.1ms\n",
            "video 1/1 (frame 480/1250) /content/cars.m4v: 384x640 5 cars, 15.5ms\n",
            "video 1/1 (frame 481/1250) /content/cars.m4v: 384x640 5 cars, 16.5ms\n",
            "video 1/1 (frame 482/1250) /content/cars.m4v: 384x640 5 cars, 18.3ms\n",
            "video 1/1 (frame 483/1250) /content/cars.m4v: 384x640 5 cars, 18.4ms\n",
            "video 1/1 (frame 484/1250) /content/cars.m4v: 384x640 5 cars, 18.4ms\n",
            "video 1/1 (frame 485/1250) /content/cars.m4v: 384x640 5 cars, 18.5ms\n",
            "video 1/1 (frame 486/1250) /content/cars.m4v: 384x640 5 cars, 15.6ms\n",
            "video 1/1 (frame 487/1250) /content/cars.m4v: 384x640 5 cars, 1 truck, 19.4ms\n",
            "video 1/1 (frame 488/1250) /content/cars.m4v: 384x640 5 cars, 15.8ms\n",
            "video 1/1 (frame 489/1250) /content/cars.m4v: 384x640 5 cars, 17.5ms\n",
            "video 1/1 (frame 490/1250) /content/cars.m4v: 384x640 5 cars, 16.5ms\n",
            "video 1/1 (frame 491/1250) /content/cars.m4v: 384x640 5 cars, 15.9ms\n",
            "video 1/1 (frame 492/1250) /content/cars.m4v: 384x640 5 cars, 16.0ms\n",
            "video 1/1 (frame 493/1250) /content/cars.m4v: 384x640 5 cars, 17.6ms\n",
            "video 1/1 (frame 494/1250) /content/cars.m4v: 384x640 5 cars, 15.2ms\n",
            "video 1/1 (frame 495/1250) /content/cars.m4v: 384x640 5 cars, 24.1ms\n",
            "video 1/1 (frame 496/1250) /content/cars.m4v: 384x640 5 cars, 16.1ms\n",
            "video 1/1 (frame 497/1250) /content/cars.m4v: 384x640 5 cars, 15.0ms\n",
            "video 1/1 (frame 498/1250) /content/cars.m4v: 384x640 5 cars, 20.9ms\n",
            "video 1/1 (frame 499/1250) /content/cars.m4v: 384x640 5 cars, 17.9ms\n",
            "video 1/1 (frame 500/1250) /content/cars.m4v: 384x640 5 cars, 14.0ms\n",
            "video 1/1 (frame 501/1250) /content/cars.m4v: 384x640 5 cars, 17.4ms\n",
            "video 1/1 (frame 502/1250) /content/cars.m4v: 384x640 5 cars, 16.9ms\n",
            "video 1/1 (frame 503/1250) /content/cars.m4v: 384x640 5 cars, 20.9ms\n",
            "video 1/1 (frame 504/1250) /content/cars.m4v: 384x640 5 cars, 15.6ms\n",
            "video 1/1 (frame 505/1250) /content/cars.m4v: 384x640 5 cars, 15.9ms\n",
            "video 1/1 (frame 506/1250) /content/cars.m4v: 384x640 5 cars, 17.4ms\n",
            "video 1/1 (frame 507/1250) /content/cars.m4v: 384x640 5 cars, 17.6ms\n",
            "video 1/1 (frame 508/1250) /content/cars.m4v: 384x640 5 cars, 17.6ms\n",
            "video 1/1 (frame 509/1250) /content/cars.m4v: 384x640 5 cars, 17.5ms\n",
            "video 1/1 (frame 510/1250) /content/cars.m4v: 384x640 5 cars, 15.7ms\n",
            "video 1/1 (frame 511/1250) /content/cars.m4v: 384x640 5 cars, 18.7ms\n",
            "video 1/1 (frame 512/1250) /content/cars.m4v: 384x640 5 cars, 24.4ms\n",
            "video 1/1 (frame 513/1250) /content/cars.m4v: 384x640 5 cars, 15.0ms\n",
            "video 1/1 (frame 514/1250) /content/cars.m4v: 384x640 4 cars, 1 truck, 17.8ms\n",
            "video 1/1 (frame 515/1250) /content/cars.m4v: 384x640 4 cars, 1 truck, 22.0ms\n",
            "video 1/1 (frame 516/1250) /content/cars.m4v: 384x640 4 cars, 1 truck, 19.1ms\n",
            "video 1/1 (frame 517/1250) /content/cars.m4v: 384x640 3 cars, 22.9ms\n",
            "video 1/1 (frame 518/1250) /content/cars.m4v: 384x640 3 cars, 1 truck, 30.4ms\n",
            "video 1/1 (frame 519/1250) /content/cars.m4v: 384x640 3 cars, 1 truck, 29.5ms\n",
            "video 1/1 (frame 520/1250) /content/cars.m4v: 384x640 4 cars, 1 truck, 19.5ms\n",
            "video 1/1 (frame 521/1250) /content/cars.m4v: 384x640 3 cars, 1 truck, 18.4ms\n",
            "video 1/1 (frame 522/1250) /content/cars.m4v: 384x640 3 cars, 28.5ms\n",
            "video 1/1 (frame 523/1250) /content/cars.m4v: 384x640 3 cars, 1 truck, 1 suitcase, 32.3ms\n",
            "video 1/1 (frame 524/1250) /content/cars.m4v: 384x640 3 cars, 1 truck, 20.0ms\n",
            "video 1/1 (frame 525/1250) /content/cars.m4v: 384x640 3 cars, 1 truck, 32.8ms\n",
            "video 1/1 (frame 526/1250) /content/cars.m4v: 384x640 5 cars, 29.1ms\n",
            "video 1/1 (frame 527/1250) /content/cars.m4v: 384x640 5 cars, 19.6ms\n",
            "video 1/1 (frame 528/1250) /content/cars.m4v: 384x640 4 cars, 1 truck, 22.0ms\n",
            "video 1/1 (frame 529/1250) /content/cars.m4v: 384x640 3 cars, 1 truck, 18.4ms\n",
            "video 1/1 (frame 530/1250) /content/cars.m4v: 384x640 3 cars, 18.2ms\n",
            "video 1/1 (frame 531/1250) /content/cars.m4v: 384x640 4 cars, 1 truck, 20.0ms\n",
            "video 1/1 (frame 532/1250) /content/cars.m4v: 384x640 3 cars, 1 truck, 16.5ms\n",
            "video 1/1 (frame 533/1250) /content/cars.m4v: 384x640 4 cars, 1 truck, 18.3ms\n",
            "video 1/1 (frame 534/1250) /content/cars.m4v: 384x640 4 cars, 1 truck, 16.6ms\n",
            "video 1/1 (frame 535/1250) /content/cars.m4v: 384x640 4 cars, 1 truck, 32.8ms\n",
            "video 1/1 (frame 536/1250) /content/cars.m4v: 384x640 5 cars, 1 truck, 24.0ms\n",
            "video 1/1 (frame 537/1250) /content/cars.m4v: 384x640 5 cars, 29.2ms\n",
            "video 1/1 (frame 538/1250) /content/cars.m4v: 384x640 5 cars, 1 bus, 26.4ms\n",
            "video 1/1 (frame 539/1250) /content/cars.m4v: 384x640 5 cars, 1 bus, 1 truck, 22.5ms\n",
            "video 1/1 (frame 540/1250) /content/cars.m4v: 384x640 5 cars, 1 bus, 40.5ms\n",
            "video 1/1 (frame 541/1250) /content/cars.m4v: 384x640 4 cars, 1 bus, 1 truck, 25.4ms\n",
            "video 1/1 (frame 542/1250) /content/cars.m4v: 384x640 5 cars, 1 bus, 23.9ms\n",
            "video 1/1 (frame 543/1250) /content/cars.m4v: 384x640 5 cars, 1 bus, 32.9ms\n",
            "video 1/1 (frame 544/1250) /content/cars.m4v: 384x640 5 cars, 1 truck, 27.3ms\n",
            "video 1/1 (frame 545/1250) /content/cars.m4v: 384x640 5 cars, 16.6ms\n",
            "video 1/1 (frame 546/1250) /content/cars.m4v: 384x640 5 cars, 22.8ms\n",
            "video 1/1 (frame 547/1250) /content/cars.m4v: 384x640 5 cars, 19.5ms\n",
            "video 1/1 (frame 548/1250) /content/cars.m4v: 384x640 5 cars, 18.5ms\n",
            "video 1/1 (frame 549/1250) /content/cars.m4v: 384x640 4 cars, 17.7ms\n",
            "video 1/1 (frame 550/1250) /content/cars.m4v: 384x640 4 cars, 17.5ms\n",
            "video 1/1 (frame 551/1250) /content/cars.m4v: 384x640 4 cars, 18.1ms\n",
            "video 1/1 (frame 552/1250) /content/cars.m4v: 384x640 4 cars, 18.9ms\n",
            "video 1/1 (frame 553/1250) /content/cars.m4v: 384x640 4 cars, 17.8ms\n",
            "video 1/1 (frame 554/1250) /content/cars.m4v: 384x640 5 cars, 16.6ms\n",
            "video 1/1 (frame 555/1250) /content/cars.m4v: 384x640 4 cars, 15.7ms\n",
            "video 1/1 (frame 556/1250) /content/cars.m4v: 384x640 4 cars, 23.0ms\n",
            "video 1/1 (frame 557/1250) /content/cars.m4v: 384x640 4 cars, 16.3ms\n",
            "video 1/1 (frame 558/1250) /content/cars.m4v: 384x640 4 cars, 15.2ms\n",
            "video 1/1 (frame 559/1250) /content/cars.m4v: 384x640 4 cars, 19.7ms\n",
            "video 1/1 (frame 560/1250) /content/cars.m4v: 384x640 4 cars, 18.4ms\n",
            "video 1/1 (frame 561/1250) /content/cars.m4v: 384x640 4 cars, 16.4ms\n",
            "video 1/1 (frame 562/1250) /content/cars.m4v: 384x640 4 cars, 17.3ms\n",
            "video 1/1 (frame 563/1250) /content/cars.m4v: 384x640 4 cars, 18.8ms\n",
            "video 1/1 (frame 564/1250) /content/cars.m4v: 384x640 4 cars, 17.3ms\n",
            "video 1/1 (frame 565/1250) /content/cars.m4v: 384x640 4 cars, 17.9ms\n",
            "video 1/1 (frame 566/1250) /content/cars.m4v: 384x640 4 cars, 14.2ms\n",
            "video 1/1 (frame 567/1250) /content/cars.m4v: 384x640 4 cars, 19.4ms\n",
            "video 1/1 (frame 568/1250) /content/cars.m4v: 384x640 4 cars, 15.3ms\n",
            "video 1/1 (frame 569/1250) /content/cars.m4v: 384x640 4 cars, 18.9ms\n",
            "video 1/1 (frame 570/1250) /content/cars.m4v: 384x640 4 cars, 15.7ms\n",
            "video 1/1 (frame 571/1250) /content/cars.m4v: 384x640 4 cars, 17.8ms\n",
            "video 1/1 (frame 572/1250) /content/cars.m4v: 384x640 4 cars, 17.7ms\n",
            "video 1/1 (frame 573/1250) /content/cars.m4v: 384x640 4 cars, 16.0ms\n",
            "video 1/1 (frame 574/1250) /content/cars.m4v: 384x640 4 cars, 1 motorcycle, 18.5ms\n",
            "video 1/1 (frame 575/1250) /content/cars.m4v: 384x640 4 cars, 1 motorcycle, 17.7ms\n",
            "video 1/1 (frame 576/1250) /content/cars.m4v: 384x640 3 cars, 1 motorcycle, 16.1ms\n",
            "video 1/1 (frame 577/1250) /content/cars.m4v: 384x640 4 cars, 1 motorcycle, 17.3ms\n",
            "video 1/1 (frame 578/1250) /content/cars.m4v: 384x640 4 cars, 1 motorcycle, 16.4ms\n",
            "video 1/1 (frame 579/1250) /content/cars.m4v: 384x640 3 cars, 1 motorcycle, 17.2ms\n",
            "video 1/1 (frame 580/1250) /content/cars.m4v: 384x640 4 cars, 1 motorcycle, 15.3ms\n",
            "video 1/1 (frame 581/1250) /content/cars.m4v: 384x640 4 cars, 1 motorcycle, 15.4ms\n",
            "video 1/1 (frame 582/1250) /content/cars.m4v: 384x640 4 cars, 1 truck, 16.9ms\n",
            "video 1/1 (frame 583/1250) /content/cars.m4v: 384x640 5 cars, 1 truck, 23.0ms\n",
            "video 1/1 (frame 584/1250) /content/cars.m4v: 384x640 5 cars, 1 truck, 14.8ms\n",
            "video 1/1 (frame 585/1250) /content/cars.m4v: 384x640 6 cars, 1 truck, 15.2ms\n",
            "video 1/1 (frame 586/1250) /content/cars.m4v: 384x640 6 cars, 15.6ms\n",
            "video 1/1 (frame 587/1250) /content/cars.m4v: 384x640 6 cars, 17.7ms\n",
            "video 1/1 (frame 588/1250) /content/cars.m4v: 384x640 6 cars, 14.7ms\n",
            "video 1/1 (frame 589/1250) /content/cars.m4v: 384x640 6 cars, 15.3ms\n",
            "video 1/1 (frame 590/1250) /content/cars.m4v: 384x640 6 cars, 16.1ms\n",
            "video 1/1 (frame 591/1250) /content/cars.m4v: 384x640 6 cars, 18.0ms\n",
            "video 1/1 (frame 592/1250) /content/cars.m4v: 384x640 6 cars, 13.5ms\n",
            "video 1/1 (frame 593/1250) /content/cars.m4v: 384x640 6 cars, 14.5ms\n",
            "video 1/1 (frame 594/1250) /content/cars.m4v: 384x640 6 cars, 16.2ms\n",
            "video 1/1 (frame 595/1250) /content/cars.m4v: 384x640 6 cars, 19.4ms\n",
            "video 1/1 (frame 596/1250) /content/cars.m4v: 384x640 6 cars, 16.7ms\n",
            "video 1/1 (frame 597/1250) /content/cars.m4v: 384x640 6 cars, 15.7ms\n",
            "video 1/1 (frame 598/1250) /content/cars.m4v: 384x640 6 cars, 16.7ms\n",
            "video 1/1 (frame 599/1250) /content/cars.m4v: 384x640 6 cars, 19.0ms\n",
            "video 1/1 (frame 600/1250) /content/cars.m4v: 384x640 6 cars, 1 truck, 19.1ms\n",
            "video 1/1 (frame 601/1250) /content/cars.m4v: 384x640 6 cars, 16.1ms\n",
            "video 1/1 (frame 602/1250) /content/cars.m4v: 384x640 6 cars, 1 truck, 15.2ms\n",
            "video 1/1 (frame 603/1250) /content/cars.m4v: 384x640 6 cars, 2 trucks, 20.7ms\n",
            "video 1/1 (frame 604/1250) /content/cars.m4v: 384x640 6 cars, 30.0ms\n",
            "video 1/1 (frame 605/1250) /content/cars.m4v: 384x640 6 cars, 1 truck, 35.8ms\n",
            "video 1/1 (frame 606/1250) /content/cars.m4v: 384x640 5 cars, 2 trucks, 15.3ms\n",
            "video 1/1 (frame 607/1250) /content/cars.m4v: 384x640 6 cars, 17.8ms\n",
            "video 1/1 (frame 608/1250) /content/cars.m4v: 384x640 6 cars, 15.7ms\n",
            "video 1/1 (frame 609/1250) /content/cars.m4v: 384x640 5 cars, 14.4ms\n",
            "video 1/1 (frame 610/1250) /content/cars.m4v: 384x640 5 cars, 1 truck, 15.9ms\n",
            "video 1/1 (frame 611/1250) /content/cars.m4v: 384x640 5 cars, 2 trucks, 17.1ms\n",
            "video 1/1 (frame 612/1250) /content/cars.m4v: 384x640 6 cars, 1 truck, 15.6ms\n",
            "video 1/1 (frame 613/1250) /content/cars.m4v: 384x640 6 cars, 1 truck, 19.2ms\n",
            "video 1/1 (frame 614/1250) /content/cars.m4v: 384x640 5 cars, 25.2ms\n",
            "video 1/1 (frame 615/1250) /content/cars.m4v: 384x640 5 cars, 20.0ms\n",
            "video 1/1 (frame 616/1250) /content/cars.m4v: 384x640 5 cars, 15.6ms\n",
            "video 1/1 (frame 617/1250) /content/cars.m4v: 384x640 5 cars, 15.0ms\n",
            "video 1/1 (frame 618/1250) /content/cars.m4v: 384x640 5 cars, 16.2ms\n",
            "video 1/1 (frame 619/1250) /content/cars.m4v: 384x640 5 cars, 19.9ms\n",
            "video 1/1 (frame 620/1250) /content/cars.m4v: 384x640 5 cars, 16.5ms\n",
            "video 1/1 (frame 621/1250) /content/cars.m4v: 384x640 5 cars, 16.1ms\n",
            "video 1/1 (frame 622/1250) /content/cars.m4v: 384x640 4 cars, 15.7ms\n",
            "video 1/1 (frame 623/1250) /content/cars.m4v: 384x640 3 cars, 17.8ms\n",
            "video 1/1 (frame 624/1250) /content/cars.m4v: 384x640 3 cars, 1 truck, 16.1ms\n",
            "video 1/1 (frame 625/1250) /content/cars.m4v: 384x640 5 cars, 18.5ms\n",
            "video 1/1 (frame 626/1250) /content/cars.m4v: 384x640 4 cars, 14.3ms\n",
            "video 1/1 (frame 627/1250) /content/cars.m4v: 384x640 4 cars, 17.8ms\n",
            "video 1/1 (frame 628/1250) /content/cars.m4v: 384x640 5 cars, 1 truck, 17.1ms\n",
            "video 1/1 (frame 629/1250) /content/cars.m4v: 384x640 5 cars, 1 truck, 17.1ms\n",
            "video 1/1 (frame 630/1250) /content/cars.m4v: 384x640 4 cars, 1 truck, 19.6ms\n",
            "video 1/1 (frame 631/1250) /content/cars.m4v: 384x640 5 cars, 1 truck, 17.1ms\n",
            "video 1/1 (frame 632/1250) /content/cars.m4v: 384x640 5 cars, 14.8ms\n",
            "video 1/1 (frame 633/1250) /content/cars.m4v: 384x640 6 cars, 15.1ms\n",
            "video 1/1 (frame 634/1250) /content/cars.m4v: 384x640 5 cars, 1 truck, 18.3ms\n",
            "video 1/1 (frame 635/1250) /content/cars.m4v: 384x640 5 cars, 2 trucks, 22.4ms\n",
            "video 1/1 (frame 636/1250) /content/cars.m4v: 384x640 5 cars, 2 trucks, 16.2ms\n",
            "video 1/1 (frame 637/1250) /content/cars.m4v: 384x640 5 cars, 2 trucks, 16.3ms\n",
            "video 1/1 (frame 638/1250) /content/cars.m4v: 384x640 5 cars, 2 trucks, 15.8ms\n",
            "video 1/1 (frame 639/1250) /content/cars.m4v: 384x640 5 cars, 2 trucks, 20.8ms\n",
            "video 1/1 (frame 640/1250) /content/cars.m4v: 384x640 6 cars, 2 trucks, 16.9ms\n",
            "video 1/1 (frame 641/1250) /content/cars.m4v: 384x640 5 cars, 1 truck, 25.2ms\n",
            "video 1/1 (frame 642/1250) /content/cars.m4v: 384x640 5 cars, 1 truck, 17.1ms\n",
            "video 1/1 (frame 643/1250) /content/cars.m4v: 384x640 5 cars, 18.5ms\n",
            "video 1/1 (frame 644/1250) /content/cars.m4v: 384x640 5 cars, 2 trucks, 20.4ms\n",
            "video 1/1 (frame 645/1250) /content/cars.m4v: 384x640 5 cars, 16.2ms\n",
            "video 1/1 (frame 646/1250) /content/cars.m4v: 384x640 5 cars, 17.2ms\n",
            "video 1/1 (frame 647/1250) /content/cars.m4v: 384x640 5 cars, 18.9ms\n",
            "video 1/1 (frame 648/1250) /content/cars.m4v: 384x640 6 cars, 16.9ms\n",
            "video 1/1 (frame 649/1250) /content/cars.m4v: 384x640 6 cars, 15.9ms\n",
            "video 1/1 (frame 650/1250) /content/cars.m4v: 384x640 6 cars, 17.1ms\n",
            "video 1/1 (frame 651/1250) /content/cars.m4v: 384x640 6 cars, 17.8ms\n",
            "video 1/1 (frame 652/1250) /content/cars.m4v: 384x640 6 cars, 1 truck, 17.8ms\n",
            "video 1/1 (frame 653/1250) /content/cars.m4v: 384x640 5 cars, 1 truck, 15.3ms\n",
            "video 1/1 (frame 654/1250) /content/cars.m4v: 384x640 5 cars, 15.0ms\n",
            "video 1/1 (frame 655/1250) /content/cars.m4v: 384x640 6 cars, 19.6ms\n",
            "video 1/1 (frame 656/1250) /content/cars.m4v: 384x640 6 cars, 15.1ms\n",
            "video 1/1 (frame 657/1250) /content/cars.m4v: 384x640 6 cars, 15.1ms\n",
            "video 1/1 (frame 658/1250) /content/cars.m4v: 384x640 6 cars, 1 truck, 15.9ms\n",
            "video 1/1 (frame 659/1250) /content/cars.m4v: 384x640 6 cars, 2 trucks, 17.0ms\n",
            "video 1/1 (frame 660/1250) /content/cars.m4v: 384x640 6 cars, 3 trucks, 16.9ms\n",
            "video 1/1 (frame 661/1250) /content/cars.m4v: 384x640 6 cars, 2 trucks, 19.0ms\n",
            "video 1/1 (frame 662/1250) /content/cars.m4v: 384x640 5 cars, 1 truck, 15.3ms\n",
            "video 1/1 (frame 663/1250) /content/cars.m4v: 384x640 5 cars, 16.1ms\n",
            "video 1/1 (frame 664/1250) /content/cars.m4v: 384x640 6 cars, 15.3ms\n",
            "video 1/1 (frame 665/1250) /content/cars.m4v: 384x640 6 cars, 16.6ms\n",
            "video 1/1 (frame 666/1250) /content/cars.m4v: 384x640 6 cars, 1 truck, 14.9ms\n",
            "video 1/1 (frame 667/1250) /content/cars.m4v: 384x640 6 cars, 3 trucks, 20.4ms\n",
            "video 1/1 (frame 668/1250) /content/cars.m4v: 384x640 6 cars, 2 trucks, 16.5ms\n",
            "video 1/1 (frame 669/1250) /content/cars.m4v: 384x640 5 cars, 2 trucks, 17.5ms\n",
            "video 1/1 (frame 670/1250) /content/cars.m4v: 384x640 4 cars, 2 trucks, 15.4ms\n",
            "video 1/1 (frame 671/1250) /content/cars.m4v: 384x640 4 cars, 2 trucks, 18.8ms\n",
            "video 1/1 (frame 672/1250) /content/cars.m4v: 384x640 3 cars, 2 trucks, 16.7ms\n",
            "video 1/1 (frame 673/1250) /content/cars.m4v: 384x640 4 cars, 2 trucks, 17.8ms\n",
            "video 1/1 (frame 674/1250) /content/cars.m4v: 384x640 3 cars, 2 trucks, 15.3ms\n",
            "video 1/1 (frame 675/1250) /content/cars.m4v: 384x640 5 cars, 1 truck, 19.7ms\n",
            "video 1/1 (frame 676/1250) /content/cars.m4v: 384x640 3 cars, 3 trucks, 14.1ms\n",
            "video 1/1 (frame 677/1250) /content/cars.m4v: 384x640 2 cars, 1 truck, 14.8ms\n",
            "video 1/1 (frame 678/1250) /content/cars.m4v: 384x640 5 cars, 2 trucks, 17.1ms\n",
            "video 1/1 (frame 679/1250) /content/cars.m4v: 384x640 4 cars, 1 truck, 29.6ms\n",
            "video 1/1 (frame 680/1250) /content/cars.m4v: 384x640 5 cars, 1 truck, 15.6ms\n",
            "video 1/1 (frame 681/1250) /content/cars.m4v: 384x640 4 cars, 1 truck, 15.5ms\n",
            "video 1/1 (frame 682/1250) /content/cars.m4v: 384x640 3 cars, 2 trucks, 14.6ms\n",
            "video 1/1 (frame 683/1250) /content/cars.m4v: 384x640 3 cars, 2 trucks, 16.9ms\n",
            "video 1/1 (frame 684/1250) /content/cars.m4v: 384x640 2 cars, 3 trucks, 14.9ms\n",
            "video 1/1 (frame 685/1250) /content/cars.m4v: 384x640 3 cars, 2 trucks, 17.7ms\n",
            "video 1/1 (frame 686/1250) /content/cars.m4v: 384x640 2 cars, 2 trucks, 15.8ms\n",
            "video 1/1 (frame 687/1250) /content/cars.m4v: 384x640 2 cars, 3 trucks, 19.6ms\n",
            "video 1/1 (frame 688/1250) /content/cars.m4v: 384x640 2 cars, 1 bus, 3 trucks, 15.9ms\n",
            "video 1/1 (frame 689/1250) /content/cars.m4v: 384x640 2 cars, 3 trucks, 15.1ms\n",
            "video 1/1 (frame 690/1250) /content/cars.m4v: 384x640 2 cars, 3 trucks, 15.4ms\n",
            "video 1/1 (frame 691/1250) /content/cars.m4v: 384x640 2 cars, 3 trucks, 31.6ms\n",
            "video 1/1 (frame 692/1250) /content/cars.m4v: 384x640 2 cars, 3 trucks, 23.0ms\n",
            "video 1/1 (frame 693/1250) /content/cars.m4v: 384x640 2 cars, 3 trucks, 16.1ms\n",
            "video 1/1 (frame 694/1250) /content/cars.m4v: 384x640 2 cars, 3 trucks, 16.7ms\n",
            "video 1/1 (frame 695/1250) /content/cars.m4v: 384x640 2 cars, 3 trucks, 19.0ms\n",
            "video 1/1 (frame 696/1250) /content/cars.m4v: 384x640 2 cars, 3 trucks, 15.6ms\n",
            "video 1/1 (frame 697/1250) /content/cars.m4v: 384x640 3 cars, 3 trucks, 17.5ms\n",
            "video 1/1 (frame 698/1250) /content/cars.m4v: 384x640 2 cars, 3 trucks, 14.7ms\n",
            "video 1/1 (frame 699/1250) /content/cars.m4v: 384x640 3 cars, 3 trucks, 18.9ms\n",
            "video 1/1 (frame 700/1250) /content/cars.m4v: 384x640 3 cars, 3 trucks, 14.7ms\n",
            "video 1/1 (frame 701/1250) /content/cars.m4v: 384x640 2 cars, 3 trucks, 17.3ms\n",
            "video 1/1 (frame 702/1250) /content/cars.m4v: 384x640 2 cars, 3 trucks, 26.5ms\n",
            "video 1/1 (frame 703/1250) /content/cars.m4v: 384x640 4 cars, 2 trucks, 37.1ms\n",
            "video 1/1 (frame 704/1250) /content/cars.m4v: 384x640 4 cars, 3 trucks, 19.7ms\n",
            "video 1/1 (frame 705/1250) /content/cars.m4v: 384x640 4 cars, 3 trucks, 17.4ms\n",
            "video 1/1 (frame 706/1250) /content/cars.m4v: 384x640 4 cars, 3 trucks, 17.1ms\n",
            "video 1/1 (frame 707/1250) /content/cars.m4v: 384x640 4 cars, 3 trucks, 24.9ms\n",
            "video 1/1 (frame 708/1250) /content/cars.m4v: 384x640 3 cars, 3 trucks, 18.9ms\n",
            "video 1/1 (frame 709/1250) /content/cars.m4v: 384x640 3 cars, 3 trucks, 22.1ms\n",
            "video 1/1 (frame 710/1250) /content/cars.m4v: 384x640 4 cars, 3 trucks, 23.5ms\n",
            "video 1/1 (frame 711/1250) /content/cars.m4v: 384x640 3 cars, 2 trucks, 25.2ms\n",
            "video 1/1 (frame 712/1250) /content/cars.m4v: 384x640 4 cars, 1 truck, 21.4ms\n",
            "video 1/1 (frame 713/1250) /content/cars.m4v: 384x640 4 cars, 2 trucks, 36.4ms\n",
            "video 1/1 (frame 714/1250) /content/cars.m4v: 384x640 4 cars, 1 truck, 22.1ms\n",
            "video 1/1 (frame 715/1250) /content/cars.m4v: 384x640 4 cars, 1 truck, 19.2ms\n",
            "video 1/1 (frame 716/1250) /content/cars.m4v: 384x640 4 cars, 2 trucks, 21.3ms\n",
            "video 1/1 (frame 717/1250) /content/cars.m4v: 384x640 4 cars, 2 trucks, 19.0ms\n",
            "video 1/1 (frame 718/1250) /content/cars.m4v: 384x640 4 cars, 1 bus, 1 truck, 20.1ms\n",
            "video 1/1 (frame 719/1250) /content/cars.m4v: 384x640 4 cars, 1 bus, 2 trucks, 33.4ms\n",
            "video 1/1 (frame 720/1250) /content/cars.m4v: 384x640 4 cars, 1 bus, 1 truck, 25.8ms\n",
            "video 1/1 (frame 721/1250) /content/cars.m4v: 384x640 4 cars, 1 bus, 2 trucks, 31.7ms\n",
            "video 1/1 (frame 722/1250) /content/cars.m4v: 384x640 4 cars, 1 truck, 27.6ms\n",
            "video 1/1 (frame 723/1250) /content/cars.m4v: 384x640 4 cars, 2 trucks, 19.2ms\n",
            "video 1/1 (frame 724/1250) /content/cars.m4v: 384x640 5 cars, 2 trucks, 34.0ms\n",
            "video 1/1 (frame 725/1250) /content/cars.m4v: 384x640 4 cars, 2 trucks, 27.0ms\n",
            "video 1/1 (frame 726/1250) /content/cars.m4v: 384x640 3 cars, 2 trucks, 30.1ms\n",
            "video 1/1 (frame 727/1250) /content/cars.m4v: 384x640 3 cars, 2 trucks, 22.3ms\n",
            "video 1/1 (frame 728/1250) /content/cars.m4v: 384x640 4 cars, 2 trucks, 31.9ms\n",
            "video 1/1 (frame 729/1250) /content/cars.m4v: 384x640 3 cars, 2 trucks, 27.2ms\n",
            "video 1/1 (frame 730/1250) /content/cars.m4v: 384x640 3 cars, 2 trucks, 15.5ms\n",
            "video 1/1 (frame 731/1250) /content/cars.m4v: 384x640 3 cars, 2 trucks, 19.3ms\n",
            "video 1/1 (frame 732/1250) /content/cars.m4v: 384x640 4 cars, 17.4ms\n",
            "video 1/1 (frame 733/1250) /content/cars.m4v: 384x640 5 cars, 1 truck, 17.6ms\n",
            "video 1/1 (frame 734/1250) /content/cars.m4v: 384x640 4 cars, 1 truck, 14.1ms\n",
            "video 1/1 (frame 735/1250) /content/cars.m4v: 384x640 4 cars, 2 trucks, 16.6ms\n",
            "video 1/1 (frame 736/1250) /content/cars.m4v: 384x640 4 cars, 1 truck, 15.3ms\n",
            "video 1/1 (frame 737/1250) /content/cars.m4v: 384x640 4 cars, 2 trucks, 17.4ms\n",
            "video 1/1 (frame 738/1250) /content/cars.m4v: 384x640 5 cars, 1 truck, 17.3ms\n",
            "video 1/1 (frame 739/1250) /content/cars.m4v: 384x640 4 cars, 17.9ms\n",
            "video 1/1 (frame 740/1250) /content/cars.m4v: 384x640 5 cars, 2 trucks, 16.0ms\n",
            "video 1/1 (frame 741/1250) /content/cars.m4v: 384x640 7 cars, 1 truck, 15.1ms\n",
            "video 1/1 (frame 742/1250) /content/cars.m4v: 384x640 6 cars, 1 truck, 15.6ms\n",
            "video 1/1 (frame 743/1250) /content/cars.m4v: 384x640 6 cars, 2 trucks, 16.4ms\n",
            "video 1/1 (frame 744/1250) /content/cars.m4v: 384x640 5 cars, 1 truck, 19.4ms\n",
            "video 1/1 (frame 745/1250) /content/cars.m4v: 384x640 4 cars, 2 trucks, 15.4ms\n",
            "video 1/1 (frame 746/1250) /content/cars.m4v: 384x640 5 cars, 1 truck, 18.5ms\n",
            "video 1/1 (frame 747/1250) /content/cars.m4v: 384x640 5 cars, 1 truck, 15.5ms\n",
            "video 1/1 (frame 748/1250) /content/cars.m4v: 384x640 6 cars, 18.5ms\n",
            "video 1/1 (frame 749/1250) /content/cars.m4v: 384x640 6 cars, 1 truck, 16.0ms\n",
            "video 1/1 (frame 750/1250) /content/cars.m4v: 384x640 5 cars, 1 truck, 14.9ms\n",
            "video 1/1 (frame 751/1250) /content/cars.m4v: 384x640 6 cars, 14.6ms\n",
            "video 1/1 (frame 752/1250) /content/cars.m4v: 384x640 6 cars, 1 truck, 14.0ms\n",
            "video 1/1 (frame 753/1250) /content/cars.m4v: 384x640 6 cars, 1 bus, 1 truck, 18.4ms\n",
            "video 1/1 (frame 754/1250) /content/cars.m4v: 384x640 6 cars, 1 bus, 1 truck, 14.4ms\n",
            "video 1/1 (frame 755/1250) /content/cars.m4v: 384x640 6 cars, 1 truck, 15.1ms\n",
            "video 1/1 (frame 756/1250) /content/cars.m4v: 384x640 5 cars, 1 truck, 14.5ms\n",
            "video 1/1 (frame 757/1250) /content/cars.m4v: 384x640 5 cars, 1 truck, 17.6ms\n",
            "video 1/1 (frame 758/1250) /content/cars.m4v: 384x640 5 cars, 1 truck, 15.0ms\n",
            "video 1/1 (frame 759/1250) /content/cars.m4v: 384x640 5 cars, 1 truck, 17.3ms\n",
            "video 1/1 (frame 760/1250) /content/cars.m4v: 384x640 5 cars, 1 truck, 17.7ms\n",
            "video 1/1 (frame 761/1250) /content/cars.m4v: 384x640 5 cars, 1 truck, 18.4ms\n",
            "video 1/1 (frame 762/1250) /content/cars.m4v: 384x640 5 cars, 1 truck, 14.6ms\n",
            "video 1/1 (frame 763/1250) /content/cars.m4v: 384x640 4 cars, 1 truck, 14.8ms\n",
            "video 1/1 (frame 764/1250) /content/cars.m4v: 384x640 4 cars, 1 truck, 14.6ms\n",
            "video 1/1 (frame 765/1250) /content/cars.m4v: 384x640 4 cars, 1 truck, 20.4ms\n",
            "video 1/1 (frame 766/1250) /content/cars.m4v: 384x640 4 cars, 1 truck, 14.1ms\n",
            "video 1/1 (frame 767/1250) /content/cars.m4v: 384x640 4 cars, 1 bus, 1 truck, 16.9ms\n",
            "video 1/1 (frame 768/1250) /content/cars.m4v: 384x640 4 cars, 1 truck, 15.5ms\n",
            "video 1/1 (frame 769/1250) /content/cars.m4v: 384x640 4 cars, 1 bus, 17.5ms\n",
            "video 1/1 (frame 770/1250) /content/cars.m4v: 384x640 4 cars, 1 bus, 1 truck, 17.0ms\n",
            "video 1/1 (frame 771/1250) /content/cars.m4v: 384x640 4 cars, 1 truck, 17.5ms\n",
            "video 1/1 (frame 772/1250) /content/cars.m4v: 384x640 4 cars, 1 bus, 1 truck, 16.2ms\n",
            "video 1/1 (frame 773/1250) /content/cars.m4v: 384x640 4 cars, 1 truck, 21.5ms\n",
            "video 1/1 (frame 774/1250) /content/cars.m4v: 384x640 4 cars, 1 bus, 1 truck, 16.9ms\n",
            "video 1/1 (frame 775/1250) /content/cars.m4v: 384x640 4 cars, 1 truck, 16.5ms\n",
            "video 1/1 (frame 776/1250) /content/cars.m4v: 384x640 5 cars, 1 truck, 15.1ms\n",
            "video 1/1 (frame 777/1250) /content/cars.m4v: 384x640 5 cars, 19.6ms\n",
            "video 1/1 (frame 778/1250) /content/cars.m4v: 384x640 4 cars, 15.7ms\n",
            "video 1/1 (frame 779/1250) /content/cars.m4v: 384x640 4 cars, 15.2ms\n",
            "video 1/1 (frame 780/1250) /content/cars.m4v: 384x640 4 cars, 1 bus, 18.3ms\n",
            "video 1/1 (frame 781/1250) /content/cars.m4v: 384x640 3 cars, 1 bus, 1 truck, 17.9ms\n",
            "video 1/1 (frame 782/1250) /content/cars.m4v: 384x640 3 cars, 2 buss, 1 truck, 17.8ms\n",
            "video 1/1 (frame 783/1250) /content/cars.m4v: 384x640 4 cars, 1 bus, 15.3ms\n",
            "video 1/1 (frame 784/1250) /content/cars.m4v: 384x640 4 cars, 2 buss, 24.6ms\n",
            "video 1/1 (frame 785/1250) /content/cars.m4v: 384x640 4 cars, 1 bus, 16.5ms\n",
            "video 1/1 (frame 786/1250) /content/cars.m4v: 384x640 4 cars, 1 bus, 16.6ms\n",
            "video 1/1 (frame 787/1250) /content/cars.m4v: 384x640 4 cars, 1 bus, 14.2ms\n",
            "video 1/1 (frame 788/1250) /content/cars.m4v: 384x640 4 cars, 1 bus, 1 truck, 16.2ms\n",
            "video 1/1 (frame 789/1250) /content/cars.m4v: 384x640 4 cars, 1 bus, 1 truck, 18.0ms\n",
            "video 1/1 (frame 790/1250) /content/cars.m4v: 384x640 4 cars, 1 bus, 1 truck, 14.7ms\n",
            "video 1/1 (frame 791/1250) /content/cars.m4v: 384x640 4 cars, 1 truck, 17.2ms\n",
            "video 1/1 (frame 792/1250) /content/cars.m4v: 384x640 4 cars, 1 truck, 20.0ms\n",
            "video 1/1 (frame 793/1250) /content/cars.m4v: 384x640 4 cars, 1 truck, 15.1ms\n",
            "video 1/1 (frame 794/1250) /content/cars.m4v: 384x640 4 cars, 1 truck, 14.6ms\n",
            "video 1/1 (frame 795/1250) /content/cars.m4v: 384x640 4 cars, 1 truck, 14.8ms\n",
            "video 1/1 (frame 796/1250) /content/cars.m4v: 384x640 4 cars, 1 truck, 16.3ms\n",
            "video 1/1 (frame 797/1250) /content/cars.m4v: 384x640 4 cars, 1 truck, 16.6ms\n",
            "video 1/1 (frame 798/1250) /content/cars.m4v: 384x640 4 cars, 1 truck, 15.7ms\n",
            "video 1/1 (frame 799/1250) /content/cars.m4v: 384x640 5 cars, 16.5ms\n",
            "video 1/1 (frame 800/1250) /content/cars.m4v: 384x640 5 cars, 14.1ms\n",
            "video 1/1 (frame 801/1250) /content/cars.m4v: 384x640 4 cars, 1 truck, 17.2ms\n",
            "video 1/1 (frame 802/1250) /content/cars.m4v: 384x640 4 cars, 1 truck, 17.8ms\n",
            "video 1/1 (frame 803/1250) /content/cars.m4v: 384x640 4 cars, 1 truck, 15.4ms\n",
            "video 1/1 (frame 804/1250) /content/cars.m4v: 384x640 4 cars, 1 truck, 16.8ms\n",
            "video 1/1 (frame 805/1250) /content/cars.m4v: 384x640 4 cars, 1 truck, 19.0ms\n",
            "video 1/1 (frame 806/1250) /content/cars.m4v: 384x640 4 cars, 1 truck, 15.3ms\n",
            "video 1/1 (frame 807/1250) /content/cars.m4v: 384x640 4 cars, 1 truck, 16.3ms\n",
            "video 1/1 (frame 808/1250) /content/cars.m4v: 384x640 4 cars, 15.3ms\n",
            "video 1/1 (frame 809/1250) /content/cars.m4v: 384x640 4 cars, 18.0ms\n",
            "video 1/1 (frame 810/1250) /content/cars.m4v: 384x640 5 cars, 17.2ms\n",
            "video 1/1 (frame 811/1250) /content/cars.m4v: 384x640 5 cars, 14.7ms\n",
            "video 1/1 (frame 812/1250) /content/cars.m4v: 384x640 4 cars, 19.7ms\n",
            "video 1/1 (frame 813/1250) /content/cars.m4v: 384x640 5 cars, 17.2ms\n",
            "video 1/1 (frame 814/1250) /content/cars.m4v: 384x640 5 cars, 27.1ms\n",
            "video 1/1 (frame 815/1250) /content/cars.m4v: 384x640 5 cars, 14.8ms\n",
            "video 1/1 (frame 816/1250) /content/cars.m4v: 384x640 4 cars, 18.2ms\n",
            "video 1/1 (frame 817/1250) /content/cars.m4v: 384x640 5 cars, 17.3ms\n",
            "video 1/1 (frame 818/1250) /content/cars.m4v: 384x640 5 cars, 16.7ms\n",
            "video 1/1 (frame 819/1250) /content/cars.m4v: 384x640 5 cars, 17.7ms\n",
            "video 1/1 (frame 820/1250) /content/cars.m4v: 384x640 4 cars, 16.8ms\n",
            "video 1/1 (frame 821/1250) /content/cars.m4v: 384x640 4 cars, 16.0ms\n",
            "video 1/1 (frame 822/1250) /content/cars.m4v: 384x640 4 cars, 16.7ms\n",
            "video 1/1 (frame 823/1250) /content/cars.m4v: 384x640 4 cars, 14.7ms\n",
            "video 1/1 (frame 824/1250) /content/cars.m4v: 384x640 4 cars, 17.4ms\n",
            "video 1/1 (frame 825/1250) /content/cars.m4v: 384x640 5 cars, 22.5ms\n",
            "video 1/1 (frame 826/1250) /content/cars.m4v: 384x640 5 cars, 18.1ms\n",
            "video 1/1 (frame 827/1250) /content/cars.m4v: 384x640 5 cars, 14.3ms\n",
            "video 1/1 (frame 828/1250) /content/cars.m4v: 384x640 5 cars, 16.4ms\n",
            "video 1/1 (frame 829/1250) /content/cars.m4v: 384x640 5 cars, 17.5ms\n",
            "video 1/1 (frame 830/1250) /content/cars.m4v: 384x640 5 cars, 16.5ms\n",
            "video 1/1 (frame 831/1250) /content/cars.m4v: 384x640 5 cars, 15.9ms\n",
            "video 1/1 (frame 832/1250) /content/cars.m4v: 384x640 5 cars, 14.1ms\n",
            "video 1/1 (frame 833/1250) /content/cars.m4v: 384x640 5 cars, 1 motorcycle, 16.2ms\n",
            "video 1/1 (frame 834/1250) /content/cars.m4v: 384x640 5 cars, 16.6ms\n",
            "video 1/1 (frame 835/1250) /content/cars.m4v: 384x640 4 cars, 1 motorcycle, 15.9ms\n",
            "video 1/1 (frame 836/1250) /content/cars.m4v: 384x640 4 cars, 1 motorcycle, 15.5ms\n",
            "video 1/1 (frame 837/1250) /content/cars.m4v: 384x640 4 cars, 1 motorcycle, 23.7ms\n",
            "video 1/1 (frame 838/1250) /content/cars.m4v: 384x640 5 cars, 15.4ms\n",
            "video 1/1 (frame 839/1250) /content/cars.m4v: 384x640 5 cars, 14.6ms\n",
            "video 1/1 (frame 840/1250) /content/cars.m4v: 384x640 5 cars, 15.2ms\n",
            "video 1/1 (frame 841/1250) /content/cars.m4v: 384x640 5 cars, 1 motorcycle, 15.6ms\n",
            "video 1/1 (frame 842/1250) /content/cars.m4v: 384x640 5 cars, 16.9ms\n",
            "video 1/1 (frame 843/1250) /content/cars.m4v: 384x640 5 cars, 14.1ms\n",
            "video 1/1 (frame 844/1250) /content/cars.m4v: 384x640 5 cars, 20.7ms\n",
            "video 1/1 (frame 845/1250) /content/cars.m4v: 384x640 5 cars, 17.6ms\n",
            "video 1/1 (frame 846/1250) /content/cars.m4v: 384x640 5 cars, 15.0ms\n",
            "video 1/1 (frame 847/1250) /content/cars.m4v: 384x640 5 cars, 14.6ms\n",
            "video 1/1 (frame 848/1250) /content/cars.m4v: 384x640 5 cars, 14.4ms\n",
            "video 1/1 (frame 849/1250) /content/cars.m4v: 384x640 5 cars, 20.8ms\n",
            "video 1/1 (frame 850/1250) /content/cars.m4v: 384x640 5 cars, 14.4ms\n",
            "video 1/1 (frame 851/1250) /content/cars.m4v: 384x640 5 cars, 24.8ms\n",
            "video 1/1 (frame 852/1250) /content/cars.m4v: 384x640 5 cars, 19.4ms\n",
            "video 1/1 (frame 853/1250) /content/cars.m4v: 384x640 5 cars, 19.1ms\n",
            "video 1/1 (frame 854/1250) /content/cars.m4v: 384x640 5 cars, 15.8ms\n",
            "video 1/1 (frame 855/1250) /content/cars.m4v: 384x640 5 cars, 14.8ms\n",
            "video 1/1 (frame 856/1250) /content/cars.m4v: 384x640 5 cars, 18.1ms\n",
            "video 1/1 (frame 857/1250) /content/cars.m4v: 384x640 5 cars, 25.8ms\n",
            "video 1/1 (frame 858/1250) /content/cars.m4v: 384x640 5 cars, 22.1ms\n",
            "video 1/1 (frame 859/1250) /content/cars.m4v: 384x640 5 cars, 15.3ms\n",
            "video 1/1 (frame 860/1250) /content/cars.m4v: 384x640 6 cars, 14.4ms\n",
            "video 1/1 (frame 861/1250) /content/cars.m4v: 384x640 6 cars, 17.1ms\n",
            "video 1/1 (frame 862/1250) /content/cars.m4v: 384x640 5 cars, 16.4ms\n",
            "video 1/1 (frame 863/1250) /content/cars.m4v: 384x640 6 cars, 14.8ms\n",
            "video 1/1 (frame 864/1250) /content/cars.m4v: 384x640 6 cars, 15.3ms\n",
            "video 1/1 (frame 865/1250) /content/cars.m4v: 384x640 5 cars, 16.5ms\n",
            "video 1/1 (frame 866/1250) /content/cars.m4v: 384x640 6 cars, 14.8ms\n",
            "video 1/1 (frame 867/1250) /content/cars.m4v: 384x640 6 cars, 14.6ms\n",
            "video 1/1 (frame 868/1250) /content/cars.m4v: 384x640 6 cars, 17.1ms\n",
            "video 1/1 (frame 869/1250) /content/cars.m4v: 384x640 5 cars, 24.8ms\n",
            "video 1/1 (frame 870/1250) /content/cars.m4v: 384x640 5 cars, 15.9ms\n",
            "video 1/1 (frame 871/1250) /content/cars.m4v: 384x640 5 cars, 14.9ms\n",
            "video 1/1 (frame 872/1250) /content/cars.m4v: 384x640 5 cars, 15.1ms\n",
            "video 1/1 (frame 873/1250) /content/cars.m4v: 384x640 6 cars, 19.0ms\n",
            "video 1/1 (frame 874/1250) /content/cars.m4v: 384x640 5 cars, 18.0ms\n",
            "video 1/1 (frame 875/1250) /content/cars.m4v: 384x640 5 cars, 17.2ms\n",
            "video 1/1 (frame 876/1250) /content/cars.m4v: 384x640 5 cars, 17.2ms\n",
            "video 1/1 (frame 877/1250) /content/cars.m4v: 384x640 5 cars, 21.5ms\n",
            "video 1/1 (frame 878/1250) /content/cars.m4v: 384x640 5 cars, 1 motorcycle, 15.3ms\n",
            "video 1/1 (frame 879/1250) /content/cars.m4v: 384x640 5 cars, 14.1ms\n",
            "video 1/1 (frame 880/1250) /content/cars.m4v: 384x640 5 cars, 14.6ms\n",
            "video 1/1 (frame 881/1250) /content/cars.m4v: 384x640 5 cars, 15.0ms\n",
            "video 1/1 (frame 882/1250) /content/cars.m4v: 384x640 5 cars, 17.1ms\n",
            "video 1/1 (frame 883/1250) /content/cars.m4v: 384x640 5 cars, 14.2ms\n",
            "video 1/1 (frame 884/1250) /content/cars.m4v: 384x640 5 cars, 14.4ms\n",
            "video 1/1 (frame 885/1250) /content/cars.m4v: 384x640 5 cars, 19.8ms\n",
            "video 1/1 (frame 886/1250) /content/cars.m4v: 384x640 5 cars, 15.2ms\n",
            "video 1/1 (frame 887/1250) /content/cars.m4v: 384x640 5 cars, 17.3ms\n",
            "video 1/1 (frame 888/1250) /content/cars.m4v: 384x640 5 cars, 18.3ms\n",
            "video 1/1 (frame 889/1250) /content/cars.m4v: 384x640 5 cars, 18.1ms\n",
            "video 1/1 (frame 890/1250) /content/cars.m4v: 384x640 5 cars, 17.9ms\n",
            "video 1/1 (frame 891/1250) /content/cars.m4v: 384x640 5 cars, 17.4ms\n",
            "video 1/1 (frame 892/1250) /content/cars.m4v: 384x640 5 cars, 23.1ms\n",
            "video 1/1 (frame 893/1250) /content/cars.m4v: 384x640 5 cars, 25.3ms\n",
            "video 1/1 (frame 894/1250) /content/cars.m4v: 384x640 5 cars, 18.9ms\n",
            "video 1/1 (frame 895/1250) /content/cars.m4v: 384x640 5 cars, 23.2ms\n",
            "video 1/1 (frame 896/1250) /content/cars.m4v: 384x640 5 cars, 18.2ms\n",
            "video 1/1 (frame 897/1250) /content/cars.m4v: 384x640 5 cars, 26.9ms\n",
            "video 1/1 (frame 898/1250) /content/cars.m4v: 384x640 5 cars, 33.7ms\n",
            "video 1/1 (frame 899/1250) /content/cars.m4v: 384x640 5 cars, 19.2ms\n",
            "video 1/1 (frame 900/1250) /content/cars.m4v: 384x640 5 cars, 18.0ms\n",
            "video 1/1 (frame 901/1250) /content/cars.m4v: 384x640 5 cars, 19.6ms\n",
            "video 1/1 (frame 902/1250) /content/cars.m4v: 384x640 5 cars, 19.7ms\n",
            "video 1/1 (frame 903/1250) /content/cars.m4v: 384x640 5 cars, 21.1ms\n",
            "video 1/1 (frame 904/1250) /content/cars.m4v: 384x640 5 cars, 18.7ms\n",
            "video 1/1 (frame 905/1250) /content/cars.m4v: 384x640 5 cars, 17.9ms\n",
            "video 1/1 (frame 906/1250) /content/cars.m4v: 384x640 5 cars, 16.2ms\n",
            "video 1/1 (frame 907/1250) /content/cars.m4v: 384x640 5 cars, 17.3ms\n",
            "video 1/1 (frame 908/1250) /content/cars.m4v: 384x640 5 cars, 16.4ms\n",
            "video 1/1 (frame 909/1250) /content/cars.m4v: 384x640 5 cars, 16.9ms\n",
            "video 1/1 (frame 910/1250) /content/cars.m4v: 384x640 5 cars, 26.0ms\n",
            "video 1/1 (frame 911/1250) /content/cars.m4v: 384x640 5 cars, 33.3ms\n",
            "video 1/1 (frame 912/1250) /content/cars.m4v: 384x640 5 cars, 25.2ms\n",
            "video 1/1 (frame 913/1250) /content/cars.m4v: 384x640 5 cars, 23.3ms\n",
            "video 1/1 (frame 914/1250) /content/cars.m4v: 384x640 5 cars, 26.3ms\n",
            "video 1/1 (frame 915/1250) /content/cars.m4v: 384x640 5 cars, 20.5ms\n",
            "video 1/1 (frame 916/1250) /content/cars.m4v: 384x640 5 cars, 21.8ms\n",
            "video 1/1 (frame 917/1250) /content/cars.m4v: 384x640 5 cars, 30.4ms\n",
            "video 1/1 (frame 918/1250) /content/cars.m4v: 384x640 5 cars, 23.4ms\n",
            "video 1/1 (frame 919/1250) /content/cars.m4v: 384x640 4 cars, 24.3ms\n",
            "video 1/1 (frame 920/1250) /content/cars.m4v: 384x640 4 cars, 14.0ms\n",
            "video 1/1 (frame 921/1250) /content/cars.m4v: 384x640 4 cars, 19.4ms\n",
            "video 1/1 (frame 922/1250) /content/cars.m4v: 384x640 4 cars, 15.2ms\n",
            "video 1/1 (frame 923/1250) /content/cars.m4v: 384x640 4 cars, 14.3ms\n",
            "video 1/1 (frame 924/1250) /content/cars.m4v: 384x640 5 cars, 13.9ms\n",
            "video 1/1 (frame 925/1250) /content/cars.m4v: 384x640 4 cars, 22.5ms\n",
            "video 1/1 (frame 926/1250) /content/cars.m4v: 384x640 4 cars, 18.2ms\n",
            "video 1/1 (frame 927/1250) /content/cars.m4v: 384x640 4 cars, 16.8ms\n",
            "video 1/1 (frame 928/1250) /content/cars.m4v: 384x640 4 cars, 18.2ms\n",
            "video 1/1 (frame 929/1250) /content/cars.m4v: 384x640 5 cars, 18.0ms\n",
            "video 1/1 (frame 930/1250) /content/cars.m4v: 384x640 4 cars, 14.7ms\n",
            "video 1/1 (frame 931/1250) /content/cars.m4v: 384x640 4 cars, 14.6ms\n",
            "video 1/1 (frame 932/1250) /content/cars.m4v: 384x640 5 cars, 15.3ms\n",
            "video 1/1 (frame 933/1250) /content/cars.m4v: 384x640 5 cars, 16.7ms\n",
            "video 1/1 (frame 934/1250) /content/cars.m4v: 384x640 5 cars, 14.5ms\n",
            "video 1/1 (frame 935/1250) /content/cars.m4v: 384x640 5 cars, 16.7ms\n",
            "video 1/1 (frame 936/1250) /content/cars.m4v: 384x640 5 cars, 14.2ms\n",
            "video 1/1 (frame 937/1250) /content/cars.m4v: 384x640 5 cars, 20.9ms\n",
            "video 1/1 (frame 938/1250) /content/cars.m4v: 384x640 5 cars, 15.1ms\n",
            "video 1/1 (frame 939/1250) /content/cars.m4v: 384x640 5 cars, 16.7ms\n",
            "video 1/1 (frame 940/1250) /content/cars.m4v: 384x640 5 cars, 14.4ms\n",
            "video 1/1 (frame 941/1250) /content/cars.m4v: 384x640 5 cars, 29.7ms\n",
            "video 1/1 (frame 942/1250) /content/cars.m4v: 384x640 5 cars, 14.1ms\n",
            "video 1/1 (frame 943/1250) /content/cars.m4v: 384x640 5 cars, 13.8ms\n",
            "video 1/1 (frame 944/1250) /content/cars.m4v: 384x640 5 cars, 14.5ms\n",
            "video 1/1 (frame 945/1250) /content/cars.m4v: 384x640 4 cars, 19.7ms\n",
            "video 1/1 (frame 946/1250) /content/cars.m4v: 384x640 4 cars, 14.1ms\n",
            "video 1/1 (frame 947/1250) /content/cars.m4v: 384x640 4 cars, 16.7ms\n",
            "video 1/1 (frame 948/1250) /content/cars.m4v: 384x640 4 cars, 13.7ms\n",
            "video 1/1 (frame 949/1250) /content/cars.m4v: 384x640 5 cars, 17.8ms\n",
            "video 1/1 (frame 950/1250) /content/cars.m4v: 384x640 5 cars, 14.8ms\n",
            "video 1/1 (frame 951/1250) /content/cars.m4v: 384x640 5 cars, 16.8ms\n",
            "video 1/1 (frame 952/1250) /content/cars.m4v: 384x640 4 cars, 16.1ms\n",
            "video 1/1 (frame 953/1250) /content/cars.m4v: 384x640 5 cars, 1 truck, 17.1ms\n",
            "video 1/1 (frame 954/1250) /content/cars.m4v: 384x640 6 cars, 14.7ms\n",
            "video 1/1 (frame 955/1250) /content/cars.m4v: 384x640 4 cars, 17.4ms\n",
            "video 1/1 (frame 956/1250) /content/cars.m4v: 384x640 5 cars, 15.5ms\n",
            "video 1/1 (frame 957/1250) /content/cars.m4v: 384x640 5 cars, 19.3ms\n",
            "video 1/1 (frame 958/1250) /content/cars.m4v: 384x640 5 cars, 17.1ms\n",
            "video 1/1 (frame 959/1250) /content/cars.m4v: 384x640 6 cars, 16.4ms\n",
            "video 1/1 (frame 960/1250) /content/cars.m4v: 384x640 5 cars, 16.3ms\n",
            "video 1/1 (frame 961/1250) /content/cars.m4v: 384x640 5 cars, 19.3ms\n",
            "video 1/1 (frame 962/1250) /content/cars.m4v: 384x640 5 cars, 17.1ms\n",
            "video 1/1 (frame 963/1250) /content/cars.m4v: 384x640 4 cars, 13.9ms\n",
            "video 1/1 (frame 964/1250) /content/cars.m4v: 384x640 5 cars, 2 trucks, 16.6ms\n",
            "video 1/1 (frame 965/1250) /content/cars.m4v: 384x640 4 cars, 1 truck, 16.4ms\n",
            "video 1/1 (frame 966/1250) /content/cars.m4v: 384x640 4 cars, 1 truck, 16.9ms\n",
            "video 1/1 (frame 967/1250) /content/cars.m4v: 384x640 3 cars, 1 truck, 14.1ms\n",
            "video 1/1 (frame 968/1250) /content/cars.m4v: 384x640 5 cars, 2 trucks, 19.8ms\n",
            "video 1/1 (frame 969/1250) /content/cars.m4v: 384x640 4 cars, 2 trucks, 15.1ms\n",
            "video 1/1 (frame 970/1250) /content/cars.m4v: 384x640 5 cars, 1 truck, 16.7ms\n",
            "video 1/1 (frame 971/1250) /content/cars.m4v: 384x640 5 cars, 2 trucks, 16.0ms\n",
            "video 1/1 (frame 972/1250) /content/cars.m4v: 384x640 5 cars, 16.5ms\n",
            "video 1/1 (frame 973/1250) /content/cars.m4v: 384x640 5 cars, 16.9ms\n",
            "video 1/1 (frame 974/1250) /content/cars.m4v: 384x640 5 cars, 19.9ms\n",
            "video 1/1 (frame 975/1250) /content/cars.m4v: 384x640 4 cars, 15.3ms\n",
            "video 1/1 (frame 976/1250) /content/cars.m4v: 384x640 4 cars, 16.3ms\n",
            "video 1/1 (frame 977/1250) /content/cars.m4v: 384x640 5 cars, 20.1ms\n",
            "video 1/1 (frame 978/1250) /content/cars.m4v: 384x640 4 cars, 15.9ms\n",
            "video 1/1 (frame 979/1250) /content/cars.m4v: 384x640 4 cars, 15.3ms\n",
            "video 1/1 (frame 980/1250) /content/cars.m4v: 384x640 4 cars, 14.3ms\n",
            "video 1/1 (frame 981/1250) /content/cars.m4v: 384x640 3 cars, 16.8ms\n",
            "video 1/1 (frame 982/1250) /content/cars.m4v: 384x640 3 cars, 14.7ms\n",
            "video 1/1 (frame 983/1250) /content/cars.m4v: 384x640 3 cars, 14.0ms\n",
            "video 1/1 (frame 984/1250) /content/cars.m4v: 384x640 3 cars, 1 truck, 14.3ms\n",
            "video 1/1 (frame 985/1250) /content/cars.m4v: 384x640 5 cars, 18.2ms\n",
            "video 1/1 (frame 986/1250) /content/cars.m4v: 384x640 4 cars, 22.8ms\n",
            "video 1/1 (frame 987/1250) /content/cars.m4v: 384x640 4 cars, 1 truck, 18.1ms\n",
            "video 1/1 (frame 988/1250) /content/cars.m4v: 384x640 4 cars, 1 truck, 14.2ms\n",
            "video 1/1 (frame 989/1250) /content/cars.m4v: 384x640 5 cars, 18.3ms\n",
            "video 1/1 (frame 990/1250) /content/cars.m4v: 384x640 4 cars, 14.7ms\n",
            "video 1/1 (frame 991/1250) /content/cars.m4v: 384x640 4 cars, 24.6ms\n",
            "video 1/1 (frame 992/1250) /content/cars.m4v: 384x640 4 cars, 14.9ms\n",
            "video 1/1 (frame 993/1250) /content/cars.m4v: 384x640 4 cars, 18.2ms\n",
            "video 1/1 (frame 994/1250) /content/cars.m4v: 384x640 4 cars, 14.8ms\n",
            "video 1/1 (frame 995/1250) /content/cars.m4v: 384x640 4 cars, 14.6ms\n",
            "video 1/1 (frame 996/1250) /content/cars.m4v: 384x640 4 cars, 18.1ms\n",
            "video 1/1 (frame 997/1250) /content/cars.m4v: 384x640 4 cars, 1 motorcycle, 17.4ms\n",
            "video 1/1 (frame 998/1250) /content/cars.m4v: 384x640 5 cars, 18.3ms\n",
            "video 1/1 (frame 999/1250) /content/cars.m4v: 384x640 5 cars, 18.1ms\n",
            "video 1/1 (frame 1000/1250) /content/cars.m4v: 384x640 1 person, 4 cars, 1 suitcase, 16.4ms\n",
            "video 1/1 (frame 1001/1250) /content/cars.m4v: 384x640 1 person, 5 cars, 17.0ms\n",
            "video 1/1 (frame 1002/1250) /content/cars.m4v: 384x640 1 person, 4 cars, 1 suitcase, 14.3ms\n",
            "video 1/1 (frame 1003/1250) /content/cars.m4v: 384x640 1 person, 4 cars, 1 motorcycle, 18.1ms\n",
            "video 1/1 (frame 1004/1250) /content/cars.m4v: 384x640 1 person, 4 cars, 1 motorcycle, 1 suitcase, 18.6ms\n",
            "video 1/1 (frame 1005/1250) /content/cars.m4v: 384x640 1 person, 4 cars, 1 motorcycle, 14.5ms\n",
            "video 1/1 (frame 1006/1250) /content/cars.m4v: 384x640 1 person, 4 cars, 1 motorcycle, 1 suitcase, 14.4ms\n",
            "video 1/1 (frame 1007/1250) /content/cars.m4v: 384x640 1 person, 4 cars, 17.0ms\n",
            "video 1/1 (frame 1008/1250) /content/cars.m4v: 384x640 1 person, 4 cars, 1 motorcycle, 23.4ms\n",
            "video 1/1 (frame 1009/1250) /content/cars.m4v: 384x640 1 person, 4 cars, 1 motorcycle, 17.8ms\n",
            "video 1/1 (frame 1010/1250) /content/cars.m4v: 384x640 2 persons, 4 cars, 1 motorcycle, 1 suitcase, 15.3ms\n",
            "video 1/1 (frame 1011/1250) /content/cars.m4v: 384x640 2 persons, 4 cars, 1 motorcycle, 1 suitcase, 18.9ms\n",
            "video 1/1 (frame 1012/1250) /content/cars.m4v: 384x640 1 person, 4 cars, 1 motorcycle, 1 suitcase, 14.8ms\n",
            "video 1/1 (frame 1013/1250) /content/cars.m4v: 384x640 1 person, 4 cars, 1 motorcycle, 1 suitcase, 15.4ms\n",
            "video 1/1 (frame 1014/1250) /content/cars.m4v: 384x640 1 person, 4 cars, 1 motorcycle, 13.4ms\n",
            "video 1/1 (frame 1015/1250) /content/cars.m4v: 384x640 1 person, 4 cars, 1 motorcycle, 18.7ms\n",
            "video 1/1 (frame 1016/1250) /content/cars.m4v: 384x640 1 person, 4 cars, 1 motorcycle, 14.1ms\n",
            "video 1/1 (frame 1017/1250) /content/cars.m4v: 384x640 1 person, 4 cars, 1 motorcycle, 14.8ms\n",
            "video 1/1 (frame 1018/1250) /content/cars.m4v: 384x640 1 person, 4 cars, 1 motorcycle, 14.2ms\n",
            "video 1/1 (frame 1019/1250) /content/cars.m4v: 384x640 1 person, 4 cars, 1 motorcycle, 19.5ms\n",
            "video 1/1 (frame 1020/1250) /content/cars.m4v: 384x640 1 person, 4 cars, 1 motorcycle, 16.1ms\n",
            "video 1/1 (frame 1021/1250) /content/cars.m4v: 384x640 1 person, 4 cars, 1 motorcycle, 22.7ms\n",
            "video 1/1 (frame 1022/1250) /content/cars.m4v: 384x640 1 person, 4 cars, 1 motorcycle, 16.4ms\n",
            "video 1/1 (frame 1023/1250) /content/cars.m4v: 384x640 2 persons, 4 cars, 1 motorcycle, 18.1ms\n",
            "video 1/1 (frame 1024/1250) /content/cars.m4v: 384x640 1 person, 5 cars, 1 motorcycle, 25.1ms\n",
            "video 1/1 (frame 1025/1250) /content/cars.m4v: 384x640 1 person, 4 cars, 1 motorcycle, 18.2ms\n",
            "video 1/1 (frame 1026/1250) /content/cars.m4v: 384x640 1 person, 4 cars, 1 motorcycle, 13.7ms\n",
            "video 1/1 (frame 1027/1250) /content/cars.m4v: 384x640 1 person, 4 cars, 1 motorcycle, 16.8ms\n",
            "video 1/1 (frame 1028/1250) /content/cars.m4v: 384x640 1 person, 4 cars, 1 motorcycle, 14.7ms\n",
            "video 1/1 (frame 1029/1250) /content/cars.m4v: 384x640 1 person, 4 cars, 1 motorcycle, 14.4ms\n",
            "video 1/1 (frame 1030/1250) /content/cars.m4v: 384x640 1 person, 5 cars, 1 motorcycle, 14.2ms\n",
            "video 1/1 (frame 1031/1250) /content/cars.m4v: 384x640 1 person, 5 cars, 1 motorcycle, 18.4ms\n",
            "video 1/1 (frame 1032/1250) /content/cars.m4v: 384x640 1 person, 4 cars, 1 motorcycle, 15.8ms\n",
            "video 1/1 (frame 1033/1250) /content/cars.m4v: 384x640 1 person, 5 cars, 1 motorcycle, 15.5ms\n",
            "video 1/1 (frame 1034/1250) /content/cars.m4v: 384x640 1 person, 5 cars, 1 motorcycle, 15.3ms\n",
            "video 1/1 (frame 1035/1250) /content/cars.m4v: 384x640 1 person, 5 cars, 1 motorcycle, 16.0ms\n",
            "video 1/1 (frame 1036/1250) /content/cars.m4v: 384x640 5 cars, 2 motorcycles, 14.0ms\n",
            "video 1/1 (frame 1037/1250) /content/cars.m4v: 384x640 5 cars, 1 motorcycle, 13.9ms\n",
            "video 1/1 (frame 1038/1250) /content/cars.m4v: 384x640 5 cars, 1 motorcycle, 15.1ms\n",
            "video 1/1 (frame 1039/1250) /content/cars.m4v: 384x640 5 cars, 2 motorcycles, 18.7ms\n",
            "video 1/1 (frame 1040/1250) /content/cars.m4v: 384x640 5 cars, 1 motorcycle, 13.9ms\n",
            "video 1/1 (frame 1041/1250) /content/cars.m4v: 384x640 5 cars, 1 motorcycle, 14.0ms\n",
            "video 1/1 (frame 1042/1250) /content/cars.m4v: 384x640 5 cars, 1 motorcycle, 15.3ms\n",
            "video 1/1 (frame 1043/1250) /content/cars.m4v: 384x640 5 cars, 1 motorcycle, 17.7ms\n",
            "video 1/1 (frame 1044/1250) /content/cars.m4v: 384x640 5 cars, 1 motorcycle, 17.7ms\n",
            "video 1/1 (frame 1045/1250) /content/cars.m4v: 384x640 5 cars, 1 motorcycle, 14.2ms\n",
            "video 1/1 (frame 1046/1250) /content/cars.m4v: 384x640 5 cars, 1 motorcycle, 13.9ms\n",
            "video 1/1 (frame 1047/1250) /content/cars.m4v: 384x640 5 cars, 1 motorcycle, 16.9ms\n",
            "video 1/1 (frame 1048/1250) /content/cars.m4v: 384x640 5 cars, 1 motorcycle, 13.3ms\n",
            "video 1/1 (frame 1049/1250) /content/cars.m4v: 384x640 5 cars, 1 motorcycle, 13.6ms\n",
            "video 1/1 (frame 1050/1250) /content/cars.m4v: 384x640 5 cars, 1 motorcycle, 15.3ms\n",
            "video 1/1 (frame 1051/1250) /content/cars.m4v: 384x640 5 cars, 1 motorcycle, 16.8ms\n",
            "video 1/1 (frame 1052/1250) /content/cars.m4v: 384x640 5 cars, 1 motorcycle, 17.4ms\n",
            "video 1/1 (frame 1053/1250) /content/cars.m4v: 384x640 5 cars, 1 motorcycle, 13.4ms\n",
            "video 1/1 (frame 1054/1250) /content/cars.m4v: 384x640 5 cars, 1 motorcycle, 17.0ms\n",
            "video 1/1 (frame 1055/1250) /content/cars.m4v: 384x640 5 cars, 1 motorcycle, 19.4ms\n",
            "video 1/1 (frame 1056/1250) /content/cars.m4v: 384x640 5 cars, 1 motorcycle, 17.8ms\n",
            "video 1/1 (frame 1057/1250) /content/cars.m4v: 384x640 5 cars, 1 motorcycle, 23.7ms\n",
            "video 1/1 (frame 1058/1250) /content/cars.m4v: 384x640 5 cars, 14.9ms\n",
            "video 1/1 (frame 1059/1250) /content/cars.m4v: 384x640 6 cars, 18.3ms\n",
            "video 1/1 (frame 1060/1250) /content/cars.m4v: 384x640 5 cars, 15.1ms\n",
            "video 1/1 (frame 1061/1250) /content/cars.m4v: 384x640 5 cars, 23.5ms\n",
            "video 1/1 (frame 1062/1250) /content/cars.m4v: 384x640 5 cars, 37.5ms\n",
            "video 1/1 (frame 1063/1250) /content/cars.m4v: 384x640 5 cars, 16.2ms\n",
            "video 1/1 (frame 1064/1250) /content/cars.m4v: 384x640 5 cars, 20.7ms\n",
            "video 1/1 (frame 1065/1250) /content/cars.m4v: 384x640 5 cars, 14.4ms\n",
            "video 1/1 (frame 1066/1250) /content/cars.m4v: 384x640 5 cars, 18.5ms\n",
            "video 1/1 (frame 1067/1250) /content/cars.m4v: 384x640 5 cars, 14.3ms\n",
            "video 1/1 (frame 1068/1250) /content/cars.m4v: 384x640 5 cars, 16.7ms\n",
            "video 1/1 (frame 1069/1250) /content/cars.m4v: 384x640 5 cars, 21.9ms\n",
            "video 1/1 (frame 1070/1250) /content/cars.m4v: 384x640 5 cars, 14.4ms\n",
            "video 1/1 (frame 1071/1250) /content/cars.m4v: 384x640 5 cars, 23.2ms\n",
            "video 1/1 (frame 1072/1250) /content/cars.m4v: 384x640 5 cars, 14.2ms\n",
            "video 1/1 (frame 1073/1250) /content/cars.m4v: 384x640 5 cars, 17.8ms\n",
            "video 1/1 (frame 1074/1250) /content/cars.m4v: 384x640 5 cars, 19.6ms\n",
            "video 1/1 (frame 1075/1250) /content/cars.m4v: 384x640 5 cars, 20.3ms\n",
            "video 1/1 (frame 1076/1250) /content/cars.m4v: 384x640 5 cars, 14.6ms\n",
            "video 1/1 (frame 1077/1250) /content/cars.m4v: 384x640 5 cars, 18.0ms\n",
            "video 1/1 (frame 1078/1250) /content/cars.m4v: 384x640 5 cars, 16.0ms\n",
            "video 1/1 (frame 1079/1250) /content/cars.m4v: 384x640 5 cars, 30.9ms\n",
            "video 1/1 (frame 1080/1250) /content/cars.m4v: 384x640 5 cars, 22.4ms\n",
            "video 1/1 (frame 1081/1250) /content/cars.m4v: 384x640 5 cars, 23.1ms\n",
            "video 1/1 (frame 1082/1250) /content/cars.m4v: 384x640 5 cars, 20.3ms\n",
            "video 1/1 (frame 1083/1250) /content/cars.m4v: 384x640 5 cars, 20.7ms\n",
            "video 1/1 (frame 1084/1250) /content/cars.m4v: 384x640 5 cars, 22.1ms\n",
            "video 1/1 (frame 1085/1250) /content/cars.m4v: 384x640 5 cars, 21.8ms\n",
            "video 1/1 (frame 1086/1250) /content/cars.m4v: 384x640 5 cars, 24.1ms\n",
            "video 1/1 (frame 1087/1250) /content/cars.m4v: 384x640 5 cars, 26.5ms\n",
            "video 1/1 (frame 1088/1250) /content/cars.m4v: 384x640 5 cars, 19.0ms\n",
            "video 1/1 (frame 1089/1250) /content/cars.m4v: 384x640 5 cars, 18.3ms\n",
            "video 1/1 (frame 1090/1250) /content/cars.m4v: 384x640 5 cars, 17.9ms\n",
            "video 1/1 (frame 1091/1250) /content/cars.m4v: 384x640 5 cars, 24.7ms\n",
            "video 1/1 (frame 1092/1250) /content/cars.m4v: 384x640 5 cars, 17.7ms\n",
            "video 1/1 (frame 1093/1250) /content/cars.m4v: 384x640 5 cars, 17.9ms\n",
            "video 1/1 (frame 1094/1250) /content/cars.m4v: 384x640 5 cars, 18.9ms\n",
            "video 1/1 (frame 1095/1250) /content/cars.m4v: 384x640 5 cars, 19.4ms\n",
            "video 1/1 (frame 1096/1250) /content/cars.m4v: 384x640 5 cars, 21.6ms\n",
            "video 1/1 (frame 1097/1250) /content/cars.m4v: 384x640 4 cars, 18.3ms\n",
            "video 1/1 (frame 1098/1250) /content/cars.m4v: 384x640 4 cars, 19.8ms\n",
            "video 1/1 (frame 1099/1250) /content/cars.m4v: 384x640 4 cars, 35.3ms\n",
            "video 1/1 (frame 1100/1250) /content/cars.m4v: 384x640 3 cars, 23.3ms\n",
            "video 1/1 (frame 1101/1250) /content/cars.m4v: 384x640 3 cars, 25.8ms\n",
            "video 1/1 (frame 1102/1250) /content/cars.m4v: 384x640 3 cars, 25.1ms\n",
            "video 1/1 (frame 1103/1250) /content/cars.m4v: 384x640 4 cars, 25.3ms\n",
            "video 1/1 (frame 1104/1250) /content/cars.m4v: 384x640 5 cars, 23.7ms\n",
            "video 1/1 (frame 1105/1250) /content/cars.m4v: 384x640 5 cars, 22.3ms\n",
            "video 1/1 (frame 1106/1250) /content/cars.m4v: 384x640 5 cars, 28.0ms\n",
            "video 1/1 (frame 1107/1250) /content/cars.m4v: 384x640 5 cars, 31.7ms\n",
            "video 1/1 (frame 1108/1250) /content/cars.m4v: 384x640 5 cars, 15.4ms\n",
            "video 1/1 (frame 1109/1250) /content/cars.m4v: 384x640 5 cars, 17.3ms\n",
            "video 1/1 (frame 1110/1250) /content/cars.m4v: 384x640 5 cars, 13.9ms\n",
            "video 1/1 (frame 1111/1250) /content/cars.m4v: 384x640 4 cars, 32.2ms\n",
            "video 1/1 (frame 1112/1250) /content/cars.m4v: 384x640 4 cars, 14.9ms\n",
            "video 1/1 (frame 1113/1250) /content/cars.m4v: 384x640 4 cars, 17.4ms\n",
            "video 1/1 (frame 1114/1250) /content/cars.m4v: 384x640 4 cars, 14.7ms\n",
            "video 1/1 (frame 1115/1250) /content/cars.m4v: 384x640 4 cars, 21.4ms\n",
            "video 1/1 (frame 1116/1250) /content/cars.m4v: 384x640 4 cars, 16.1ms\n",
            "video 1/1 (frame 1117/1250) /content/cars.m4v: 384x640 4 cars, 19.2ms\n",
            "video 1/1 (frame 1118/1250) /content/cars.m4v: 384x640 4 cars, 14.5ms\n",
            "video 1/1 (frame 1119/1250) /content/cars.m4v: 384x640 4 cars, 19.7ms\n",
            "video 1/1 (frame 1120/1250) /content/cars.m4v: 384x640 4 cars, 14.3ms\n",
            "video 1/1 (frame 1121/1250) /content/cars.m4v: 384x640 4 cars, 14.5ms\n",
            "video 1/1 (frame 1122/1250) /content/cars.m4v: 384x640 4 cars, 13.4ms\n",
            "video 1/1 (frame 1123/1250) /content/cars.m4v: 384x640 4 cars, 16.7ms\n",
            "video 1/1 (frame 1124/1250) /content/cars.m4v: 384x640 4 cars, 15.3ms\n",
            "video 1/1 (frame 1125/1250) /content/cars.m4v: 384x640 4 cars, 14.7ms\n",
            "video 1/1 (frame 1126/1250) /content/cars.m4v: 384x640 4 cars, 16.6ms\n",
            "video 1/1 (frame 1127/1250) /content/cars.m4v: 384x640 4 cars, 16.8ms\n",
            "video 1/1 (frame 1128/1250) /content/cars.m4v: 384x640 4 cars, 25.5ms\n",
            "video 1/1 (frame 1129/1250) /content/cars.m4v: 384x640 4 cars, 14.6ms\n",
            "video 1/1 (frame 1130/1250) /content/cars.m4v: 384x640 4 cars, 17.0ms\n",
            "video 1/1 (frame 1131/1250) /content/cars.m4v: 384x640 4 cars, 16.5ms\n",
            "video 1/1 (frame 1132/1250) /content/cars.m4v: 384x640 3 cars, 16.4ms\n",
            "video 1/1 (frame 1133/1250) /content/cars.m4v: 384x640 4 cars, 13.6ms\n",
            "video 1/1 (frame 1134/1250) /content/cars.m4v: 384x640 4 cars, 17.2ms\n",
            "video 1/1 (frame 1135/1250) /content/cars.m4v: 384x640 4 cars, 16.6ms\n",
            "video 1/1 (frame 1136/1250) /content/cars.m4v: 384x640 4 cars, 21.4ms\n",
            "video 1/1 (frame 1137/1250) /content/cars.m4v: 384x640 4 cars, 15.3ms\n",
            "video 1/1 (frame 1138/1250) /content/cars.m4v: 384x640 4 cars, 16.6ms\n",
            "video 1/1 (frame 1139/1250) /content/cars.m4v: 384x640 4 cars, 16.3ms\n",
            "video 1/1 (frame 1140/1250) /content/cars.m4v: 384x640 4 cars, 14.7ms\n",
            "video 1/1 (frame 1141/1250) /content/cars.m4v: 384x640 4 cars, 17.0ms\n",
            "video 1/1 (frame 1142/1250) /content/cars.m4v: 384x640 5 cars, 15.5ms\n",
            "video 1/1 (frame 1143/1250) /content/cars.m4v: 384x640 5 cars, 19.0ms\n",
            "video 1/1 (frame 1144/1250) /content/cars.m4v: 384x640 5 cars, 14.4ms\n",
            "video 1/1 (frame 1145/1250) /content/cars.m4v: 384x640 5 cars, 18.2ms\n",
            "video 1/1 (frame 1146/1250) /content/cars.m4v: 384x640 5 cars, 15.0ms\n",
            "video 1/1 (frame 1147/1250) /content/cars.m4v: 384x640 5 cars, 19.0ms\n",
            "video 1/1 (frame 1148/1250) /content/cars.m4v: 384x640 5 cars, 13.9ms\n",
            "video 1/1 (frame 1149/1250) /content/cars.m4v: 384x640 5 cars, 17.2ms\n",
            "video 1/1 (frame 1150/1250) /content/cars.m4v: 384x640 5 cars, 13.3ms\n",
            "video 1/1 (frame 1151/1250) /content/cars.m4v: 384x640 5 cars, 18.7ms\n",
            "video 1/1 (frame 1152/1250) /content/cars.m4v: 384x640 5 cars, 14.1ms\n",
            "video 1/1 (frame 1153/1250) /content/cars.m4v: 384x640 5 cars, 13.7ms\n",
            "video 1/1 (frame 1154/1250) /content/cars.m4v: 384x640 5 cars, 18.5ms\n",
            "video 1/1 (frame 1155/1250) /content/cars.m4v: 384x640 5 cars, 16.4ms\n",
            "video 1/1 (frame 1156/1250) /content/cars.m4v: 384x640 6 cars, 13.5ms\n",
            "video 1/1 (frame 1157/1250) /content/cars.m4v: 384x640 6 cars, 15.0ms\n",
            "video 1/1 (frame 1158/1250) /content/cars.m4v: 384x640 6 cars, 13.3ms\n",
            "video 1/1 (frame 1159/1250) /content/cars.m4v: 384x640 5 cars, 19.4ms\n",
            "video 1/1 (frame 1160/1250) /content/cars.m4v: 384x640 5 cars, 15.1ms\n",
            "video 1/1 (frame 1161/1250) /content/cars.m4v: 384x640 5 cars, 13.6ms\n",
            "video 1/1 (frame 1162/1250) /content/cars.m4v: 384x640 6 cars, 18.5ms\n",
            "video 1/1 (frame 1163/1250) /content/cars.m4v: 384x640 6 cars, 16.7ms\n",
            "video 1/1 (frame 1164/1250) /content/cars.m4v: 384x640 5 cars, 17.9ms\n",
            "video 1/1 (frame 1165/1250) /content/cars.m4v: 384x640 5 cars, 19.1ms\n",
            "video 1/1 (frame 1166/1250) /content/cars.m4v: 384x640 5 cars, 13.8ms\n",
            "video 1/1 (frame 1167/1250) /content/cars.m4v: 384x640 6 cars, 16.5ms\n",
            "video 1/1 (frame 1168/1250) /content/cars.m4v: 384x640 5 cars, 20.2ms\n",
            "video 1/1 (frame 1169/1250) /content/cars.m4v: 384x640 6 cars, 14.4ms\n",
            "video 1/1 (frame 1170/1250) /content/cars.m4v: 384x640 5 cars, 1 motorcycle, 14.2ms\n",
            "video 1/1 (frame 1171/1250) /content/cars.m4v: 384x640 3 cars, 22.0ms\n",
            "video 1/1 (frame 1172/1250) /content/cars.m4v: 384x640 5 cars, 14.1ms\n",
            "video 1/1 (frame 1173/1250) /content/cars.m4v: 384x640 4 cars, 13.8ms\n",
            "video 1/1 (frame 1174/1250) /content/cars.m4v: 384x640 4 cars, 14.7ms\n",
            "video 1/1 (frame 1175/1250) /content/cars.m4v: 384x640 3 cars, 18.2ms\n",
            "video 1/1 (frame 1176/1250) /content/cars.m4v: 384x640 4 cars, 15.4ms\n",
            "video 1/1 (frame 1177/1250) /content/cars.m4v: 384x640 4 cars, 20.7ms\n",
            "video 1/1 (frame 1178/1250) /content/cars.m4v: 384x640 4 cars, 16.4ms\n",
            "video 1/1 (frame 1179/1250) /content/cars.m4v: 384x640 4 cars, 16.4ms\n",
            "video 1/1 (frame 1180/1250) /content/cars.m4v: 384x640 4 cars, 16.5ms\n",
            "video 1/1 (frame 1181/1250) /content/cars.m4v: 384x640 4 cars, 14.2ms\n",
            "video 1/1 (frame 1182/1250) /content/cars.m4v: 384x640 4 cars, 1 motorcycle, 13.7ms\n",
            "video 1/1 (frame 1183/1250) /content/cars.m4v: 384x640 4 cars, 19.0ms\n",
            "video 1/1 (frame 1184/1250) /content/cars.m4v: 384x640 4 cars, 18.6ms\n",
            "video 1/1 (frame 1185/1250) /content/cars.m4v: 384x640 4 cars, 17.2ms\n",
            "video 1/1 (frame 1186/1250) /content/cars.m4v: 384x640 4 cars, 13.9ms\n",
            "video 1/1 (frame 1187/1250) /content/cars.m4v: 384x640 3 cars, 21.9ms\n",
            "video 1/1 (frame 1188/1250) /content/cars.m4v: 384x640 3 cars, 13.6ms\n",
            "video 1/1 (frame 1189/1250) /content/cars.m4v: 384x640 4 cars, 17.5ms\n",
            "video 1/1 (frame 1190/1250) /content/cars.m4v: 384x640 4 cars, 13.6ms\n",
            "video 1/1 (frame 1191/1250) /content/cars.m4v: 384x640 4 cars, 13.4ms\n",
            "video 1/1 (frame 1192/1250) /content/cars.m4v: 384x640 4 cars, 14.2ms\n",
            "video 1/1 (frame 1193/1250) /content/cars.m4v: 384x640 4 cars, 17.2ms\n",
            "video 1/1 (frame 1194/1250) /content/cars.m4v: 384x640 4 cars, 13.9ms\n",
            "video 1/1 (frame 1195/1250) /content/cars.m4v: 384x640 4 cars, 18.1ms\n",
            "video 1/1 (frame 1196/1250) /content/cars.m4v: 384x640 4 cars, 14.9ms\n",
            "video 1/1 (frame 1197/1250) /content/cars.m4v: 384x640 4 cars, 18.2ms\n",
            "video 1/1 (frame 1198/1250) /content/cars.m4v: 384x640 4 cars, 14.1ms\n",
            "video 1/1 (frame 1199/1250) /content/cars.m4v: 384x640 4 cars, 18.3ms\n",
            "video 1/1 (frame 1200/1250) /content/cars.m4v: 384x640 4 cars, 14.9ms\n",
            "video 1/1 (frame 1201/1250) /content/cars.m4v: 384x640 3 cars, 16.0ms\n",
            "video 1/1 (frame 1202/1250) /content/cars.m4v: 384x640 3 cars, 17.9ms\n",
            "video 1/1 (frame 1203/1250) /content/cars.m4v: 384x640 4 cars, 19.8ms\n",
            "video 1/1 (frame 1204/1250) /content/cars.m4v: 384x640 4 cars, 14.1ms\n",
            "video 1/1 (frame 1205/1250) /content/cars.m4v: 384x640 4 cars, 14.7ms\n",
            "video 1/1 (frame 1206/1250) /content/cars.m4v: 384x640 4 cars, 14.4ms\n",
            "video 1/1 (frame 1207/1250) /content/cars.m4v: 384x640 4 cars, 16.2ms\n",
            "video 1/1 (frame 1208/1250) /content/cars.m4v: 384x640 4 cars, 15.6ms\n",
            "video 1/1 (frame 1209/1250) /content/cars.m4v: 384x640 4 cars, 24.1ms\n",
            "video 1/1 (frame 1210/1250) /content/cars.m4v: 384x640 4 cars, 15.2ms\n",
            "video 1/1 (frame 1211/1250) /content/cars.m4v: 384x640 4 cars, 14.6ms\n",
            "video 1/1 (frame 1212/1250) /content/cars.m4v: 384x640 3 cars, 14.0ms\n",
            "video 1/1 (frame 1213/1250) /content/cars.m4v: 384x640 4 cars, 1 suitcase, 17.4ms\n",
            "video 1/1 (frame 1214/1250) /content/cars.m4v: 384x640 3 cars, 1 suitcase, 19.0ms\n",
            "video 1/1 (frame 1215/1250) /content/cars.m4v: 384x640 3 cars, 23.0ms\n",
            "video 1/1 (frame 1216/1250) /content/cars.m4v: 384x640 3 cars, 2 suitcases, 16.4ms\n",
            "video 1/1 (frame 1217/1250) /content/cars.m4v: 384x640 3 cars, 14.7ms\n",
            "video 1/1 (frame 1218/1250) /content/cars.m4v: 384x640 3 cars, 1 suitcase, 15.5ms\n",
            "video 1/1 (frame 1219/1250) /content/cars.m4v: 384x640 3 cars, 17.6ms\n",
            "video 1/1 (frame 1220/1250) /content/cars.m4v: 384x640 2 cars, 1 suitcase, 15.0ms\n",
            "video 1/1 (frame 1221/1250) /content/cars.m4v: 384x640 2 cars, 17.8ms\n",
            "video 1/1 (frame 1222/1250) /content/cars.m4v: 384x640 4 cars, 1 suitcase, 14.7ms\n",
            "video 1/1 (frame 1223/1250) /content/cars.m4v: 384x640 3 cars, 1 suitcase, 17.1ms\n",
            "video 1/1 (frame 1224/1250) /content/cars.m4v: 384x640 4 cars, 17.5ms\n",
            "video 1/1 (frame 1225/1250) /content/cars.m4v: 384x640 4 cars, 21.0ms\n",
            "video 1/1 (frame 1226/1250) /content/cars.m4v: 384x640 3 cars, 15.5ms\n",
            "video 1/1 (frame 1227/1250) /content/cars.m4v: 384x640 2 cars, 18.2ms\n",
            "video 1/1 (frame 1228/1250) /content/cars.m4v: 384x640 3 cars, 15.1ms\n",
            "video 1/1 (frame 1229/1250) /content/cars.m4v: 384x640 3 cars, 14.3ms\n",
            "video 1/1 (frame 1230/1250) /content/cars.m4v: 384x640 3 cars, 17.9ms\n",
            "video 1/1 (frame 1231/1250) /content/cars.m4v: 384x640 3 cars, 1 suitcase, 16.0ms\n",
            "video 1/1 (frame 1232/1250) /content/cars.m4v: 384x640 3 cars, 1 suitcase, 16.9ms\n",
            "video 1/1 (frame 1233/1250) /content/cars.m4v: 384x640 3 cars, 15.3ms\n",
            "video 1/1 (frame 1234/1250) /content/cars.m4v: 384x640 3 cars, 15.3ms\n",
            "video 1/1 (frame 1235/1250) /content/cars.m4v: 384x640 3 cars, 16.8ms\n",
            "video 1/1 (frame 1236/1250) /content/cars.m4v: 384x640 3 cars, 15.3ms\n",
            "video 1/1 (frame 1237/1250) /content/cars.m4v: 384x640 3 cars, 1 suitcase, 13.6ms\n",
            "video 1/1 (frame 1238/1250) /content/cars.m4v: 384x640 3 cars, 16.0ms\n",
            "video 1/1 (frame 1239/1250) /content/cars.m4v: 384x640 3 cars, 16.0ms\n",
            "video 1/1 (frame 1240/1250) /content/cars.m4v: 384x640 5 cars, 18.1ms\n",
            "video 1/1 (frame 1241/1250) /content/cars.m4v: 384x640 4 cars, 13.5ms\n",
            "video 1/1 (frame 1242/1250) /content/cars.m4v: 384x640 5 cars, 18.2ms\n",
            "video 1/1 (frame 1243/1250) /content/cars.m4v: 384x640 5 cars, 13.2ms\n",
            "video 1/1 (frame 1244/1250) /content/cars.m4v: 384x640 5 cars, 17.0ms\n",
            "video 1/1 (frame 1245/1250) /content/cars.m4v: 384x640 4 cars, 14.0ms\n",
            "video 1/1 (frame 1246/1250) /content/cars.m4v: 384x640 4 cars, 16.0ms\n",
            "video 1/1 (frame 1247/1250) /content/cars.m4v: 384x640 5 cars, 18.7ms\n",
            "video 1/1 (frame 1248/1250) /content/cars.m4v: 384x640 5 cars, 13.3ms\n",
            "video 1/1 (frame 1249/1250) /content/cars.m4v: 384x640 5 cars, 13.5ms\n",
            "video 1/1 (frame 1250/1250) /content/cars.m4v: 384x640 5 cars, 13.3ms\n",
            "Speed: 3.8ms preprocess, 18.0ms inference, 1.7ms postprocess per image at shape (1, 3, 384, 640)\n",
            "Results saved to \u001b[1mruns/detect/train2\u001b[0m\n"
          ]
        }
      ]
    }
  ]
}